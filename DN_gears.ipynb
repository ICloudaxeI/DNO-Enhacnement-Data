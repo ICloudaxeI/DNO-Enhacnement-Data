{
  "nbformat": 4,
  "nbformat_minor": 0,
  "metadata": {
    "colab": {
      "provenance": [],
      "collapsed_sections": [
        "1YE3tbToefEh"
      ],
      "mount_file_id": "1PE31FOetV2Bu0UjMjnhr6HJ4CFMh6ZJF",
      "authorship_tag": "ABX9TyNsVjNd49dg7LEs4UkseSq6",
      "include_colab_link": true
    },
    "kernelspec": {
      "name": "python3",
      "display_name": "Python 3"
    },
    "language_info": {
      "name": "python"
    }
  },
  "cells": [
    {
      "cell_type": "markdown",
      "metadata": {
        "id": "view-in-github",
        "colab_type": "text"
      },
      "source": [
        "<a href=\"https://colab.research.google.com/github/ICloudaxeI/DNO-Enhancement-Data/blob/main/DN_gears.ipynb\" target=\"_parent\"><img src=\"https://colab.research.google.com/assets/colab-badge.svg\" alt=\"Open In Colab\"/></a>"
      ]
    },
    {
      "cell_type": "markdown",
      "source": [
        "# Importing libaries for the data\n",
        "\n"
      ],
      "metadata": {
        "id": "pNQi2iFZJlZT"
      }
    },
    {
      "cell_type": "code",
      "execution_count": 1,
      "metadata": {
        "id": "gwWqLHkbAQ3T"
      },
      "outputs": [],
      "source": [
        "import csv\n",
        "import json\n",
        "import pandas as pd\n",
        "\n",
        "from google.colab import drive"
      ]
    },
    {
      "cell_type": "markdown",
      "source": [
        "# Data Reading"
      ],
      "metadata": {
        "id": "1YE3tbToefEh"
      }
    },
    {
      "cell_type": "markdown",
      "source": [
        "Reading the Json File data for viewing"
      ],
      "metadata": {
        "id": "bXWYUmpSJl7t"
      }
    },
    {
      "cell_type": "code",
      "source": [
        "drive.mount('/content/drive')\n",
        "json_file_path = '/content/drive/MyDrive/Enhancement_data/Enhancements.json'\n",
        "\n",
        "\n",
        "with open(json_file_path, 'r') as json_file:\n",
        "    data = json.load(json_file)\n",
        "\n",
        "# Display the loaded JSON data\n",
        "# data #(remove the \"#\")"
      ],
      "metadata": {
        "id": "ORAI7kYlEHS6",
        "colab": {
          "base_uri": "https://localhost:8080/"
        },
        "outputId": "d00ea192-4248-464e-fbea-21d44e96a3c0"
      },
      "execution_count": 2,
      "outputs": [
        {
          "output_type": "stream",
          "name": "stdout",
          "text": [
            "Drive already mounted at /content/drive; to attempt to forcibly remount, call drive.mount(\"/content/drive\", force_remount=True).\n"
          ]
        }
      ]
    },
    {
      "cell_type": "markdown",
      "source": [
        "Converting C++ code from the Json file to Python"
      ],
      "metadata": {
        "id": "AJ-JZrYnNgr_"
      }
    },
    {
      "cell_type": "code",
      "source": [
        "with open('data.csv', 'w', newline='') as csv_file:\n",
        "    writer = csv.writer(csv_file)\n",
        "\n",
        "    # Write header if needed\n",
        "    # writer.writerow(['Column1', 'Column2', ...])\n",
        "\n",
        "    # Write data rows\n",
        "    for line in data:\n",
        "        # Convert C++ code to Python if needed\n",
        "        # translated_code = translate_to_python(line)\n",
        "\n",
        "        # Write the line to CSV\n",
        "        writer.writerow([line])\n",
        "\n",
        "# Example function to convert C++ code to Python (basic translation)\n",
        "def translate_to_python(cpp_code):\n",
        "    # Example translation, you might need more complex logic depending on your needs\n",
        "    python_code = cpp_code.replace(';', '')  # Remove semicolons\n",
        "    python_code = python_code.replace('{', ':')  # Replace { with :\n",
        "    python_code = python_code.replace('}', '')  # Remove }\n",
        "    return python_code"
      ],
      "metadata": {
        "id": "e71qfuekIqub"
      },
      "execution_count": 3,
      "outputs": []
    },
    {
      "cell_type": "markdown",
      "source": [
        "Extracting specific Parameters from the Json file into the csv file"
      ],
      "metadata": {
        "id": "MKPW1MBZNoon"
      }
    },
    {
      "cell_type": "code",
      "source": [
        "# Extract relevant information and write to CSV file\n",
        "with open('data.csv', 'w', newline='') as csv_file:\n",
        "    writer = csv.writer(csv_file)\n",
        "\n",
        "    # Write header\n",
        "    writer.writerow(['Item Name', 'EnchantLevel', 'EnchantRatio', 'BreakRatio', 'MinDowngrade', 'MaxDowngrade', 'Gold'])\n",
        "\n",
        "    # Extract and write data\n",
        "    for item_name, item_data in data.items():\n",
        "        for detail in item_data['Details']:\n",
        "            enchant_level = detail['EnchantLevel']\n",
        "            enchant_ratio = detail['EnchantRatio']\n",
        "            break_ratio = detail['BreakRatio']\n",
        "            min_downgrade = detail['MinDowngrade']\n",
        "            max_downgrade = detail['MaxDowngrade']\n",
        "            gold = detail['Gold']\n",
        "            writer.writerow([item_name, enchant_level, enchant_ratio, break_ratio, min_downgrade, max_downgrade, gold])\n",
        "\n",
        "df = pd.read_csv('data.csv')"
      ],
      "metadata": {
        "id": "DMbGeabSLok0"
      },
      "execution_count": 4,
      "outputs": []
    },
    {
      "cell_type": "markdown",
      "source": [
        "Sorting it by Alphabetic order"
      ],
      "metadata": {
        "id": "agt-0dtlk6FJ"
      }
    },
    {
      "cell_type": "code",
      "source": [
        "# Sort the DataFrame by the values in the first column (alphabetically) and the remaining columns (numerically)\n",
        "df = df.sort_values(by=[df.columns[0]] + list(df.columns[1:].values), ascending=[True] + [True] * (df.shape[1]-1))"
      ],
      "metadata": {
        "id": "We51LwUPkKCj"
      },
      "execution_count": 5,
      "outputs": []
    },
    {
      "cell_type": "markdown",
      "source": [
        "Saving the CSV file to the Google Drive Directory"
      ],
      "metadata": {
        "id": "VYui2s7dOFgd"
      }
    },
    {
      "cell_type": "code",
      "source": [
        "# Mount Google Drive\n",
        "drive.mount('/content/drive')\n",
        "\n",
        "# Define the path to your Google Drive directory\n",
        "google_drive_path = '/content/drive/MyDrive/Enhancement_data'\n",
        "\n",
        "# Saving the csv file to the selected directory\n",
        "df.to_csv('/content/drive/MyDrive/Enhancement_data/data.csv', index=False)"
      ],
      "metadata": {
        "colab": {
          "base_uri": "https://localhost:8080/"
        },
        "id": "PWd_1A5wOPpx",
        "outputId": "1ec0cb05-8fa8-4e7d-dc5c-3e65e673478f"
      },
      "execution_count": 6,
      "outputs": [
        {
          "output_type": "stream",
          "name": "stdout",
          "text": [
            "Drive already mounted at /content/drive; to attempt to forcibly remount, call drive.mount(\"/content/drive\", force_remount=True).\n"
          ]
        }
      ]
    },
    {
      "cell_type": "markdown",
      "source": [
        "# Overview"
      ],
      "metadata": {
        "id": "d7eNAJzNXNqS"
      }
    },
    {
      "cell_type": "markdown",
      "source": [
        "There are 7 classes in Dragon nest: Warrior, Archer, Cleric, Sorceress, Academic, Kali, Assassin, and Lancea. These 7 characters have Legends that is divided into 2 types of Gears that separates their 2nd specialisation. Lancea is an exemption to this as she has only 1 specialisation as of now."
      ],
      "metadata": {
        "id": "jzZ8oLRMO0t6"
      }
    },
    {
      "cell_type": "markdown",
      "source": [
        "There will be 15 CSV Files for each class with the 7 equipment for the Full set (5 armor, 2 weapons) as the list shows:\n",
        "\n",
        "\n",
        "\n",
        "*   Helmet\n",
        "*   Upper body\n",
        "*   Lower body\n",
        "*   Gloves\n",
        "*   shoes\n",
        "*   Primary weapon\n",
        "*   Sedcondary weapon\n",
        "\n"
      ],
      "metadata": {
        "id": "4ms9KQ8cXaV7"
      }
    },
    {
      "cell_type": "markdown",
      "source": [
        "### The list of Epics within the csv file\n",
        "\n",
        "1. Red Army set (cap 24)\n",
        "2. Cerberus set (cap 32)\n",
        "3. Manticore set (cap 40)\n",
        "4. Apocalypse set (cap 40)\n",
        "5. Ancient totem set (cap 50)\n",
        "6. Immortal set (cap 50)\n",
        "7. Dangerous Desire set (cap 60)\n",
        "8. Honorable Tribe set (cap 60)\n",
        "9. Great Ancestors set (cap 60)\n",
        "10. Twisted Obsession set (cap 60)\n",
        "11. Full moon set (cap 70)\n",
        "12. New moon set (cap 70)\n",
        "13. Crescent moon set (cap 70)\n",
        "14. Flint set (cap 80)\n",
        "15. Cinder set (cap 80)\n",
        "16. Comet set (cap 80)"
      ],
      "metadata": {
        "id": "fkTvxXLi0e3X"
      }
    },
    {
      "cell_type": "markdown",
      "source": [
        "### The list of Unique sets within the csv file\n",
        "\n",
        "1. Sea Dragon set\n",
        "2. Green/Emerald Dragon set\n",
        "3. Desert Dragon set\n",
        "4. Black Dragon set\n",
        "5. Red Dragon set"
      ],
      "metadata": {
        "id": "nMYsFkbF17Et"
      }
    },
    {
      "cell_type": "markdown",
      "source": [
        "### The list of Legends within the csv file\n",
        "\n",
        "1. Sword Master - Destroyer\n",
        "2. Mercenary - Illumia\n",
        "3. Sharpshooter - Tracker\n",
        "4. Acrobat - Troublemaker\n",
        "5. Priest - Saviour\n",
        "6. Paladin - Guardian\n",
        "7. Elemental lord/Elementalist - Terminator\n",
        "8. Force User - Contractor\n",
        "9. Alchemist - Changer\n",
        "10. Engineer - Coordinator\n",
        "11. Screamer - Soul Handler\n",
        "12. Dancer - Dancer\n",
        "13. Chaser - Slaughter\n",
        "14. Bringer - Meditation\n",
        "15. Dragoon - Victoria"
      ],
      "metadata": {
        "id": "LtX2bT0XZ-Kn"
      }
    }
  ]
}