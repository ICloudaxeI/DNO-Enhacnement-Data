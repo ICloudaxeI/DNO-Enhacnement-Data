{
  "nbformat": 4,
  "nbformat_minor": 0,
  "metadata": {
    "colab": {
      "provenance": [],
      "authorship_tag": "ABX9TyOPdKIluMQmDRh4yWHDFF/7",
      "include_colab_link": true
    },
    "kernelspec": {
      "name": "python3",
      "display_name": "Python 3"
    },
    "language_info": {
      "name": "python"
    }
  },
  "cells": [
    {
      "cell_type": "markdown",
      "metadata": {
        "id": "view-in-github",
        "colab_type": "text"
      },
      "source": [
        "<a href=\"https://colab.research.google.com/github/ICloudaxeI/DNO-Enhancement-Data/blob/Legends/Legends_DDN_Data.ipynb\" target=\"_parent\"><img src=\"https://colab.research.google.com/assets/colab-badge.svg\" alt=\"Open In Colab\"/></a>"
      ]
    },
    {
      "cell_type": "markdown",
      "source": [
        "#  Importing libaries for the data"
      ],
      "metadata": {
        "id": "bApqvpqZGFeg"
      }
    },
    {
      "cell_type": "code",
      "source": [
        "import csv\n",
        "import pandas as pd\n",
        "\n",
        "from google.colab import drive"
      ],
      "metadata": {
        "id": "5ZIgKjqXGOLb"
      },
      "execution_count": 1,
      "outputs": []
    },
    {
      "cell_type": "markdown",
      "source": [
        "# Legends set\n",
        "\n",
        "Dragon nest have an end-game gear that is obtainable at every dragon raid hardcore difficulty. These End-game gears have additional stats the more you enhance it."
      ],
      "metadata": {
        "id": "quemZ8KtFl2U"
      }
    },
    {
      "cell_type": "markdown",
      "source": [
        "# Extracting L Grades data from the csv file"
      ],
      "metadata": {
        "id": "XNhY-Ia7F4Md"
      }
    },
    {
      "cell_type": "markdown",
      "source": [
        "Getting the saved csv file from the Google Drive Directory"
      ],
      "metadata": {
        "id": "ub2apd16F9Yu"
      }
    },
    {
      "cell_type": "code",
      "execution_count": 2,
      "metadata": {
        "colab": {
          "base_uri": "https://localhost:8080/",
          "height": 441
        },
        "id": "HIZxPdC_Fhcs",
        "outputId": "c4770f15-5056-436d-d77b-d1bd88c5ca93"
      },
      "outputs": [
        {
          "output_type": "stream",
          "name": "stdout",
          "text": [
            "Drive already mounted at /content/drive; to attempt to forcibly remount, call drive.mount(\"/content/drive\", force_remount=True).\n"
          ]
        },
        {
          "output_type": "execute_result",
          "data": {
            "text/plain": [
              "                            Item Name  EnchantLevel  EnchantRatio  BreakRatio  \\\n",
              "0             Ancient Totem Arm Blade             1         100.0         0.0   \n",
              "1             Ancient Totem Arm Blade             2         100.0         0.0   \n",
              "2             Ancient Totem Arm Blade             3         100.0         0.0   \n",
              "3             Ancient Totem Arm Blade             4         100.0         0.0   \n",
              "4             Ancient Totem Arm Blade             5         100.0         0.0   \n",
              "...                               ...           ...           ...         ...   \n",
              "23290  Twisted obsession Wrist Guards            11          25.0        25.0   \n",
              "23291  Twisted obsession Wrist Guards            12          20.0        25.0   \n",
              "23292  Twisted obsession Wrist Guards            13          15.0        25.0   \n",
              "23293  Twisted obsession Wrist Guards            14           5.0        25.0   \n",
              "23294  Twisted obsession Wrist Guards            15           1.0        25.0   \n",
              "\n",
              "       MinDowngrade  MaxDowngrade  Gold  \n",
              "0                 0             0     0  \n",
              "1                 0             0     0  \n",
              "2                 0             0     0  \n",
              "3                 0             0     1  \n",
              "4                 0             0     1  \n",
              "...             ...           ...   ...  \n",
              "23290             1             2     1  \n",
              "23291             1             2     2  \n",
              "23292             1             2     3  \n",
              "23293             1             2     5  \n",
              "23294             1             2     8  \n",
              "\n",
              "[23295 rows x 7 columns]"
            ],
            "text/html": [
              "\n",
              "  <div id=\"df-2e64e356-d01f-46be-8aa6-1cfb6d79dc57\" class=\"colab-df-container\">\n",
              "    <div>\n",
              "<style scoped>\n",
              "    .dataframe tbody tr th:only-of-type {\n",
              "        vertical-align: middle;\n",
              "    }\n",
              "\n",
              "    .dataframe tbody tr th {\n",
              "        vertical-align: top;\n",
              "    }\n",
              "\n",
              "    .dataframe thead th {\n",
              "        text-align: right;\n",
              "    }\n",
              "</style>\n",
              "<table border=\"1\" class=\"dataframe\">\n",
              "  <thead>\n",
              "    <tr style=\"text-align: right;\">\n",
              "      <th></th>\n",
              "      <th>Item Name</th>\n",
              "      <th>EnchantLevel</th>\n",
              "      <th>EnchantRatio</th>\n",
              "      <th>BreakRatio</th>\n",
              "      <th>MinDowngrade</th>\n",
              "      <th>MaxDowngrade</th>\n",
              "      <th>Gold</th>\n",
              "    </tr>\n",
              "  </thead>\n",
              "  <tbody>\n",
              "    <tr>\n",
              "      <th>0</th>\n",
              "      <td>Ancient Totem Arm Blade</td>\n",
              "      <td>1</td>\n",
              "      <td>100.0</td>\n",
              "      <td>0.0</td>\n",
              "      <td>0</td>\n",
              "      <td>0</td>\n",
              "      <td>0</td>\n",
              "    </tr>\n",
              "    <tr>\n",
              "      <th>1</th>\n",
              "      <td>Ancient Totem Arm Blade</td>\n",
              "      <td>2</td>\n",
              "      <td>100.0</td>\n",
              "      <td>0.0</td>\n",
              "      <td>0</td>\n",
              "      <td>0</td>\n",
              "      <td>0</td>\n",
              "    </tr>\n",
              "    <tr>\n",
              "      <th>2</th>\n",
              "      <td>Ancient Totem Arm Blade</td>\n",
              "      <td>3</td>\n",
              "      <td>100.0</td>\n",
              "      <td>0.0</td>\n",
              "      <td>0</td>\n",
              "      <td>0</td>\n",
              "      <td>0</td>\n",
              "    </tr>\n",
              "    <tr>\n",
              "      <th>3</th>\n",
              "      <td>Ancient Totem Arm Blade</td>\n",
              "      <td>4</td>\n",
              "      <td>100.0</td>\n",
              "      <td>0.0</td>\n",
              "      <td>0</td>\n",
              "      <td>0</td>\n",
              "      <td>1</td>\n",
              "    </tr>\n",
              "    <tr>\n",
              "      <th>4</th>\n",
              "      <td>Ancient Totem Arm Blade</td>\n",
              "      <td>5</td>\n",
              "      <td>100.0</td>\n",
              "      <td>0.0</td>\n",
              "      <td>0</td>\n",
              "      <td>0</td>\n",
              "      <td>1</td>\n",
              "    </tr>\n",
              "    <tr>\n",
              "      <th>...</th>\n",
              "      <td>...</td>\n",
              "      <td>...</td>\n",
              "      <td>...</td>\n",
              "      <td>...</td>\n",
              "      <td>...</td>\n",
              "      <td>...</td>\n",
              "      <td>...</td>\n",
              "    </tr>\n",
              "    <tr>\n",
              "      <th>23290</th>\n",
              "      <td>Twisted obsession Wrist Guards</td>\n",
              "      <td>11</td>\n",
              "      <td>25.0</td>\n",
              "      <td>25.0</td>\n",
              "      <td>1</td>\n",
              "      <td>2</td>\n",
              "      <td>1</td>\n",
              "    </tr>\n",
              "    <tr>\n",
              "      <th>23291</th>\n",
              "      <td>Twisted obsession Wrist Guards</td>\n",
              "      <td>12</td>\n",
              "      <td>20.0</td>\n",
              "      <td>25.0</td>\n",
              "      <td>1</td>\n",
              "      <td>2</td>\n",
              "      <td>2</td>\n",
              "    </tr>\n",
              "    <tr>\n",
              "      <th>23292</th>\n",
              "      <td>Twisted obsession Wrist Guards</td>\n",
              "      <td>13</td>\n",
              "      <td>15.0</td>\n",
              "      <td>25.0</td>\n",
              "      <td>1</td>\n",
              "      <td>2</td>\n",
              "      <td>3</td>\n",
              "    </tr>\n",
              "    <tr>\n",
              "      <th>23293</th>\n",
              "      <td>Twisted obsession Wrist Guards</td>\n",
              "      <td>14</td>\n",
              "      <td>5.0</td>\n",
              "      <td>25.0</td>\n",
              "      <td>1</td>\n",
              "      <td>2</td>\n",
              "      <td>5</td>\n",
              "    </tr>\n",
              "    <tr>\n",
              "      <th>23294</th>\n",
              "      <td>Twisted obsession Wrist Guards</td>\n",
              "      <td>15</td>\n",
              "      <td>1.0</td>\n",
              "      <td>25.0</td>\n",
              "      <td>1</td>\n",
              "      <td>2</td>\n",
              "      <td>8</td>\n",
              "    </tr>\n",
              "  </tbody>\n",
              "</table>\n",
              "<p>23295 rows × 7 columns</p>\n",
              "</div>\n",
              "    <div class=\"colab-df-buttons\">\n",
              "\n",
              "  <div class=\"colab-df-container\">\n",
              "    <button class=\"colab-df-convert\" onclick=\"convertToInteractive('df-2e64e356-d01f-46be-8aa6-1cfb6d79dc57')\"\n",
              "            title=\"Convert this dataframe to an interactive table.\"\n",
              "            style=\"display:none;\">\n",
              "\n",
              "  <svg xmlns=\"http://www.w3.org/2000/svg\" height=\"24px\" viewBox=\"0 -960 960 960\">\n",
              "    <path d=\"M120-120v-720h720v720H120Zm60-500h600v-160H180v160Zm220 220h160v-160H400v160Zm0 220h160v-160H400v160ZM180-400h160v-160H180v160Zm440 0h160v-160H620v160ZM180-180h160v-160H180v160Zm440 0h160v-160H620v160Z\"/>\n",
              "  </svg>\n",
              "    </button>\n",
              "\n",
              "  <style>\n",
              "    .colab-df-container {\n",
              "      display:flex;\n",
              "      gap: 12px;\n",
              "    }\n",
              "\n",
              "    .colab-df-convert {\n",
              "      background-color: #E8F0FE;\n",
              "      border: none;\n",
              "      border-radius: 50%;\n",
              "      cursor: pointer;\n",
              "      display: none;\n",
              "      fill: #1967D2;\n",
              "      height: 32px;\n",
              "      padding: 0 0 0 0;\n",
              "      width: 32px;\n",
              "    }\n",
              "\n",
              "    .colab-df-convert:hover {\n",
              "      background-color: #E2EBFA;\n",
              "      box-shadow: 0px 1px 2px rgba(60, 64, 67, 0.3), 0px 1px 3px 1px rgba(60, 64, 67, 0.15);\n",
              "      fill: #174EA6;\n",
              "    }\n",
              "\n",
              "    .colab-df-buttons div {\n",
              "      margin-bottom: 4px;\n",
              "    }\n",
              "\n",
              "    [theme=dark] .colab-df-convert {\n",
              "      background-color: #3B4455;\n",
              "      fill: #D2E3FC;\n",
              "    }\n",
              "\n",
              "    [theme=dark] .colab-df-convert:hover {\n",
              "      background-color: #434B5C;\n",
              "      box-shadow: 0px 1px 3px 1px rgba(0, 0, 0, 0.15);\n",
              "      filter: drop-shadow(0px 1px 2px rgba(0, 0, 0, 0.3));\n",
              "      fill: #FFFFFF;\n",
              "    }\n",
              "  </style>\n",
              "\n",
              "    <script>\n",
              "      const buttonEl =\n",
              "        document.querySelector('#df-2e64e356-d01f-46be-8aa6-1cfb6d79dc57 button.colab-df-convert');\n",
              "      buttonEl.style.display =\n",
              "        google.colab.kernel.accessAllowed ? 'block' : 'none';\n",
              "\n",
              "      async function convertToInteractive(key) {\n",
              "        const element = document.querySelector('#df-2e64e356-d01f-46be-8aa6-1cfb6d79dc57');\n",
              "        const dataTable =\n",
              "          await google.colab.kernel.invokeFunction('convertToInteractive',\n",
              "                                                    [key], {});\n",
              "        if (!dataTable) return;\n",
              "\n",
              "        const docLinkHtml = 'Like what you see? Visit the ' +\n",
              "          '<a target=\"_blank\" href=https://colab.research.google.com/notebooks/data_table.ipynb>data table notebook</a>'\n",
              "          + ' to learn more about interactive tables.';\n",
              "        element.innerHTML = '';\n",
              "        dataTable['output_type'] = 'display_data';\n",
              "        await google.colab.output.renderOutput(dataTable, element);\n",
              "        const docLink = document.createElement('div');\n",
              "        docLink.innerHTML = docLinkHtml;\n",
              "        element.appendChild(docLink);\n",
              "      }\n",
              "    </script>\n",
              "  </div>\n",
              "\n",
              "\n",
              "<div id=\"df-f46975e6-e69d-47ee-ae8b-c935bd205638\">\n",
              "  <button class=\"colab-df-quickchart\" onclick=\"quickchart('df-f46975e6-e69d-47ee-ae8b-c935bd205638')\"\n",
              "            title=\"Suggest charts\"\n",
              "            style=\"display:none;\">\n",
              "\n",
              "<svg xmlns=\"http://www.w3.org/2000/svg\" height=\"24px\"viewBox=\"0 0 24 24\"\n",
              "     width=\"24px\">\n",
              "    <g>\n",
              "        <path d=\"M19 3H5c-1.1 0-2 .9-2 2v14c0 1.1.9 2 2 2h14c1.1 0 2-.9 2-2V5c0-1.1-.9-2-2-2zM9 17H7v-7h2v7zm4 0h-2V7h2v10zm4 0h-2v-4h2v4z\"/>\n",
              "    </g>\n",
              "</svg>\n",
              "  </button>\n",
              "\n",
              "<style>\n",
              "  .colab-df-quickchart {\n",
              "      --bg-color: #E8F0FE;\n",
              "      --fill-color: #1967D2;\n",
              "      --hover-bg-color: #E2EBFA;\n",
              "      --hover-fill-color: #174EA6;\n",
              "      --disabled-fill-color: #AAA;\n",
              "      --disabled-bg-color: #DDD;\n",
              "  }\n",
              "\n",
              "  [theme=dark] .colab-df-quickchart {\n",
              "      --bg-color: #3B4455;\n",
              "      --fill-color: #D2E3FC;\n",
              "      --hover-bg-color: #434B5C;\n",
              "      --hover-fill-color: #FFFFFF;\n",
              "      --disabled-bg-color: #3B4455;\n",
              "      --disabled-fill-color: #666;\n",
              "  }\n",
              "\n",
              "  .colab-df-quickchart {\n",
              "    background-color: var(--bg-color);\n",
              "    border: none;\n",
              "    border-radius: 50%;\n",
              "    cursor: pointer;\n",
              "    display: none;\n",
              "    fill: var(--fill-color);\n",
              "    height: 32px;\n",
              "    padding: 0;\n",
              "    width: 32px;\n",
              "  }\n",
              "\n",
              "  .colab-df-quickchart:hover {\n",
              "    background-color: var(--hover-bg-color);\n",
              "    box-shadow: 0 1px 2px rgba(60, 64, 67, 0.3), 0 1px 3px 1px rgba(60, 64, 67, 0.15);\n",
              "    fill: var(--button-hover-fill-color);\n",
              "  }\n",
              "\n",
              "  .colab-df-quickchart-complete:disabled,\n",
              "  .colab-df-quickchart-complete:disabled:hover {\n",
              "    background-color: var(--disabled-bg-color);\n",
              "    fill: var(--disabled-fill-color);\n",
              "    box-shadow: none;\n",
              "  }\n",
              "\n",
              "  .colab-df-spinner {\n",
              "    border: 2px solid var(--fill-color);\n",
              "    border-color: transparent;\n",
              "    border-bottom-color: var(--fill-color);\n",
              "    animation:\n",
              "      spin 1s steps(1) infinite;\n",
              "  }\n",
              "\n",
              "  @keyframes spin {\n",
              "    0% {\n",
              "      border-color: transparent;\n",
              "      border-bottom-color: var(--fill-color);\n",
              "      border-left-color: var(--fill-color);\n",
              "    }\n",
              "    20% {\n",
              "      border-color: transparent;\n",
              "      border-left-color: var(--fill-color);\n",
              "      border-top-color: var(--fill-color);\n",
              "    }\n",
              "    30% {\n",
              "      border-color: transparent;\n",
              "      border-left-color: var(--fill-color);\n",
              "      border-top-color: var(--fill-color);\n",
              "      border-right-color: var(--fill-color);\n",
              "    }\n",
              "    40% {\n",
              "      border-color: transparent;\n",
              "      border-right-color: var(--fill-color);\n",
              "      border-top-color: var(--fill-color);\n",
              "    }\n",
              "    60% {\n",
              "      border-color: transparent;\n",
              "      border-right-color: var(--fill-color);\n",
              "    }\n",
              "    80% {\n",
              "      border-color: transparent;\n",
              "      border-right-color: var(--fill-color);\n",
              "      border-bottom-color: var(--fill-color);\n",
              "    }\n",
              "    90% {\n",
              "      border-color: transparent;\n",
              "      border-bottom-color: var(--fill-color);\n",
              "    }\n",
              "  }\n",
              "</style>\n",
              "\n",
              "  <script>\n",
              "    async function quickchart(key) {\n",
              "      const quickchartButtonEl =\n",
              "        document.querySelector('#' + key + ' button');\n",
              "      quickchartButtonEl.disabled = true;  // To prevent multiple clicks.\n",
              "      quickchartButtonEl.classList.add('colab-df-spinner');\n",
              "      try {\n",
              "        const charts = await google.colab.kernel.invokeFunction(\n",
              "            'suggestCharts', [key], {});\n",
              "      } catch (error) {\n",
              "        console.error('Error during call to suggestCharts:', error);\n",
              "      }\n",
              "      quickchartButtonEl.classList.remove('colab-df-spinner');\n",
              "      quickchartButtonEl.classList.add('colab-df-quickchart-complete');\n",
              "    }\n",
              "    (() => {\n",
              "      let quickchartButtonEl =\n",
              "        document.querySelector('#df-f46975e6-e69d-47ee-ae8b-c935bd205638 button');\n",
              "      quickchartButtonEl.style.display =\n",
              "        google.colab.kernel.accessAllowed ? 'block' : 'none';\n",
              "    })();\n",
              "  </script>\n",
              "</div>\n",
              "    </div>\n",
              "  </div>\n"
            ],
            "application/vnd.google.colaboratory.intrinsic+json": {
              "type": "dataframe",
              "variable_name": "df",
              "summary": "{\n  \"name\": \"df\",\n  \"rows\": 23295,\n  \"fields\": [\n    {\n      \"column\": \"Item Name\",\n      \"properties\": {\n        \"dtype\": \"category\",\n        \"num_unique_values\": 1553,\n        \"samples\": [\n          \"Twisted obsession Mitten\",\n          \"Black Dragon Terminator Orb\",\n          \"Cerberus Sandals\"\n        ],\n        \"semantic_type\": \"\",\n        \"description\": \"\"\n      }\n    },\n    {\n      \"column\": \"EnchantLevel\",\n      \"properties\": {\n        \"dtype\": \"number\",\n        \"std\": 4,\n        \"min\": 1,\n        \"max\": 15,\n        \"num_unique_values\": 15,\n        \"samples\": [\n          10,\n          12,\n          1\n        ],\n        \"semantic_type\": \"\",\n        \"description\": \"\"\n      }\n    },\n    {\n      \"column\": \"EnchantRatio\",\n      \"properties\": {\n        \"dtype\": \"number\",\n        \"std\": 38.86384918385651,\n        \"min\": 1.0,\n        \"max\": 100.0,\n        \"num_unique_values\": 12,\n        \"samples\": [\n          33.33,\n          1.0,\n          100.0\n        ],\n        \"semantic_type\": \"\",\n        \"description\": \"\"\n      }\n    },\n    {\n      \"column\": \"BreakRatio\",\n      \"properties\": {\n        \"dtype\": \"number\",\n        \"std\": 12.24771159957899,\n        \"min\": 0.0,\n        \"max\": 25.0,\n        \"num_unique_values\": 2,\n        \"samples\": [\n          25.0,\n          0.0\n        ],\n        \"semantic_type\": \"\",\n        \"description\": \"\"\n      }\n    },\n    {\n      \"column\": \"MinDowngrade\",\n      \"properties\": {\n        \"dtype\": \"number\",\n        \"std\": 0,\n        \"min\": 0,\n        \"max\": 1,\n        \"num_unique_values\": 2,\n        \"samples\": [\n          1,\n          0\n        ],\n        \"semantic_type\": \"\",\n        \"description\": \"\"\n      }\n    },\n    {\n      \"column\": \"MaxDowngrade\",\n      \"properties\": {\n        \"dtype\": \"number\",\n        \"std\": 0,\n        \"min\": 0,\n        \"max\": 2,\n        \"num_unique_values\": 3,\n        \"samples\": [\n          0,\n          1\n        ],\n        \"semantic_type\": \"\",\n        \"description\": \"\"\n      }\n    },\n    {\n      \"column\": \"Gold\",\n      \"properties\": {\n        \"dtype\": \"number\",\n        \"std\": 1722,\n        \"min\": 0,\n        \"max\": 28027,\n        \"num_unique_values\": 377,\n        \"samples\": [\n          4330,\n          1280\n        ],\n        \"semantic_type\": \"\",\n        \"description\": \"\"\n      }\n    }\n  ]\n}"
            }
          },
          "metadata": {},
          "execution_count": 2
        }
      ],
      "source": [
        "# Reading the csv file from the Google Drive Directory\n",
        "drive.mount('/content/drive')\n",
        "csv_file_path = '/content/drive/MyDrive/Enhancement_data/data.csv'\n",
        "\n",
        "df = pd.read_csv(csv_file_path)\n",
        "df"
      ]
    },
    {
      "cell_type": "markdown",
      "source": [
        "Create a function that calls the name of the item and getting their row number to convert in to a string"
      ],
      "metadata": {
        "id": "whoetr8DHQTa"
      }
    },
    {
      "cell_type": "code",
      "source": [
        "def get_item_info(keyword):\n",
        "    # Filter the DataFrame to get all columns for items containing the keyword\n",
        "    item_info = df[df['Item Name'].str.contains(keyword, case=False)]\n",
        "\n",
        "    return item_info\n",
        "\n",
        "def extract_row_numbers(item_info):\n",
        "    # Extract row numbers and turn them into a string\n",
        "    row_numbers_str = ', '.join(map(str, item_info.index.tolist()))\n",
        "\n",
        "    return row_numbers_str"
      ],
      "metadata": {
        "id": "-P-EK8VAHT47"
      },
      "execution_count": 3,
      "outputs": []
    },
    {
      "cell_type": "markdown",
      "source": [
        "Testing the created function"
      ],
      "metadata": {
        "id": "vY9Y0Q8UHjDC"
      }
    },
    {
      "cell_type": "code",
      "source": [
        "keyword_test = \"Manticore\"  # Replace with the keyword you want to search for\n",
        "item_info_test = get_item_info(keyword_test)\n",
        "\n",
        "row_numbers_str_test = extract_row_numbers(item_info_test)\n",
        "print(row_numbers_str_test)"
      ],
      "metadata": {
        "colab": {
          "base_uri": "https://localhost:8080/"
        },
        "id": "CiZFkbWjHokk",
        "outputId": "67ee989f-d7ab-4218-8d1d-5aac7bf43b3c"
      },
      "execution_count": 4,
      "outputs": [
        {
          "output_type": "stream",
          "name": "stdout",
          "text": [
            "16740, 16741, 16742, 16743, 16744, 16745, 16746, 16747, 16748, 16749, 16750, 16751, 16752, 16753, 16754, 16755, 16756, 16757, 16758, 16759, 16760, 16761, 16762, 16763, 16764, 16765, 16766, 16767, 16768, 16769, 16770, 16771, 16772, 16773, 16774, 16775, 16776, 16777, 16778, 16779, 16780, 16781, 16782, 16783, 16784, 16785, 16786, 16787, 16788, 16789, 16790, 16791, 16792, 16793, 16794, 16795, 16796, 16797, 16798, 16799, 16800, 16801, 16802, 16803, 16804, 16805, 16806, 16807, 16808, 16809, 16810, 16811, 16812, 16813, 16814, 16815, 16816, 16817, 16818, 16819, 16820, 16821, 16822, 16823, 16824, 16825, 16826, 16827, 16828, 16829, 16830, 16831, 16832, 16833, 16834, 16835, 16836, 16837, 16838, 16839, 16840, 16841, 16842, 16843, 16844, 16845, 16846, 16847, 16848, 16849, 16850, 16851, 16852, 16853, 16854, 16855, 16856, 16857, 16858, 16859, 16860, 16861, 16862, 16863, 16864, 16865, 16866, 16867, 16868, 16869, 16870, 16871, 16872, 16873, 16874, 16875, 16876, 16877, 16878, 16879, 16880, 16881, 16882, 16883, 16884, 16885, 16886, 16887, 16888, 16889, 16890, 16891, 16892, 16893, 16894, 16895, 16896, 16897, 16898, 16899, 16900, 16901, 16902, 16903, 16904, 16905, 16906, 16907, 16908, 16909, 16910, 16911, 16912, 16913, 16914, 16915, 16916, 16917, 16918, 16919, 16920, 16921, 16922, 16923, 16924, 16925, 16926, 16927, 16928, 16929, 16930, 16931, 16932, 16933, 16934, 16935, 16936, 16937, 16938, 16939, 16940, 16941, 16942, 16943, 16944, 16945, 16946, 16947, 16948, 16949, 16950, 16951, 16952, 16953, 16954, 16955, 16956, 16957, 16958, 16959, 16960, 16961, 16962, 16963, 16964, 16965, 16966, 16967, 16968, 16969, 16970, 16971, 16972, 16973, 16974, 16975, 16976, 16977, 16978, 16979, 16980, 16981, 16982, 16983, 16984, 16985, 16986, 16987, 16988, 16989, 16990, 16991, 16992, 16993, 16994, 16995, 16996, 16997, 16998, 16999, 17000, 17001, 17002, 17003, 17004, 17005, 17006, 17007, 17008, 17009, 17010, 17011, 17012, 17013, 17014, 17015, 17016, 17017, 17018, 17019, 17020, 17021, 17022, 17023, 17024, 17025, 17026, 17027, 17028, 17029, 17030, 17031, 17032, 17033, 17034, 17035, 17036, 17037, 17038, 17039, 17040, 17041, 17042, 17043, 17044, 17045, 17046, 17047, 17048, 17049, 17050, 17051, 17052, 17053, 17054, 17055, 17056, 17057, 17058, 17059, 17060, 17061, 17062, 17063, 17064, 17065, 17066, 17067, 17068, 17069, 17070, 17071, 17072, 17073, 17074, 17075, 17076, 17077, 17078, 17079, 17080, 17081, 17082, 17083, 17084, 17085, 17086, 17087, 17088, 17089, 17090, 17091, 17092, 17093, 17094, 17095, 17096, 17097, 17098, 17099, 17100, 17101, 17102, 17103, 17104, 17105, 17106, 17107, 17108, 17109, 17110, 17111, 17112, 17113, 17114, 17115, 17116, 17117, 17118, 17119, 17120, 17121, 17122, 17123, 17124, 17125, 17126, 17127, 17128, 17129, 17130, 17131, 17132, 17133, 17134, 17135, 17136, 17137, 17138, 17139, 17140, 17141, 17142, 17143, 17144, 17145, 17146, 17147, 17148, 17149, 17150, 17151, 17152, 17153, 17154, 17155, 17156, 17157, 17158, 17159, 17160, 17161, 17162, 17163, 17164, 17165, 17166, 17167, 17168, 17169, 17170, 17171, 17172, 17173, 17174, 17175, 17176, 17177, 17178, 17179, 17180, 17181, 17182, 17183, 17184, 17185, 17186, 17187, 17188, 17189, 17190, 17191, 17192, 17193, 17194, 17195, 17196, 17197, 17198, 17199, 17200, 17201, 17202, 17203, 17204, 17205, 17206, 17207, 17208, 17209, 17210, 17211, 17212, 17213, 17214, 17215, 17216, 17217, 17218, 17219, 17220, 17221, 17222, 17223, 17224, 17225, 17226, 17227, 17228, 17229, 17230, 17231, 17232, 17233, 17234, 17235, 17236, 17237, 17238, 17239, 17240, 17241, 17242, 17243, 17244, 17245, 17246, 17247, 17248, 17249, 17250, 17251, 17252, 17253, 17254, 17255, 17256, 17257, 17258, 17259, 17260, 17261, 17262, 17263, 17264, 17265, 17266, 17267, 17268, 17269, 17270, 17271, 17272, 17273, 17274, 17275, 17276, 17277, 17278, 17279, 17280, 17281, 17282, 17283, 17284, 17285, 17286, 17287, 17288, 17289, 17290, 17291, 17292, 17293, 17294, 17295, 17296, 17297, 17298, 17299, 17300, 17301, 17302, 17303, 17304, 17305, 17306, 17307, 17308, 17309, 17310, 17311, 17312, 17313, 17314, 17315, 17316, 17317, 17318, 17319, 17320, 17321, 17322, 17323, 17324, 17325, 17326, 17327, 17328, 17329, 17330, 17331, 17332, 17333, 17334, 17335, 17336, 17337, 17338, 17339, 17340, 17341, 17342, 17343, 17344, 17345, 17346, 17347, 17348, 17349, 17350, 17351, 17352, 17353, 17354, 17355, 17356, 17357, 17358, 17359, 17360, 17361, 17362, 17363, 17364, 17365, 17366, 17367, 17368, 17369, 17370, 17371, 17372, 17373, 17374, 17375, 17376, 17377, 17378, 17379, 17380, 17381, 17382, 17383, 17384, 17385, 17386, 17387, 17388, 17389, 17390, 17391, 17392, 17393, 17394, 17395, 17396, 17397, 17398, 17399, 17400, 17401, 17402, 17403, 17404, 17405, 17406, 17407, 17408, 17409, 17410, 17411, 17412, 17413, 17414, 17415, 17416, 17417, 17418, 17419, 17420, 17421, 17422, 17423, 17424, 17425, 17426, 17427, 17428, 17429, 17430, 17431, 17432, 17433, 17434, 17435, 17436, 17437, 17438, 17439, 17440, 17441, 17442, 17443, 17444, 17445, 17446, 17447, 17448, 17449, 17450, 17451, 17452, 17453, 17454, 17455, 17456, 17457, 17458, 17459, 17460, 17461, 17462, 17463, 17464, 17465, 17466, 17467, 17468, 17469, 17470, 17471, 17472, 17473, 17474, 17475, 17476, 17477, 17478, 17479, 17480, 17481, 17482, 17483, 17484, 17485, 17486, 17487, 17488, 17489, 17490, 17491, 17492, 17493, 17494, 17495, 17496, 17497, 17498, 17499, 17500, 17501, 17502, 17503, 17504, 17505, 17506, 17507, 17508, 17509, 17510, 17511, 17512, 17513, 17514, 17515, 17516, 17517, 17518, 17519, 17520, 17521, 17522, 17523, 17524, 17525, 17526, 17527, 17528, 17529, 17530, 17531, 17532, 17533, 17534, 17535, 17536, 17537, 17538, 17539, 17540, 17541, 17542, 17543, 17544, 17545, 17546, 17547, 17548, 17549, 17550, 17551, 17552, 17553, 17554, 17555, 17556, 17557, 17558, 17559, 17560, 17561, 17562, 17563, 17564, 17565, 17566, 17567, 17568, 17569, 17570, 17571, 17572, 17573, 17574, 17575, 17576, 17577, 17578, 17579, 17580, 17581, 17582, 17583, 17584, 17585, 17586, 17587, 17588, 17589, 17590, 17591, 17592, 17593, 17594, 17595, 17596, 17597, 17598, 17599, 17600, 17601, 17602, 17603, 17604, 17605, 17606, 17607, 17608, 17609, 17610, 17611, 17612, 17613, 17614, 17615, 17616, 17617, 17618, 17619, 17620, 17621, 17622, 17623, 17624, 17625, 17626, 17627, 17628, 17629, 17630, 17631, 17632, 17633, 17634, 17635, 17636, 17637, 17638, 17639, 17640, 17641, 17642, 17643, 17644, 17645, 17646, 17647, 17648, 17649, 17650, 17651, 17652, 17653, 17654, 17655, 17656, 17657, 17658, 17659, 17660, 17661, 17662, 17663, 17664, 17665, 17666, 17667, 17668, 17669, 17670, 17671, 17672, 17673, 17674, 17675, 17676, 17677, 17678, 17679, 17680, 17681, 17682, 17683, 17684, 17685, 17686, 17687, 17688, 17689, 17690, 17691, 17692, 17693, 17694, 17695, 17696, 17697, 17698, 17699, 17700, 17701, 17702, 17703, 17704, 17705, 17706, 17707, 17708, 17709, 17710, 17711, 17712, 17713, 17714\n"
          ]
        }
      ]
    },
    {
      "cell_type": "markdown",
      "source": [
        "# Legend sets in Dragon Nest"
      ],
      "metadata": {
        "id": "cdC8vcNqICLz"
      }
    },
    {
      "cell_type": "markdown",
      "source": [
        "The list of Legends within the csv file\n",
        "\n",
        "1. Sword Master - Destroyer\n",
        "2. Mercenary - Illumia\n",
        "3. Sharpshooter - Tracker\n",
        "4. Acrobat - Troublemaker\n",
        "5. Priest - Saviour\n",
        "6. Paladin - Guardian\n",
        "7. Elemental lord/Elementalist - Terminator\n",
        "8. Force User - Contractor\n",
        "9. Alchemist - Changer\n",
        "10. Engineer - Coordinator\n",
        "11. Screamer - Soul Handler\n",
        "12. Dancer - Dancer\n",
        "13. Chaser - Slaughter\n",
        "14. Bringer - Meditation\n",
        "15. Dragoon - Victoria"
      ],
      "metadata": {
        "id": "NEvzW2ZkIF9C"
      }
    },
    {
      "cell_type": "code",
      "source": [
        "# DDNL for warrior\n",
        "keyword_DDNL_sword = \"Desert Dragon Destroyer\"\n",
        "keyword_DDNL_merc = \"Desert Dragon Illumia\"\n",
        "\n",
        "# DDNL for archer\n",
        "keyword_DDNL_sharp = \"Desert Dragon Tracker\"\n",
        "keyword_DDNL_acro = \"Desert Dragon Troublemaker\"\n",
        "\n",
        "# DDNL for cleric\n",
        "keyword_DDNL_priest = \"Desert Dragon Saviour\"\n",
        "keyword_DDNL_pala = \"Desert Dragon Guardian Knight\"\n",
        "\n",
        "# BDNL for sorceress\n",
        "keyword_DDNL_ele = \"Desert Dragon Terminator\"\n",
        "keyword_DDNL_bt = \"Desert Dragon Contractor\"\n",
        "\n",
        "# DDNL for academic\n",
        "keyword_DDNL_slime = \"Desert Dragon Changer\"\n",
        "keyword_DDNL_duck = \"Desert Dragon Coordinator\"\n",
        "\n",
        "# DDNL for kali\n",
        "Keyword_DDNL_curse = \"Desert Dragon Soul Handler\"\n",
        "keyword_DDNL_dance = \"Desert Dragon Dancer\"\n",
        "\n",
        "# DDNL for assassin\n",
        "keyword_DDNL_crow = \"Desert Dragon Slaughter\"\n",
        "keyword_DDNL_medi = \"Desert Dragon Meditation\"\n",
        "\n",
        "# DDNL for lancea\n",
        "keyword_DDNL_spin = \"Desert Dragon Victoria\""
      ],
      "metadata": {
        "id": "Z-c1OMt2ILiP"
      },
      "execution_count": 5,
      "outputs": []
    },
    {
      "cell_type": "markdown",
      "source": [
        "1. Swordmaster (Destroyer) Desert Dragon Legend set"
      ],
      "metadata": {
        "id": "r1v7sK1BIRKS"
      }
    },
    {
      "cell_type": "code",
      "source": [
        "keyword_DDNL1 = keyword_DDNL_sword  # Replace with the keyword you want to search for\n",
        "item_info_DDNL1 = get_item_info(keyword_DDNL1)\n",
        "\n",
        "row_numbers_str_1 = extract_row_numbers(item_info_DDNL1)"
      ],
      "metadata": {
        "id": "yJPxUKYJIjtW"
      },
      "execution_count": 6,
      "outputs": []
    },
    {
      "cell_type": "code",
      "source": [
        "SW_row_indices = [8280, 8281, 8282, 8283, 8284, 8285, 8286, 8287, 8288, 8289, 8290, 8291, 8292, 8293, 8294, # Destroyer Helmet\n",
        "               8310, 8311, 8312, 8313, 8314, 8315, 8316, 8317, 8318, 8319, 8320, 8321, 8322, 8323, 8324, # Destroyer Shirt\n",
        "               8295, 8296, 8297, 8298, 8299, 8300, 8301, 8302, 8303, 8304, 8305, 8306, 8307, 8308, 8309, # Destroyer Pants\n",
        "               8265, 8266, 8267, 8268, 8269, 8270, 8271, 8272, 8273, 8274, 8275, 8276, 8277, 8278, 8279, # Destroyer Gloves\n",
        "               8235, 8236, 8237, 8238, 8239, 8240, 8241, 8242, 8243, 8244, 8245, 8246, 8247, 8248, 8249, # Destroyer Boots\n",
        "               8325, 8326, 8327, 8328, 8329, 8330, 8331, 8332, 8333, 8334, 8335, 8336, 8337, 8338, 8339, # Destroyer Sword\n",
        "               8250, 8251, 8252, 8253, 8254, 8255, 8256, 8257, 8258, 8259, 8260, 8261, 8262, 8263, 8264] # Destroyer Gauntlet\n",
        "\n",
        "# Select specific 15 rows from all columns using the defined indices\n",
        "SW_selected_rows = df.iloc[SW_row_indices, :]\n",
        "\n",
        "# Save the selected rows to a new CSV file\n",
        "SW_selected_rows.to_csv('/content/drive/MyDrive/Enhancement_data/Legends/DDN/Swordmaster.csv', index=False)"
      ],
      "metadata": {
        "id": "FoxfgtDxIm0H"
      },
      "execution_count": 7,
      "outputs": []
    },
    {
      "cell_type": "markdown",
      "source": [
        "2. Mercenary (Illumia) Desert Dragon Legend set\n"
      ],
      "metadata": {
        "id": "pgSvC8EjIw7I"
      }
    },
    {
      "cell_type": "code",
      "source": [
        "keyword_DDNL2 = keyword_DDNL_merc  # Replace with the keyword you want to search for\n",
        "item_info_DDNL2 = get_item_info(keyword_DDNL2)\n",
        "\n",
        "row_numbers_str_2 = extract_row_numbers(item_info_DDNL2)"
      ],
      "metadata": {
        "id": "YROiUEjpI0SC"
      },
      "execution_count": 8,
      "outputs": []
    },
    {
      "cell_type": "code",
      "source": [
        "MERC_row_indices = [8685, 8686, 8687, 8688, 8689, 8690, 8691, 8692, 8693, 8694, 8695, 8696, 8697, 8698, 8699, # Illumia Helmet\n",
        "               8715, 8716, 8717, 8718, 8719, 8720, 8721, 8722, 8723, 8724, 8725, 8726, 8727, 8728, 8729, # Illumia Shirt\n",
        "               8700, 8701, 8702, 8703, 8704, 8705, 8706, 8707, 8708, 8709, 8710, 8711, 8712, 8713, 8714, # Illumia Pants\n",
        "               8655, 8656, 8657, 8658, 8659, 8660, 8661, 8662, 8663, 8664, 8665, 8666, 8667, 8668, 8669, # Illumia Gloves\n",
        "               8625, 8626, 8627, 8628, 8629, 8630, 8631, 8632, 8633, 8634, 8635, 8636, 8637, 8638, 8639, # Illumia Boots\n",
        "               8610, 8611, 8612, 8613, 8614, 8615, 8616, 8617, 8618, 8619, 8620, 8621, 8622, 8623, 8624, # Illumia Axe\n",
        "               8670, 8671, 8672, 8673, 8674, 8675, 8676, 8677, 8678, 8679, 8680, 8681, 8682, 8683, 8684, # Illumia Hammer\n",
        "               8640, 8641, 8642, 8643, 8644, 8645, 8646, 8647, 8648, 8649, 8650, 8651, 8652, 8653, 8654] # Illumia Gauntlet\n",
        "\n",
        "# Select specific 15 rows from all columns using the defined indices\n",
        "MERC_selected_rows = df.iloc[MERC_row_indices, :]\n",
        "\n",
        "# Save the selected rows to a new CSV file\n",
        "MERC_selected_rows.to_csv('/content/drive/MyDrive/Enhancement_data/Legends/DDN/Mercenary.csv', index=False)"
      ],
      "metadata": {
        "id": "wnZ6YmkQI2BI"
      },
      "execution_count": 9,
      "outputs": []
    },
    {
      "cell_type": "markdown",
      "source": [
        "3. Sharpshooter (Tracker) Desert Dragon Legend set\n",
        "\n"
      ],
      "metadata": {
        "id": "lbqKiVWjI_yD"
      }
    },
    {
      "cell_type": "code",
      "source": [
        "keyword_DDNL3 = keyword_DDNL_sharp  # Replace with the keyword you want to search for\n",
        "item_info_DDNL3 = get_item_info(keyword_DDNL3)\n",
        "\n",
        "row_numbers_str_3 = extract_row_numbers(item_info_DDNL3)"
      ],
      "metadata": {
        "id": "o4WzfL2sJArl"
      },
      "execution_count": 10,
      "outputs": []
    },
    {
      "cell_type": "code",
      "source": [
        "Sharp_row_indices = [9795, 9796, 9797, 9798, 9799, 9800, 9801, 9802, 9803, 9804, 9805, 9806, 9807, 9808, 9809, # Tracker Headband\n",
        "               9855, 9856, 9857, 9858, 9859, 9860, 9861, 9862, 9863, 9864, 9865, 9866, 9867, 9868, 9869, # Tracker Onesie\n",
        "               9810, 9811, 9812, 9813, 9814, 9815, 9816, 9817, 9818, 9819, 9820, 9821, 9822, 9823, 9824, # Tracker Leggings\n",
        "               9840, 9841, 9842, 9843, 9844, 9845, 9846, 9847, 9848, 9849, 9850, 9851, 9852, 9853, 9854, # Tracker Mittens\n",
        "               9765, 9766, 9767, 9768, 9769, 9770, 9771, 9772, 9773, 9774, 9775, 9776, 9777, 9778, 9779, # Tracker Booties\n",
        "               9825, 9826, 9827, 9828, 9829, 9830, 9831, 9832, 9833, 9834, 9835, 9836, 9837, 9838, 9839, # Tracker Longbow\n",
        "               9780, 9781, 9782, 9783, 9784, 9785, 9786, 9787, 9788, 9789, 9790, 9791, 9792, 9793, 9794, # Tracker Crossbow\n",
        "               9870, 9871, 9872, 9873, 9874, 9875, 9876, 9877, 9878, 9879, 9880, 9881, 9882, 9883, 9884] # Tracker Quiver\n",
        "\n",
        "# Select specific 15 rows from all columns using the defined indices\n",
        "Sharp_selected_rows = df.iloc[Sharp_row_indices, :]\n",
        "\n",
        "# Save the selected rows to a new CSV file\n",
        "Sharp_selected_rows.to_csv('/content/drive/MyDrive/Enhancement_data/Legends/DDN/SharpShooter.csv', index=False)"
      ],
      "metadata": {
        "id": "DChcjLAsJAf3"
      },
      "execution_count": 11,
      "outputs": []
    },
    {
      "cell_type": "markdown",
      "source": [
        "4. Acrobat (Troublemaker) Desert Dragon Legend set"
      ],
      "metadata": {
        "id": "SmsJPN-LJM37"
      }
    },
    {
      "cell_type": "code",
      "source": [
        "keyword_DDNL4 = keyword_DDNL_acro  # Replace with the keyword you want to search for\n",
        "item_info_DDNL4 = get_item_info(keyword_DDNL4)\n",
        "\n",
        "row_numbers_str_4 = extract_row_numbers(item_info_DDNL4)"
      ],
      "metadata": {
        "id": "EggF6A7FJNYD"
      },
      "execution_count": 12,
      "outputs": []
    },
    {
      "cell_type": "code",
      "source": [
        "Acro_row_indices = [9900, 9901, 9902, 9903, 9904, 9905, 9906, 9907, 9908, 9909, 9910, 9911, 9912, 9913, 9914, # Troublemaker HeadBand\n",
        "               9945, 9946, 9947, 9948, 9949, 9950, 9951, 9952, 9953, 9954, 9955, 9956, 9957, 9958, 9959, # Troublemaker Onesie\n",
        "               9915, 9916, 9917, 9918, 9919, 9920, 9921, 9922, 9923, 9924, 9925, 9926, 9927, 9928, 9929, # Troublemaker Leggings\n",
        "               9930, 9931, 9932, 9933, 9934, 9935, 9936, 9937, 9938, 9939, 9940, 9941, 9942, 9943, 9944, # Troublemaker Mittens\n",
        "               9885, 9886, 9887, 9888, 9889, 9890, 9891, 9892, 9893, 9894, 9895, 9896, 9897, 9898, 9899, # Troublemaker Booties\n",
        "               9975, 9976, 9977, 9978, 9979, 9980, 9981, 9982, 9983, 9984, 9985, 9986, 9987, 9988, 9989, # Troublemaker Shortbow\n",
        "               9960, 9961, 9962, 9963, 9964, 9965, 9966, 9967, 9968, 9969, 9970, 9971, 9972, 9973, 9974] # Troublemaker Quiver\n",
        "\n",
        "# Select specific 15 rows from all columns using the defined indices\n",
        "Acro_selected_rows = df.iloc[Acro_row_indices, :]\n",
        "\n",
        "# Save the selected rows to a new CSV file\n",
        "Acro_selected_rows.to_csv('/content/drive/MyDrive/Enhancement_data/Legends/DDN/Acrobat.csv', index=False)"
      ],
      "metadata": {
        "id": "7NeaWpiaJNoI"
      },
      "execution_count": 13,
      "outputs": []
    },
    {
      "cell_type": "markdown",
      "source": [
        "5. Priest (Saviour) Desert Dragon Legend set\n"
      ],
      "metadata": {
        "id": "TySamPDuJYZm"
      }
    },
    {
      "cell_type": "code",
      "source": [
        "keyword_DDNL5 = keyword_DDNL_priest  # Replace with the keyword you want to search for\n",
        "item_info_DDNL5 = get_item_info(keyword_DDNL5)\n",
        "\n",
        "row_numbers_str_5 = extract_row_numbers(item_info_DDNL5)"
      ],
      "metadata": {
        "id": "TtRTdckiJZi4"
      },
      "execution_count": 14,
      "outputs": []
    },
    {
      "cell_type": "code",
      "source": [
        "priest_row_indices = [9165, 9166, 9167, 9168, 9169, 9170, 9171, 9172, 9173, 9174, 9175, 9176, 9177, 9178, 9179, # Saviour Galero\n",
        "               9135, 9136, 9137, 9138, 9139, 9140, 9141, 9142, 9143, 9144, 9145, 9146, 9147, 9148, 9149, # Saviour Armour\n",
        "               9210, 9211, 9212, 9213, 9214, 9215, 9216, 9217, 9218, 9219, 9220, 9221, 9222, 9223, 9224, # Saviour Trousers\n",
        "               9150, 9151, 9152, 9153, 9154, 9155, 9156, 9157, 9158, 9159, 9160, 9161, 9162, 9163, 9164, # Saviour Cuffs\n",
        "               9195, 9196, 9197, 9198, 9199, 9200, 9201, 9202, 9203, 9204, 9205, 9206, 9207, 9208, 9209, # Saviour Shoes\n",
        "               9225, 9226, 9227, 9228, 9229, 9230, 9231, 9232, 9233, 9234, 9235, 9236, 9237, 9238, 9239, # Saviour Wand\n",
        "               9180, 9181, 9182, 9183, 9184, 9185, 9186, 9187, 9188, 9189, 9190, 9191, 9192, 9193, 9194] # Saviour Shield\n",
        "\n",
        "# Select specific 15 rows from all columns using the defined indices\n",
        "priest_selected_rows = df.iloc[priest_row_indices, :]\n",
        "\n",
        "# Save the selected rows to a new CSV file\n",
        "priest_selected_rows.to_csv('/content/drive/MyDrive/Enhancement_data/Legends/DDN/Priest.csv', index=False)"
      ],
      "metadata": {
        "id": "B2k5BXKcJZPz"
      },
      "execution_count": 15,
      "outputs": []
    },
    {
      "cell_type": "markdown",
      "source": [
        "6. Paladin (Guardian) Desert Dragon Legend set"
      ],
      "metadata": {
        "id": "Gks08Rc6JnKk"
      }
    },
    {
      "cell_type": "code",
      "source": [
        "keyword_DDNL6 = keyword_DDNL_pala  # Replace with the keyword you want to search for\n",
        "item_info_DDNL6 = get_item_info(keyword_DDNL6)\n",
        "\n",
        "row_numbers_str_6 = extract_row_numbers(item_info_DDNL6)"
      ],
      "metadata": {
        "id": "TtZZae7MJnnh"
      },
      "execution_count": 16,
      "outputs": []
    },
    {
      "cell_type": "code",
      "source": [
        "pala_row_indices = [8475, 8476, 8477, 8478, 8479, 8480, 8481, 8482, 8483, 8484, 8485, 8486, 8487, 8488, 8489, # Guardian Knight Galero\n",
        "               8430, 8431, 8432, 8433, 8434, 8435, 8436, 8437, 8438, 8439, 8440, 8441, 8442, 8443, 8444, # Guardian Knight Armour\n",
        "               8535, 8536, 8537, 8538, 8539, 8540, 8541, 8542, 8543, 8544, 8545, 8546, 8547, 8548, 8549, # Guardian Knight Trousers\n",
        "               8445, 8446, 8447, 8448, 8449, 8450, 8451, 8452, 8453, 8454, 8455, 8456, 8457, 8458, 8459, # Guardian Knight Cuffs\n",
        "               8520, 8521, 8522, 8523, 8524, 8525, 8526, 8527, 8528, 8529, 8530, 8531, 8532, 8533, 8534, # Guardian Knight Shoes\n",
        "               8460, 8461, 8462, 8463, 8464, 8465, 8466, 8467, 8468, 8469, 8470, 8471, 8472, 8473, 8474, # Guardian Knight Flail\n",
        "               8490, 8491, 8492, 8493, 8494, 8495, 8496, 8497, 8498, 8499, 8500, 8501, 8502, 8503, 8504, # Guardian Knight Mace\n",
        "               8505, 8506, 8507, 8508, 8509, 8510, 8511, 8512, 8513, 8514, 8515, 8516, 8517, 8518, 8519] # Guardian Knight Shield\n",
        "\n",
        "# Select specific 15 rows from all columns using the defined indices\n",
        "pala_selected_rows = df.iloc[pala_row_indices, :]\n",
        "\n",
        "# Save the selected rows to a new CSV file\n",
        "pala_selected_rows.to_csv('/content/drive/MyDrive/Enhancement_data/Legends/DDN/Paladin.csv', index=False)"
      ],
      "metadata": {
        "id": "G5HI8FI_Jnx0"
      },
      "execution_count": 17,
      "outputs": []
    },
    {
      "cell_type": "markdown",
      "source": [
        "7. Elementalist/Elemental Lord (Terminator) Desert Dragon Legend set"
      ],
      "metadata": {
        "id": "j6vGDewPJylU"
      }
    },
    {
      "cell_type": "code",
      "source": [
        "keyword_DDNL7 = keyword_DDNL_ele  # Replace with the keyword you want to search for\n",
        "item_info_DDNL7 = get_item_info(keyword_DDNL7)\n",
        "\n",
        "row_numbers_str_7 = extract_row_numbers(item_info_DDNL7)"
      ],
      "metadata": {
        "id": "C1Nx44vpJzLa"
      },
      "execution_count": 18,
      "outputs": []
    },
    {
      "cell_type": "code",
      "source": [
        "ele_row_indices = [9690, 9691, 9692, 9693, 9694, 9695, 9696, 9697, 9698, 9699, 9700, 9701, 9702, 9703, 9704, # Terminator Tiara\n",
        "               9645, 9646, 9647, 9648, 9649, 9650, 9651, 9652, 9653, 9654, 9655, 9656, 9657, 9658, 9659, # Terminator Robe\n",
        "               9705, 9706, 9707, 9708, 9709, 9710, 9711, 9712, 9713, 9714, 9715, 9716, 9717, 9718, 9719, # Terminator Tights\n",
        "               9615, 9616, 9617, 9618, 9619, 9620, 9621, 9622, 9623, 9624, 9625, 9626, 9627, 9628, 9629, # Terminator Muff\n",
        "               9600, 9601, 9602, 9603, 9604, 9605, 9606, 9607, 9608, 9609, 9610, 9611, 9612, 9613, 9614, # Terminator Heels\n",
        "               9675, 9676, 9677, 9678, 9679, 9680, 9681, 9682, 9683, 9684, 9685, 9686, 9687, 9688, 9689, # Terminator Staff\n",
        "               9630, 9631, 9632, 9633, 9634, 9635, 9636, 9637, 9638, 9639, 9640, 9641, 9642, 9643, 9644, # Terminator Orb\n",
        "               9660, 9661, 9662, 9663, 9664, 9665, 9666, 9667, 9668, 9669, 9670, 9671, 9672, 9673, 9674, # Terminator Spellbook\n",
        "               9720, 9721, 9722, 9723, 9724, 9725, 9726, 9727, 9728, 9729, 9730, 9731, 9732, 9733, 9734] # Terminator Voodoo Doll\n",
        "\n",
        "# Select specific 15 rows from all columns using the defined indices\n",
        "ele_selected_rows = df.iloc[ele_row_indices, :]\n",
        "\n",
        "# Save the selected rows to a new CSV file\n",
        "ele_selected_rows.to_csv('/content/drive/MyDrive/Enhancement_data/Legends/DDN/Elementalist.csv', index=False)"
      ],
      "metadata": {
        "id": "GjvTNUy_Jyy8"
      },
      "execution_count": 19,
      "outputs": []
    },
    {
      "cell_type": "markdown",
      "source": [
        "8. Force User (Contractor) Desert Dragon Legend set"
      ],
      "metadata": {
        "id": "uN3DuqelKDPr"
      }
    },
    {
      "cell_type": "code",
      "source": [
        "keyword_DDNL8 = keyword_DDNL_bt  # Replace with the keyword you want to search for\n",
        "item_info_DDNL8 = get_item_info(keyword_DDNL8)\n",
        "\n",
        "row_numbers_str_8 = extract_row_numbers(item_info_DDNL8)"
      ],
      "metadata": {
        "id": "cEE7dgWBKDiT"
      },
      "execution_count": 20,
      "outputs": []
    },
    {
      "cell_type": "code",
      "source": [
        "bt_row_indices = [7935, 7936, 7937, 7938, 7939, 7940, 7941, 7942, 7943, 7944, 7945, 7946, 7947, 7948, 7949, # Contractor Tiara\n",
        "               7890, 7891, 7892, 7893, 7894, 7895, 7896, 7897, 7898, 7899, 7900, 7901, 7902, 7903, 7904, # Contractor Robe\n",
        "               7950, 7951, 7952, 7953, 7954, 7955, 7956, 7957, 7958, 7959, 7960, 7961, 7962, 7963, 7964, # Contractor Tights\n",
        "               7860, 7861, 7862, 7863, 7864, 7865, 7866, 7867, 7868, 7869, 7870, 7871, 7872, 7873, 7874, # Contractor Muff\n",
        "               7845, 7846, 7847, 7848, 7849, 7850, 7851, 7852, 7853, 7854, 7855, 7856, 7857, 7858, 7859, # Contractor Heels\n",
        "               7920, 7921, 7922, 7923, 7924, 7925, 7926, 7927, 7928, 7929, 7930, 7931, 7932, 7933, 7934, # Contractor Staff\n",
        "               7875, 7876, 7877, 7878, 7879, 7880, 7881, 7882, 7883, 7884, 7885, 7886, 7887, 7888, 7889, # Contractor Orb\n",
        "               7905, 7906, 7907, 7908, 7909, 7910, 7911, 7912, 7913, 7914, 7915, 7916, 7917, 7918, 7919, # Contractor Spellbook\n",
        "               7965, 7966, 7967, 7968, 7969, 7970, 7971, 7972, 7973, 7974, 7975, 7976, 7977, 7978, 7979] # Contractor Voodoo Doll\n",
        "\n",
        "# Select specific 15 rows from all columns using the defined indices\n",
        "bt_selected_rows = df.iloc[bt_row_indices, :]\n",
        "\n",
        "# Save the selected rows to a new CSV file\n",
        "bt_selected_rows.to_csv('/content/drive/MyDrive/Enhancement_data/Legends/DDN/ForceUser.csv', index=False)"
      ],
      "metadata": {
        "id": "9Sj9fDiHKDt1"
      },
      "execution_count": 21,
      "outputs": []
    },
    {
      "cell_type": "markdown",
      "source": [
        "9. Alchemist (Changer) Desert Dragon Legend set"
      ],
      "metadata": {
        "id": "OWeroJNsKQ7f"
      }
    },
    {
      "cell_type": "code",
      "source": [
        "keyword_DDNL9 = keyword_DDNL_slime  # Replace with the keyword you want to search for\n",
        "item_info_DDNL9 = get_item_info(keyword_DDNL9)\n",
        "\n",
        "row_numbers_str_9 = extract_row_numbers(item_info_DDNL9)"
      ],
      "metadata": {
        "id": "DEgRuPZbKbDS"
      },
      "execution_count": 22,
      "outputs": []
    },
    {
      "cell_type": "code",
      "source": [
        "slime_row_indices = [7710, 7711, 7712, 7713, 7714, 7715, 7716, 7717, 7718, 7719, 7720, 7721, 7722, 7723, 7724, # Changer Beret\n",
        "               7800, 7801, 7802, 7803, 7804, 7805, 7806, 7807, 7808, 7809, 7810, 7811, 7812, 7813, 7814, # Changer Tunic\n",
        "               7785, 7786, 7787, 7788, 7789, 7790, 7791, 7792, 7793, 7794, 7795, 7796, 7797, 7798, 7799, # Changer Slacks\n",
        "               7755, 7756, 7757, 7758, 7759, 7760, 7761, 7762, 7763, 7764, 7765, 7766, 7767, 7768, 7769, # Changer Power Mitten\n",
        "               7770, 7771, 7772, 7773, 7774, 7775, 7776, 7777, 7778, 7779, 7780, 7781, 7782, 7783, 7784, # Changer Round Shoes\n",
        "               7725, 7726, 7727, 7728, 7729, 7730, 7731, 7732, 7733, 7734, 7735, 7736, 7737, 7738, 7739, # Changer Bubble Gun\n",
        "               7740, 7741, 7742, 7743, 7744, 7745, 7746, 7747, 7748, 7749, 7750, 7751, 7752, 7753, 7754] # Changer Mecha Glove\n",
        "\n",
        "# Select specific 15 rows from all columns using the defined indices\n",
        "slime_selected_rows = df.iloc[slime_row_indices, :]\n",
        "\n",
        "# Save the selected rows to a new CSV file\n",
        "slime_selected_rows.to_csv('/content/drive/MyDrive/Enhancement_data/Legends/DDN/Alchemist.csv', index=False)"
      ],
      "metadata": {
        "id": "3xld-sTSKa4z"
      },
      "execution_count": 23,
      "outputs": []
    },
    {
      "cell_type": "markdown",
      "source": [
        "10. Engineer (Coordinator) Desert Dragon Legend set"
      ],
      "metadata": {
        "id": "5QSihoBdKkF0"
      }
    },
    {
      "cell_type": "code",
      "source": [
        "keyword_DDNL10 = keyword_DDNL_duck  # Replace with the keyword you want to search for\n",
        "item_info_DDNL10 = get_item_info(keyword_DDNL10)\n",
        "\n",
        "row_numbers_str_10 = extract_row_numbers(item_info_DDNL10)"
      ],
      "metadata": {
        "id": "XoDL081aKkUU"
      },
      "execution_count": 24,
      "outputs": []
    },
    {
      "cell_type": "code",
      "source": [
        "duck_row_indices = [7980, 7981, 7982, 7983, 7984, 7985, 7986, 7987, 7988, 7989, 7990, 7991, 7992, 7993, 7994, # Coordinator Beret\n",
        "               8070, 8071, 8072, 8073, 8074, 8075, 8076, 8077, 8078, 8079, 8080, 8081, 8082, 8083, 8084, # Coordinator Tunic\n",
        "               8055, 8056, 8057, 8058, 8059, 8060, 8061, 8062, 8063, 8064, 8065, 8066, 8067, 8068, 8069, # Coordinator Slacks\n",
        "               8025, 8026, 8027, 8028, 8029, 8030, 8031, 8032, 8033, 8034, 8035, 8036, 8037, 8038, 8039, # Coordinator Power Mitten\n",
        "               8040, 8041, 8042, 8043, 8044, 8045, 8046, 8047, 8048, 8049, 8050, 8051, 8052, 8053, 8054, # Coordinator Round Shoes\n",
        "               7995, 7996, 7997, 7998, 7999, 8000, 8001, 8002, 8003, 8004, 8005, 8006, 8007, 8008, 8009, # Coordinator Cannon\n",
        "               8010, 8011, 8012, 8013, 8014, 8015, 8016, 8017, 8018, 8019, 8020, 8021, 8022, 8023, 8024] # Coordinator Mecha Glove\n",
        "\n",
        "# Select specific 15 rows from all columns using the defined indices\n",
        "duck_selected_rows = df.iloc[duck_row_indices, :]\n",
        "\n",
        "# Save the selected rows to a new CSV file\n",
        "duck_selected_rows.to_csv('/content/drive/MyDrive/Enhancement_data/Legends/DDN/Engineer.csv', index=False)"
      ],
      "metadata": {
        "id": "0S2NlTepKkm5"
      },
      "execution_count": 25,
      "outputs": []
    },
    {
      "cell_type": "markdown",
      "source": [
        "11. Screamer (Soul Handler) Desert Dragon Legend set\n"
      ],
      "metadata": {
        "id": "x-HwRsy3K31G"
      }
    },
    {
      "cell_type": "code",
      "source": [
        "keyword_DDNL11 = Keyword_DDNL_curse  # Replace with the keyword you want to search for\n",
        "item_info_DDNL11 = get_item_info(keyword_DDNL11)\n",
        "\n",
        "row_numbers_str_11 = extract_row_numbers(item_info_DDNL11)"
      ],
      "metadata": {
        "id": "ZjUqTT4CK4Dv"
      },
      "execution_count": 26,
      "outputs": []
    },
    {
      "cell_type": "code",
      "source": [
        "curse_row_indices = [9495, 9496, 9497, 9498, 9499, 9500, 9501, 9502, 9503, 9504, 9505, 9506, 9507, 9508, 9509, # Soul Handler Orni\n",
        "               9450, 9451, 9452, 9453, 9454, 9455, 9456, 9457, 9458, 9459, 9460, 9461, 9462, 9463, 9464, # Soul Handler Chori\n",
        "               9525, 9526, 9527, 9528, 9529, 9530, 9531, 9532, 9533, 9534, 9535, 9536, 9537, 9538, 9539, # Soul Handler Salwar\n",
        "               9510, 9511, 9512, 9513, 9514, 9515, 9516, 9517, 9518, 9519, 9520, 9521, 9522, 9523, 9524, # Soul Handler Rakki\n",
        "               9480, 9481, 9482, 9483, 9484, 9485, 9486, 9487, 9488, 9489, 9490, 9491, 9492, 9493, 9494, # Soul Handler Jutti\n",
        "               9465, 9466, 9467, 9468, 9469, 9470, 9471, 9472, 9473, 9474, 9475, 9476, 9477, 9478, 9479, # Soul Handler Fan\n",
        "               9435, 9436, 9437, 9438, 9439, 9440, 9441, 9442, 9443, 9444, 9445, 9446, 9447, 9448, 9449] # Soul Handler Charm\n",
        "\n",
        "# Select specific 15 rows from all columns using the defined indices\n",
        "curse_selected_rows = df.iloc[curse_row_indices, :]\n",
        "\n",
        "# Save the selected rows to a new CSV file\n",
        "curse_selected_rows.to_csv('/content/drive/MyDrive/Enhancement_data/Legends/DDN/Screamer.csv', index=False)"
      ],
      "metadata": {
        "id": "B44hC8lNK4TA"
      },
      "execution_count": 27,
      "outputs": []
    },
    {
      "cell_type": "markdown",
      "source": [
        "12. Dancer (Dancer) Desert Dragon Legend set"
      ],
      "metadata": {
        "id": "Egf9vAZPK_Xn"
      }
    },
    {
      "cell_type": "code",
      "source": [
        "keyword_DDNL12 = keyword_DDNL_dance  # Replace with the keyword you want to search for\n",
        "item_info_DDNL12 = get_item_info(keyword_DDNL12)\n",
        "\n",
        "row_numbers_str_12 = extract_row_numbers(item_info_DDNL12)"
      ],
      "metadata": {
        "id": "F_4_LG-aK__p"
      },
      "execution_count": 28,
      "outputs": []
    },
    {
      "cell_type": "code",
      "source": [
        "dance_row_indices = [8190, 8191, 8192, 8193, 8194, 8195, 8196, 8197, 8198, 8199, 8200, 8201, 8202, 8203, 8204, # Dancer Orni\n",
        "               8160, 8161, 8162, 8163, 8164, 8165, 8166, 8167, 8168, 8169, 8170, 8171, 8172, 8173, 8174, # Dancer Chori\n",
        "               8220, 8221, 8222, 8223, 8224, 8225, 8226, 8227, 8228, 8229, 8230, 8231, 8232, 8233, 8234, # Dancer Salwar\n",
        "               8205, 8206, 8207, 8208, 8209, 8210, 8211, 8212, 8213, 8214, 8215, 8216, 8217, 8218, 8219, # Dancer Rakki\n",
        "               8175, 8176, 8177, 8178, 8179, 8180, 8181, 8182, 8183, 8184, 8185, 8186, 8187, 8188, 8189, # Dancer Jutti\n",
        "               8130, 8131, 8132, 8133, 8134, 8135, 8136, 8137, 8138, 8139, 8140, 8141, 8142, 8143, 8144, # Dancer Chakram\n",
        "               8145, 8146, 8147, 8148, 8149, 8150, 8151, 8152, 8153, 8154, 8155, 8156, 8157, 8158, 8159] # Dancer Charm\n",
        "\n",
        "# Select specific 15 rows from all columns using the defined indices\n",
        "dance_selected_rows = df.iloc[dance_row_indices, :]\n",
        "\n",
        "# Save the selected rows to a new CSV file\n",
        "dance_selected_rows.to_csv('/content/drive/MyDrive/Enhancement_data/Legends/DDN/Dancer.csv', index=False)"
      ],
      "metadata": {
        "id": "WgnorhnqK_qV"
      },
      "execution_count": 29,
      "outputs": []
    },
    {
      "cell_type": "markdown",
      "source": [
        "13. Chaser (Slaughter) Desert Dragon Legend set"
      ],
      "metadata": {
        "id": "VGDjHfmxLLu1"
      }
    },
    {
      "cell_type": "code",
      "source": [
        "keyword_DDNL13 = keyword_DDNL_crow  # Replace with the keyword you want to search for\n",
        "item_info_DDNL13 = get_item_info(keyword_DDNL13)\n",
        "\n",
        "row_numbers_str_13 = extract_row_numbers(item_info_DDNL13)"
      ],
      "metadata": {
        "id": "_4sCUthCLMZr"
      },
      "execution_count": 30,
      "outputs": []
    },
    {
      "cell_type": "code",
      "source": [
        "crow_row_indices = [9360, 9361, 9362, 9363, 9364, 9365, 9366, 9367, 9368, 9369, 9370, 9371, 9372, 9373, 9374, # Slaughter Mask\n",
        "               9405, 9406, 9407, 9408, 9409, 9410, 9411, 9412, 9413, 9414, 9415, 9416, 9417, 9418, 9419, # Slaughter Vest\n",
        "               9345, 9346, 9347, 9348, 9349, 9350, 9351, 9352, 9353, 9354, 9355, 9356, 9357, 9358, 9359, # Slaughter Greaves\n",
        "               9420, 9421, 9422, 9423, 9424, 9425, 9426, 9427, 9428, 9429, 9430, 9431, 9432, 9433, 9434, # Slaughter Wrist Guards\n",
        "               9375, 9376, 9377, 9378, 9379, 9380, 9381, 9382, 9383, 9384, 9385, 9386, 9387, 9388, 9389, # Slaughter Sandals\n",
        "               9390, 9391, 9392, 9393, 9394, 9395, 9396, 9397, 9398, 9399, 9400, 9401, 9402, 9403, 9404, # Slaughter Scimitar\n",
        "               9330, 9331, 9332, 9333, 9334, 9335, 9336, 9337, 9338, 9339, 9340, 9341, 9342, 9343, 9344] # Slaughter Arm Blade\n",
        "\n",
        "# Select specific 15 rows from all columns using the defined indices\n",
        "crow_selected_rows = df.iloc[crow_row_indices, :]\n",
        "\n",
        "# Save the selected rows to a new CSV file\n",
        "crow_selected_rows.to_csv('/content/drive/MyDrive/Enhancement_data/Legends/DDN/Chaser.csv', index=False)"
      ],
      "metadata": {
        "id": "pRnnXEGaLMAl"
      },
      "execution_count": 31,
      "outputs": []
    },
    {
      "cell_type": "markdown",
      "source": [
        "14. Bringer (Meditation) Desert Dragon Legend set"
      ],
      "metadata": {
        "id": "EgkiMuLEEOFv"
      }
    },
    {
      "cell_type": "code",
      "source": [
        "keyword_DDNL14 = keyword_DDNL_medi  # Replace with the keyword you want to search for\n",
        "item_info_DDNL14 = get_item_info(keyword_DDNL14)\n",
        "\n",
        "row_numbers_str_14 = extract_row_numbers(item_info_DDNL14)"
      ],
      "metadata": {
        "id": "N8-Lt5scEj2R"
      },
      "execution_count": 32,
      "outputs": []
    },
    {
      "cell_type": "code",
      "source": [
        "medi_row_indices = [8880, 8881, 8882, 8883, 8884, 8885, 8886, 8887, 8888, 8889, 8890, 8891, 8892, 8893, 8894, # Meditation Mask\n",
        "               8910, 8911, 8912, 8913, 8914, 8915, 8916, 8917, 8918, 8919, 8920, 8921, 8922, 8923, 8924, # Meditation Vest\n",
        "               8865, 8866, 8867, 8868, 8869, 8870, 8871, 8872, 8873, 8874, 8875, 8876, 8877, 8878, 8879, # Meditation Greaves\n",
        "               8925, 8926, 8927, 8928, 8929, 8930, 8931, 8932, 8933, 8934, 8935, 8936, 8937, 8938, 8939, # Meditation Wrist Guards\n",
        "               8895, 8896, 8897, 8898, 8899, 8900, 8901, 8902, 8903, 8904, 8905, 8906, 8907, 8908, 8909, # Meditation Sandals\n",
        "               8850, 8851, 8852, 8853, 8854, 8855, 8856, 8857, 8858, 8859, 8860, 8861, 8862, 8863, 8864, # Meditation Dagger\n",
        "               8835, 8836, 8837, 8838, 8839, 8840, 8841, 8842, 8843, 8844, 8845, 8846, 8847, 8848, 8849] # Meditation Arm Blade\n",
        "\n",
        "# Select specific 15 rows from all columns using the defined indices\n",
        "medi_selected_rows = df.iloc[medi_row_indices, :]\n",
        "\n",
        "# Save the selected rows to a new CSV file\n",
        "medi_selected_rows.to_csv('/content/drive/MyDrive/Enhancement_data/Legends/DDN/Bringer.csv', index=False)"
      ],
      "metadata": {
        "id": "Bq-Hj1WvEjvt"
      },
      "execution_count": 33,
      "outputs": []
    },
    {
      "cell_type": "markdown",
      "source": [
        "15. Dragoon/Piercer (Victoria) Desert Dragon Legend set"
      ],
      "metadata": {
        "id": "9mM6vXoNERpU"
      }
    },
    {
      "cell_type": "code",
      "source": [
        "keyword_DDNL15 = keyword_DDNL_spin  # Replace with the keyword you want to search for\n",
        "item_info_DDNL15 = get_item_info(keyword_DDNL15)\n",
        "\n",
        "row_numbers_str_15 = extract_row_numbers(item_info_DDNL15)"
      ],
      "metadata": {
        "id": "uoULO8XIEkP5"
      },
      "execution_count": 34,
      "outputs": []
    },
    {
      "cell_type": "code",
      "source": [
        "spin_row_indices = [10050, 10051, 10052, 10053, 10054, 10055, 10056, 10057, 10058, 10059, 10060, 10061, 10062, 10063, 10064, # Victoria Bonnet\n",
        "               10035, 10036, 10037, 10038, 10039, 10040, 10041, 10042, 10043, 10044, 10045, 10046, 10047, 10048, 10049, # Victoria Blouse\n",
        "               10095, 10096, 10097, 10098, 10099, 10100, 10101, 10102, 10103, 10104, 10105, 10106, 10107, 10108, 10109, # Victoria Knee Socks\n",
        "               10080, 10081, 10082, 10083, 10084, 10085, 10086, 10087, 10088, 10089, 10090, 10091, 10092, 10093, 10094, # Victoria Gloves\n",
        "               10110, 10111, 10112, 10113, 10114, 10115, 10116, 10117, 10118, 10119, 10120, 10121, 10122, 10123, 10124, # Victoria Sandals\n",
        "               10125, 10126, 10127, 10128, 10129, 10130, 10131, 10132, 10133, 10134, 10135, 10136, 10137, 10138, 10139, # Victoria Spear\n",
        "               10065, 10066, 10067, 10068, 10069, 10070, 10071, 10072, 10073, 10074, 10075, 10076, 10077, 10078, 10079,] # Victoria Bracelets\n",
        "\n",
        "# Select specific 15 rows from all columns using the defined indices\n",
        "spin_selected_rows = df.iloc[spin_row_indices, :]\n",
        "\n",
        "# Save the selected rows to a new CSV file\n",
        "spin_selected_rows.to_csv('/content/drive/MyDrive/Enhancement_data/Legends/DDN/Dragoon.csv', index=False)"
      ],
      "metadata": {
        "id": "QbJgfh1yFn15"
      },
      "execution_count": 35,
      "outputs": []
    },
    {
      "cell_type": "markdown",
      "source": [
        "# Making the bulk csv file of legends set for all classes"
      ],
      "metadata": {
        "id": "SxsqOCqOMpAZ"
      }
    },
    {
      "cell_type": "markdown",
      "source": [
        "Create a function that combines all `str_row_indices` into an array and convert it into csv"
      ],
      "metadata": {
        "id": "C3X5qbLbPjaO"
      }
    },
    {
      "cell_type": "code",
      "source": [
        "# List containing all _row_indices\n",
        "all_selected_rows_list = [\n",
        "    SW_selected_rows, MERC_selected_rows, Sharp_selected_rows,\n",
        "    Acro_selected_rows, ele_selected_rows, bt_selected_rows,\n",
        "    priest_selected_rows, pala_selected_rows, slime_selected_rows,\n",
        "    duck_selected_rows, curse_selected_rows, dance_selected_rows,\n",
        "    crow_selected_rows, medi_selected_rows, spin_selected_rows\n",
        "]\n",
        "\n",
        "# Output CSV file path in Google Drive\n",
        "output_csv_file = 'DDNL_all_class.csv'\n",
        "\n",
        "with open('/content/drive/MyDrive/Enhancement_data/Legends/DDN/' + output_csv_file, 'w', newline='') as output_csv:\n",
        "    writer = csv.writer(output_csv)\n",
        "    # Write Header\n",
        "    writer.writerow(['Item Name', 'EnchantLevel', 'EnchantRatio', 'BreakRatio', 'MinDowngrade', 'MaxDowngrade', 'Gold'])\n",
        "    # Write rows corresponding to \"_selected_rows\" for each category\n",
        "    for selected_rows in all_selected_rows_list:\n",
        "        # Write each selected rows to the output CSV file\n",
        "        for _, row in selected_rows.iterrows():\n",
        "            writer.writerow(row)\n",
        "\n",
        "print(f\"Combined rows saved to '{output_csv_file}' in Google Drive\")"
      ],
      "metadata": {
        "colab": {
          "base_uri": "https://localhost:8080/"
        },
        "id": "KmJ4xdYDdrkz",
        "outputId": "86492282-20fa-4fa6-fbc2-68576984ff14"
      },
      "execution_count": 36,
      "outputs": [
        {
          "output_type": "stream",
          "name": "stdout",
          "text": [
            "Combined rows saved to 'DDNL_all_class.csv' in Google Drive\n"
          ]
        }
      ]
    }
  ]
}