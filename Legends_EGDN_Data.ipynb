{
  "nbformat": 4,
  "nbformat_minor": 0,
  "metadata": {
    "colab": {
      "provenance": [],
      "authorship_tag": "ABX9TyNOt4nm8Yfs0OZO+FwpftdX",
      "include_colab_link": true
    },
    "kernelspec": {
      "name": "python3",
      "display_name": "Python 3"
    },
    "language_info": {
      "name": "python"
    }
  },
  "cells": [
    {
      "cell_type": "markdown",
      "metadata": {
        "id": "view-in-github",
        "colab_type": "text"
      },
      "source": [
        "<a href=\"https://colab.research.google.com/github/ICloudaxeI/DNO-Enhancement-Data/blob/Legends/Legends_EGDN_Data.ipynb\" target=\"_parent\"><img src=\"https://colab.research.google.com/assets/colab-badge.svg\" alt=\"Open In Colab\"/></a>"
      ]
    },
    {
      "cell_type": "markdown",
      "source": [
        "#  Importing libaries for the data"
      ],
      "metadata": {
        "id": "bApqvpqZGFeg"
      }
    },
    {
      "cell_type": "code",
      "source": [
        "import csv\n",
        "import pandas as pd\n",
        "\n",
        "from google.colab import drive"
      ],
      "metadata": {
        "id": "5ZIgKjqXGOLb"
      },
      "execution_count": 1,
      "outputs": []
    },
    {
      "cell_type": "markdown",
      "source": [
        "# Legends set\n",
        "\n",
        "Dragon nest have an end-game gear that is obtainable at every dragon raid hardcore difficulty. These End-game gears have additional stats the more you enhance it."
      ],
      "metadata": {
        "id": "quemZ8KtFl2U"
      }
    },
    {
      "cell_type": "markdown",
      "source": [
        "# Extracting L Grades data from the csv file"
      ],
      "metadata": {
        "id": "XNhY-Ia7F4Md"
      }
    },
    {
      "cell_type": "markdown",
      "source": [
        "Getting the saved csv file from the Google Drive Directory"
      ],
      "metadata": {
        "id": "ub2apd16F9Yu"
      }
    },
    {
      "cell_type": "code",
      "execution_count": 2,
      "metadata": {
        "colab": {
          "base_uri": "https://localhost:8080/",
          "height": 441
        },
        "id": "HIZxPdC_Fhcs",
        "outputId": "05b7a711-1d8e-449f-e8cb-4e9d529be863"
      },
      "outputs": [
        {
          "output_type": "stream",
          "name": "stdout",
          "text": [
            "Drive already mounted at /content/drive; to attempt to forcibly remount, call drive.mount(\"/content/drive\", force_remount=True).\n"
          ]
        },
        {
          "output_type": "execute_result",
          "data": {
            "text/plain": [
              "                            Item Name  EnchantLevel  EnchantRatio  BreakRatio  \\\n",
              "0             Ancient Totem Arm Blade             1         100.0         0.0   \n",
              "1             Ancient Totem Arm Blade             2         100.0         0.0   \n",
              "2             Ancient Totem Arm Blade             3         100.0         0.0   \n",
              "3             Ancient Totem Arm Blade             4         100.0         0.0   \n",
              "4             Ancient Totem Arm Blade             5         100.0         0.0   \n",
              "...                               ...           ...           ...         ...   \n",
              "23290  Twisted obsession Wrist Guards            11          25.0        25.0   \n",
              "23291  Twisted obsession Wrist Guards            12          20.0        25.0   \n",
              "23292  Twisted obsession Wrist Guards            13          15.0        25.0   \n",
              "23293  Twisted obsession Wrist Guards            14           5.0        25.0   \n",
              "23294  Twisted obsession Wrist Guards            15           1.0        25.0   \n",
              "\n",
              "       MinDowngrade  MaxDowngrade  Gold  \n",
              "0                 0             0     0  \n",
              "1                 0             0     0  \n",
              "2                 0             0     0  \n",
              "3                 0             0     1  \n",
              "4                 0             0     1  \n",
              "...             ...           ...   ...  \n",
              "23290             1             2     1  \n",
              "23291             1             2     2  \n",
              "23292             1             2     3  \n",
              "23293             1             2     5  \n",
              "23294             1             2     8  \n",
              "\n",
              "[23295 rows x 7 columns]"
            ],
            "text/html": [
              "\n",
              "  <div id=\"df-b5620c01-5e58-4aca-8d7b-55ff7ff5e9b4\" class=\"colab-df-container\">\n",
              "    <div>\n",
              "<style scoped>\n",
              "    .dataframe tbody tr th:only-of-type {\n",
              "        vertical-align: middle;\n",
              "    }\n",
              "\n",
              "    .dataframe tbody tr th {\n",
              "        vertical-align: top;\n",
              "    }\n",
              "\n",
              "    .dataframe thead th {\n",
              "        text-align: right;\n",
              "    }\n",
              "</style>\n",
              "<table border=\"1\" class=\"dataframe\">\n",
              "  <thead>\n",
              "    <tr style=\"text-align: right;\">\n",
              "      <th></th>\n",
              "      <th>Item Name</th>\n",
              "      <th>EnchantLevel</th>\n",
              "      <th>EnchantRatio</th>\n",
              "      <th>BreakRatio</th>\n",
              "      <th>MinDowngrade</th>\n",
              "      <th>MaxDowngrade</th>\n",
              "      <th>Gold</th>\n",
              "    </tr>\n",
              "  </thead>\n",
              "  <tbody>\n",
              "    <tr>\n",
              "      <th>0</th>\n",
              "      <td>Ancient Totem Arm Blade</td>\n",
              "      <td>1</td>\n",
              "      <td>100.0</td>\n",
              "      <td>0.0</td>\n",
              "      <td>0</td>\n",
              "      <td>0</td>\n",
              "      <td>0</td>\n",
              "    </tr>\n",
              "    <tr>\n",
              "      <th>1</th>\n",
              "      <td>Ancient Totem Arm Blade</td>\n",
              "      <td>2</td>\n",
              "      <td>100.0</td>\n",
              "      <td>0.0</td>\n",
              "      <td>0</td>\n",
              "      <td>0</td>\n",
              "      <td>0</td>\n",
              "    </tr>\n",
              "    <tr>\n",
              "      <th>2</th>\n",
              "      <td>Ancient Totem Arm Blade</td>\n",
              "      <td>3</td>\n",
              "      <td>100.0</td>\n",
              "      <td>0.0</td>\n",
              "      <td>0</td>\n",
              "      <td>0</td>\n",
              "      <td>0</td>\n",
              "    </tr>\n",
              "    <tr>\n",
              "      <th>3</th>\n",
              "      <td>Ancient Totem Arm Blade</td>\n",
              "      <td>4</td>\n",
              "      <td>100.0</td>\n",
              "      <td>0.0</td>\n",
              "      <td>0</td>\n",
              "      <td>0</td>\n",
              "      <td>1</td>\n",
              "    </tr>\n",
              "    <tr>\n",
              "      <th>4</th>\n",
              "      <td>Ancient Totem Arm Blade</td>\n",
              "      <td>5</td>\n",
              "      <td>100.0</td>\n",
              "      <td>0.0</td>\n",
              "      <td>0</td>\n",
              "      <td>0</td>\n",
              "      <td>1</td>\n",
              "    </tr>\n",
              "    <tr>\n",
              "      <th>...</th>\n",
              "      <td>...</td>\n",
              "      <td>...</td>\n",
              "      <td>...</td>\n",
              "      <td>...</td>\n",
              "      <td>...</td>\n",
              "      <td>...</td>\n",
              "      <td>...</td>\n",
              "    </tr>\n",
              "    <tr>\n",
              "      <th>23290</th>\n",
              "      <td>Twisted obsession Wrist Guards</td>\n",
              "      <td>11</td>\n",
              "      <td>25.0</td>\n",
              "      <td>25.0</td>\n",
              "      <td>1</td>\n",
              "      <td>2</td>\n",
              "      <td>1</td>\n",
              "    </tr>\n",
              "    <tr>\n",
              "      <th>23291</th>\n",
              "      <td>Twisted obsession Wrist Guards</td>\n",
              "      <td>12</td>\n",
              "      <td>20.0</td>\n",
              "      <td>25.0</td>\n",
              "      <td>1</td>\n",
              "      <td>2</td>\n",
              "      <td>2</td>\n",
              "    </tr>\n",
              "    <tr>\n",
              "      <th>23292</th>\n",
              "      <td>Twisted obsession Wrist Guards</td>\n",
              "      <td>13</td>\n",
              "      <td>15.0</td>\n",
              "      <td>25.0</td>\n",
              "      <td>1</td>\n",
              "      <td>2</td>\n",
              "      <td>3</td>\n",
              "    </tr>\n",
              "    <tr>\n",
              "      <th>23293</th>\n",
              "      <td>Twisted obsession Wrist Guards</td>\n",
              "      <td>14</td>\n",
              "      <td>5.0</td>\n",
              "      <td>25.0</td>\n",
              "      <td>1</td>\n",
              "      <td>2</td>\n",
              "      <td>5</td>\n",
              "    </tr>\n",
              "    <tr>\n",
              "      <th>23294</th>\n",
              "      <td>Twisted obsession Wrist Guards</td>\n",
              "      <td>15</td>\n",
              "      <td>1.0</td>\n",
              "      <td>25.0</td>\n",
              "      <td>1</td>\n",
              "      <td>2</td>\n",
              "      <td>8</td>\n",
              "    </tr>\n",
              "  </tbody>\n",
              "</table>\n",
              "<p>23295 rows × 7 columns</p>\n",
              "</div>\n",
              "    <div class=\"colab-df-buttons\">\n",
              "\n",
              "  <div class=\"colab-df-container\">\n",
              "    <button class=\"colab-df-convert\" onclick=\"convertToInteractive('df-b5620c01-5e58-4aca-8d7b-55ff7ff5e9b4')\"\n",
              "            title=\"Convert this dataframe to an interactive table.\"\n",
              "            style=\"display:none;\">\n",
              "\n",
              "  <svg xmlns=\"http://www.w3.org/2000/svg\" height=\"24px\" viewBox=\"0 -960 960 960\">\n",
              "    <path d=\"M120-120v-720h720v720H120Zm60-500h600v-160H180v160Zm220 220h160v-160H400v160Zm0 220h160v-160H400v160ZM180-400h160v-160H180v160Zm440 0h160v-160H620v160ZM180-180h160v-160H180v160Zm440 0h160v-160H620v160Z\"/>\n",
              "  </svg>\n",
              "    </button>\n",
              "\n",
              "  <style>\n",
              "    .colab-df-container {\n",
              "      display:flex;\n",
              "      gap: 12px;\n",
              "    }\n",
              "\n",
              "    .colab-df-convert {\n",
              "      background-color: #E8F0FE;\n",
              "      border: none;\n",
              "      border-radius: 50%;\n",
              "      cursor: pointer;\n",
              "      display: none;\n",
              "      fill: #1967D2;\n",
              "      height: 32px;\n",
              "      padding: 0 0 0 0;\n",
              "      width: 32px;\n",
              "    }\n",
              "\n",
              "    .colab-df-convert:hover {\n",
              "      background-color: #E2EBFA;\n",
              "      box-shadow: 0px 1px 2px rgba(60, 64, 67, 0.3), 0px 1px 3px 1px rgba(60, 64, 67, 0.15);\n",
              "      fill: #174EA6;\n",
              "    }\n",
              "\n",
              "    .colab-df-buttons div {\n",
              "      margin-bottom: 4px;\n",
              "    }\n",
              "\n",
              "    [theme=dark] .colab-df-convert {\n",
              "      background-color: #3B4455;\n",
              "      fill: #D2E3FC;\n",
              "    }\n",
              "\n",
              "    [theme=dark] .colab-df-convert:hover {\n",
              "      background-color: #434B5C;\n",
              "      box-shadow: 0px 1px 3px 1px rgba(0, 0, 0, 0.15);\n",
              "      filter: drop-shadow(0px 1px 2px rgba(0, 0, 0, 0.3));\n",
              "      fill: #FFFFFF;\n",
              "    }\n",
              "  </style>\n",
              "\n",
              "    <script>\n",
              "      const buttonEl =\n",
              "        document.querySelector('#df-b5620c01-5e58-4aca-8d7b-55ff7ff5e9b4 button.colab-df-convert');\n",
              "      buttonEl.style.display =\n",
              "        google.colab.kernel.accessAllowed ? 'block' : 'none';\n",
              "\n",
              "      async function convertToInteractive(key) {\n",
              "        const element = document.querySelector('#df-b5620c01-5e58-4aca-8d7b-55ff7ff5e9b4');\n",
              "        const dataTable =\n",
              "          await google.colab.kernel.invokeFunction('convertToInteractive',\n",
              "                                                    [key], {});\n",
              "        if (!dataTable) return;\n",
              "\n",
              "        const docLinkHtml = 'Like what you see? Visit the ' +\n",
              "          '<a target=\"_blank\" href=https://colab.research.google.com/notebooks/data_table.ipynb>data table notebook</a>'\n",
              "          + ' to learn more about interactive tables.';\n",
              "        element.innerHTML = '';\n",
              "        dataTable['output_type'] = 'display_data';\n",
              "        await google.colab.output.renderOutput(dataTable, element);\n",
              "        const docLink = document.createElement('div');\n",
              "        docLink.innerHTML = docLinkHtml;\n",
              "        element.appendChild(docLink);\n",
              "      }\n",
              "    </script>\n",
              "  </div>\n",
              "\n",
              "\n",
              "<div id=\"df-3496a86b-05e0-4e99-9e55-2e4037f20c62\">\n",
              "  <button class=\"colab-df-quickchart\" onclick=\"quickchart('df-3496a86b-05e0-4e99-9e55-2e4037f20c62')\"\n",
              "            title=\"Suggest charts\"\n",
              "            style=\"display:none;\">\n",
              "\n",
              "<svg xmlns=\"http://www.w3.org/2000/svg\" height=\"24px\"viewBox=\"0 0 24 24\"\n",
              "     width=\"24px\">\n",
              "    <g>\n",
              "        <path d=\"M19 3H5c-1.1 0-2 .9-2 2v14c0 1.1.9 2 2 2h14c1.1 0 2-.9 2-2V5c0-1.1-.9-2-2-2zM9 17H7v-7h2v7zm4 0h-2V7h2v10zm4 0h-2v-4h2v4z\"/>\n",
              "    </g>\n",
              "</svg>\n",
              "  </button>\n",
              "\n",
              "<style>\n",
              "  .colab-df-quickchart {\n",
              "      --bg-color: #E8F0FE;\n",
              "      --fill-color: #1967D2;\n",
              "      --hover-bg-color: #E2EBFA;\n",
              "      --hover-fill-color: #174EA6;\n",
              "      --disabled-fill-color: #AAA;\n",
              "      --disabled-bg-color: #DDD;\n",
              "  }\n",
              "\n",
              "  [theme=dark] .colab-df-quickchart {\n",
              "      --bg-color: #3B4455;\n",
              "      --fill-color: #D2E3FC;\n",
              "      --hover-bg-color: #434B5C;\n",
              "      --hover-fill-color: #FFFFFF;\n",
              "      --disabled-bg-color: #3B4455;\n",
              "      --disabled-fill-color: #666;\n",
              "  }\n",
              "\n",
              "  .colab-df-quickchart {\n",
              "    background-color: var(--bg-color);\n",
              "    border: none;\n",
              "    border-radius: 50%;\n",
              "    cursor: pointer;\n",
              "    display: none;\n",
              "    fill: var(--fill-color);\n",
              "    height: 32px;\n",
              "    padding: 0;\n",
              "    width: 32px;\n",
              "  }\n",
              "\n",
              "  .colab-df-quickchart:hover {\n",
              "    background-color: var(--hover-bg-color);\n",
              "    box-shadow: 0 1px 2px rgba(60, 64, 67, 0.3), 0 1px 3px 1px rgba(60, 64, 67, 0.15);\n",
              "    fill: var(--button-hover-fill-color);\n",
              "  }\n",
              "\n",
              "  .colab-df-quickchart-complete:disabled,\n",
              "  .colab-df-quickchart-complete:disabled:hover {\n",
              "    background-color: var(--disabled-bg-color);\n",
              "    fill: var(--disabled-fill-color);\n",
              "    box-shadow: none;\n",
              "  }\n",
              "\n",
              "  .colab-df-spinner {\n",
              "    border: 2px solid var(--fill-color);\n",
              "    border-color: transparent;\n",
              "    border-bottom-color: var(--fill-color);\n",
              "    animation:\n",
              "      spin 1s steps(1) infinite;\n",
              "  }\n",
              "\n",
              "  @keyframes spin {\n",
              "    0% {\n",
              "      border-color: transparent;\n",
              "      border-bottom-color: var(--fill-color);\n",
              "      border-left-color: var(--fill-color);\n",
              "    }\n",
              "    20% {\n",
              "      border-color: transparent;\n",
              "      border-left-color: var(--fill-color);\n",
              "      border-top-color: var(--fill-color);\n",
              "    }\n",
              "    30% {\n",
              "      border-color: transparent;\n",
              "      border-left-color: var(--fill-color);\n",
              "      border-top-color: var(--fill-color);\n",
              "      border-right-color: var(--fill-color);\n",
              "    }\n",
              "    40% {\n",
              "      border-color: transparent;\n",
              "      border-right-color: var(--fill-color);\n",
              "      border-top-color: var(--fill-color);\n",
              "    }\n",
              "    60% {\n",
              "      border-color: transparent;\n",
              "      border-right-color: var(--fill-color);\n",
              "    }\n",
              "    80% {\n",
              "      border-color: transparent;\n",
              "      border-right-color: var(--fill-color);\n",
              "      border-bottom-color: var(--fill-color);\n",
              "    }\n",
              "    90% {\n",
              "      border-color: transparent;\n",
              "      border-bottom-color: var(--fill-color);\n",
              "    }\n",
              "  }\n",
              "</style>\n",
              "\n",
              "  <script>\n",
              "    async function quickchart(key) {\n",
              "      const quickchartButtonEl =\n",
              "        document.querySelector('#' + key + ' button');\n",
              "      quickchartButtonEl.disabled = true;  // To prevent multiple clicks.\n",
              "      quickchartButtonEl.classList.add('colab-df-spinner');\n",
              "      try {\n",
              "        const charts = await google.colab.kernel.invokeFunction(\n",
              "            'suggestCharts', [key], {});\n",
              "      } catch (error) {\n",
              "        console.error('Error during call to suggestCharts:', error);\n",
              "      }\n",
              "      quickchartButtonEl.classList.remove('colab-df-spinner');\n",
              "      quickchartButtonEl.classList.add('colab-df-quickchart-complete');\n",
              "    }\n",
              "    (() => {\n",
              "      let quickchartButtonEl =\n",
              "        document.querySelector('#df-3496a86b-05e0-4e99-9e55-2e4037f20c62 button');\n",
              "      quickchartButtonEl.style.display =\n",
              "        google.colab.kernel.accessAllowed ? 'block' : 'none';\n",
              "    })();\n",
              "  </script>\n",
              "</div>\n",
              "    </div>\n",
              "  </div>\n"
            ],
            "application/vnd.google.colaboratory.intrinsic+json": {
              "type": "dataframe",
              "variable_name": "df",
              "summary": "{\n  \"name\": \"df\",\n  \"rows\": 23295,\n  \"fields\": [\n    {\n      \"column\": \"Item Name\",\n      \"properties\": {\n        \"dtype\": \"category\",\n        \"num_unique_values\": 1553,\n        \"samples\": [\n          \"Twisted obsession Mitten\",\n          \"Black Dragon Terminator Orb\",\n          \"Cerberus Sandals\"\n        ],\n        \"semantic_type\": \"\",\n        \"description\": \"\"\n      }\n    },\n    {\n      \"column\": \"EnchantLevel\",\n      \"properties\": {\n        \"dtype\": \"number\",\n        \"std\": 4,\n        \"min\": 1,\n        \"max\": 15,\n        \"num_unique_values\": 15,\n        \"samples\": [\n          10,\n          12,\n          1\n        ],\n        \"semantic_type\": \"\",\n        \"description\": \"\"\n      }\n    },\n    {\n      \"column\": \"EnchantRatio\",\n      \"properties\": {\n        \"dtype\": \"number\",\n        \"std\": 38.86384918385651,\n        \"min\": 1.0,\n        \"max\": 100.0,\n        \"num_unique_values\": 12,\n        \"samples\": [\n          33.33,\n          1.0,\n          100.0\n        ],\n        \"semantic_type\": \"\",\n        \"description\": \"\"\n      }\n    },\n    {\n      \"column\": \"BreakRatio\",\n      \"properties\": {\n        \"dtype\": \"number\",\n        \"std\": 12.24771159957899,\n        \"min\": 0.0,\n        \"max\": 25.0,\n        \"num_unique_values\": 2,\n        \"samples\": [\n          25.0,\n          0.0\n        ],\n        \"semantic_type\": \"\",\n        \"description\": \"\"\n      }\n    },\n    {\n      \"column\": \"MinDowngrade\",\n      \"properties\": {\n        \"dtype\": \"number\",\n        \"std\": 0,\n        \"min\": 0,\n        \"max\": 1,\n        \"num_unique_values\": 2,\n        \"samples\": [\n          1,\n          0\n        ],\n        \"semantic_type\": \"\",\n        \"description\": \"\"\n      }\n    },\n    {\n      \"column\": \"MaxDowngrade\",\n      \"properties\": {\n        \"dtype\": \"number\",\n        \"std\": 0,\n        \"min\": 0,\n        \"max\": 2,\n        \"num_unique_values\": 3,\n        \"samples\": [\n          0,\n          1\n        ],\n        \"semantic_type\": \"\",\n        \"description\": \"\"\n      }\n    },\n    {\n      \"column\": \"Gold\",\n      \"properties\": {\n        \"dtype\": \"number\",\n        \"std\": 1722,\n        \"min\": 0,\n        \"max\": 28027,\n        \"num_unique_values\": 377,\n        \"samples\": [\n          4330,\n          1280\n        ],\n        \"semantic_type\": \"\",\n        \"description\": \"\"\n      }\n    }\n  ]\n}"
            }
          },
          "metadata": {},
          "execution_count": 2
        }
      ],
      "source": [
        "# Reading the csv file from the Google Drive Directory\n",
        "drive.mount('/content/drive')\n",
        "csv_file_path = '/content/drive/MyDrive/Enhancement_data/data.csv'\n",
        "\n",
        "df = pd.read_csv(csv_file_path)\n",
        "df"
      ]
    },
    {
      "cell_type": "markdown",
      "source": [
        "Create a function that calls the name of the item and getting their row number to convert in to a string"
      ],
      "metadata": {
        "id": "whoetr8DHQTa"
      }
    },
    {
      "cell_type": "code",
      "source": [
        "def get_item_info(keyword):\n",
        "    # Filter the DataFrame to get all columns for items containing the keyword\n",
        "    item_info = df[df['Item Name'].str.contains(keyword, case=False)]\n",
        "\n",
        "    return item_info\n",
        "\n",
        "def extract_row_numbers(item_info):\n",
        "    # Extract row numbers and turn them into a string\n",
        "    row_numbers_str = ', '.join(map(str, item_info.index.tolist()))\n",
        "\n",
        "    return row_numbers_str"
      ],
      "metadata": {
        "id": "m2OYB6MHWjLk"
      },
      "execution_count": 3,
      "outputs": []
    },
    {
      "cell_type": "markdown",
      "source": [
        "Testing the created function"
      ],
      "metadata": {
        "id": "vY9Y0Q8UHjDC"
      }
    },
    {
      "cell_type": "code",
      "source": [
        "keyword_test = \"Manticore\"  # Replace with the keyword you want to search for\n",
        "item_info_test = get_item_info(keyword_test)\n",
        "\n",
        "row_numbers_str_test = extract_row_numbers(item_info_test)\n",
        "print(row_numbers_str_test)"
      ],
      "metadata": {
        "colab": {
          "base_uri": "https://localhost:8080/"
        },
        "id": "CiZFkbWjHokk",
        "outputId": "7a173a3f-ec50-4906-fcbe-b464faee6b2b"
      },
      "execution_count": 4,
      "outputs": [
        {
          "output_type": "stream",
          "name": "stdout",
          "text": [
            "16740, 16741, 16742, 16743, 16744, 16745, 16746, 16747, 16748, 16749, 16750, 16751, 16752, 16753, 16754, 16755, 16756, 16757, 16758, 16759, 16760, 16761, 16762, 16763, 16764, 16765, 16766, 16767, 16768, 16769, 16770, 16771, 16772, 16773, 16774, 16775, 16776, 16777, 16778, 16779, 16780, 16781, 16782, 16783, 16784, 16785, 16786, 16787, 16788, 16789, 16790, 16791, 16792, 16793, 16794, 16795, 16796, 16797, 16798, 16799, 16800, 16801, 16802, 16803, 16804, 16805, 16806, 16807, 16808, 16809, 16810, 16811, 16812, 16813, 16814, 16815, 16816, 16817, 16818, 16819, 16820, 16821, 16822, 16823, 16824, 16825, 16826, 16827, 16828, 16829, 16830, 16831, 16832, 16833, 16834, 16835, 16836, 16837, 16838, 16839, 16840, 16841, 16842, 16843, 16844, 16845, 16846, 16847, 16848, 16849, 16850, 16851, 16852, 16853, 16854, 16855, 16856, 16857, 16858, 16859, 16860, 16861, 16862, 16863, 16864, 16865, 16866, 16867, 16868, 16869, 16870, 16871, 16872, 16873, 16874, 16875, 16876, 16877, 16878, 16879, 16880, 16881, 16882, 16883, 16884, 16885, 16886, 16887, 16888, 16889, 16890, 16891, 16892, 16893, 16894, 16895, 16896, 16897, 16898, 16899, 16900, 16901, 16902, 16903, 16904, 16905, 16906, 16907, 16908, 16909, 16910, 16911, 16912, 16913, 16914, 16915, 16916, 16917, 16918, 16919, 16920, 16921, 16922, 16923, 16924, 16925, 16926, 16927, 16928, 16929, 16930, 16931, 16932, 16933, 16934, 16935, 16936, 16937, 16938, 16939, 16940, 16941, 16942, 16943, 16944, 16945, 16946, 16947, 16948, 16949, 16950, 16951, 16952, 16953, 16954, 16955, 16956, 16957, 16958, 16959, 16960, 16961, 16962, 16963, 16964, 16965, 16966, 16967, 16968, 16969, 16970, 16971, 16972, 16973, 16974, 16975, 16976, 16977, 16978, 16979, 16980, 16981, 16982, 16983, 16984, 16985, 16986, 16987, 16988, 16989, 16990, 16991, 16992, 16993, 16994, 16995, 16996, 16997, 16998, 16999, 17000, 17001, 17002, 17003, 17004, 17005, 17006, 17007, 17008, 17009, 17010, 17011, 17012, 17013, 17014, 17015, 17016, 17017, 17018, 17019, 17020, 17021, 17022, 17023, 17024, 17025, 17026, 17027, 17028, 17029, 17030, 17031, 17032, 17033, 17034, 17035, 17036, 17037, 17038, 17039, 17040, 17041, 17042, 17043, 17044, 17045, 17046, 17047, 17048, 17049, 17050, 17051, 17052, 17053, 17054, 17055, 17056, 17057, 17058, 17059, 17060, 17061, 17062, 17063, 17064, 17065, 17066, 17067, 17068, 17069, 17070, 17071, 17072, 17073, 17074, 17075, 17076, 17077, 17078, 17079, 17080, 17081, 17082, 17083, 17084, 17085, 17086, 17087, 17088, 17089, 17090, 17091, 17092, 17093, 17094, 17095, 17096, 17097, 17098, 17099, 17100, 17101, 17102, 17103, 17104, 17105, 17106, 17107, 17108, 17109, 17110, 17111, 17112, 17113, 17114, 17115, 17116, 17117, 17118, 17119, 17120, 17121, 17122, 17123, 17124, 17125, 17126, 17127, 17128, 17129, 17130, 17131, 17132, 17133, 17134, 17135, 17136, 17137, 17138, 17139, 17140, 17141, 17142, 17143, 17144, 17145, 17146, 17147, 17148, 17149, 17150, 17151, 17152, 17153, 17154, 17155, 17156, 17157, 17158, 17159, 17160, 17161, 17162, 17163, 17164, 17165, 17166, 17167, 17168, 17169, 17170, 17171, 17172, 17173, 17174, 17175, 17176, 17177, 17178, 17179, 17180, 17181, 17182, 17183, 17184, 17185, 17186, 17187, 17188, 17189, 17190, 17191, 17192, 17193, 17194, 17195, 17196, 17197, 17198, 17199, 17200, 17201, 17202, 17203, 17204, 17205, 17206, 17207, 17208, 17209, 17210, 17211, 17212, 17213, 17214, 17215, 17216, 17217, 17218, 17219, 17220, 17221, 17222, 17223, 17224, 17225, 17226, 17227, 17228, 17229, 17230, 17231, 17232, 17233, 17234, 17235, 17236, 17237, 17238, 17239, 17240, 17241, 17242, 17243, 17244, 17245, 17246, 17247, 17248, 17249, 17250, 17251, 17252, 17253, 17254, 17255, 17256, 17257, 17258, 17259, 17260, 17261, 17262, 17263, 17264, 17265, 17266, 17267, 17268, 17269, 17270, 17271, 17272, 17273, 17274, 17275, 17276, 17277, 17278, 17279, 17280, 17281, 17282, 17283, 17284, 17285, 17286, 17287, 17288, 17289, 17290, 17291, 17292, 17293, 17294, 17295, 17296, 17297, 17298, 17299, 17300, 17301, 17302, 17303, 17304, 17305, 17306, 17307, 17308, 17309, 17310, 17311, 17312, 17313, 17314, 17315, 17316, 17317, 17318, 17319, 17320, 17321, 17322, 17323, 17324, 17325, 17326, 17327, 17328, 17329, 17330, 17331, 17332, 17333, 17334, 17335, 17336, 17337, 17338, 17339, 17340, 17341, 17342, 17343, 17344, 17345, 17346, 17347, 17348, 17349, 17350, 17351, 17352, 17353, 17354, 17355, 17356, 17357, 17358, 17359, 17360, 17361, 17362, 17363, 17364, 17365, 17366, 17367, 17368, 17369, 17370, 17371, 17372, 17373, 17374, 17375, 17376, 17377, 17378, 17379, 17380, 17381, 17382, 17383, 17384, 17385, 17386, 17387, 17388, 17389, 17390, 17391, 17392, 17393, 17394, 17395, 17396, 17397, 17398, 17399, 17400, 17401, 17402, 17403, 17404, 17405, 17406, 17407, 17408, 17409, 17410, 17411, 17412, 17413, 17414, 17415, 17416, 17417, 17418, 17419, 17420, 17421, 17422, 17423, 17424, 17425, 17426, 17427, 17428, 17429, 17430, 17431, 17432, 17433, 17434, 17435, 17436, 17437, 17438, 17439, 17440, 17441, 17442, 17443, 17444, 17445, 17446, 17447, 17448, 17449, 17450, 17451, 17452, 17453, 17454, 17455, 17456, 17457, 17458, 17459, 17460, 17461, 17462, 17463, 17464, 17465, 17466, 17467, 17468, 17469, 17470, 17471, 17472, 17473, 17474, 17475, 17476, 17477, 17478, 17479, 17480, 17481, 17482, 17483, 17484, 17485, 17486, 17487, 17488, 17489, 17490, 17491, 17492, 17493, 17494, 17495, 17496, 17497, 17498, 17499, 17500, 17501, 17502, 17503, 17504, 17505, 17506, 17507, 17508, 17509, 17510, 17511, 17512, 17513, 17514, 17515, 17516, 17517, 17518, 17519, 17520, 17521, 17522, 17523, 17524, 17525, 17526, 17527, 17528, 17529, 17530, 17531, 17532, 17533, 17534, 17535, 17536, 17537, 17538, 17539, 17540, 17541, 17542, 17543, 17544, 17545, 17546, 17547, 17548, 17549, 17550, 17551, 17552, 17553, 17554, 17555, 17556, 17557, 17558, 17559, 17560, 17561, 17562, 17563, 17564, 17565, 17566, 17567, 17568, 17569, 17570, 17571, 17572, 17573, 17574, 17575, 17576, 17577, 17578, 17579, 17580, 17581, 17582, 17583, 17584, 17585, 17586, 17587, 17588, 17589, 17590, 17591, 17592, 17593, 17594, 17595, 17596, 17597, 17598, 17599, 17600, 17601, 17602, 17603, 17604, 17605, 17606, 17607, 17608, 17609, 17610, 17611, 17612, 17613, 17614, 17615, 17616, 17617, 17618, 17619, 17620, 17621, 17622, 17623, 17624, 17625, 17626, 17627, 17628, 17629, 17630, 17631, 17632, 17633, 17634, 17635, 17636, 17637, 17638, 17639, 17640, 17641, 17642, 17643, 17644, 17645, 17646, 17647, 17648, 17649, 17650, 17651, 17652, 17653, 17654, 17655, 17656, 17657, 17658, 17659, 17660, 17661, 17662, 17663, 17664, 17665, 17666, 17667, 17668, 17669, 17670, 17671, 17672, 17673, 17674, 17675, 17676, 17677, 17678, 17679, 17680, 17681, 17682, 17683, 17684, 17685, 17686, 17687, 17688, 17689, 17690, 17691, 17692, 17693, 17694, 17695, 17696, 17697, 17698, 17699, 17700, 17701, 17702, 17703, 17704, 17705, 17706, 17707, 17708, 17709, 17710, 17711, 17712, 17713, 17714\n"
          ]
        }
      ]
    },
    {
      "cell_type": "markdown",
      "source": [
        "# Legend sets in Dragon Nest"
      ],
      "metadata": {
        "id": "cdC8vcNqICLz"
      }
    },
    {
      "cell_type": "markdown",
      "source": [
        "The list of Legends within the csv file\n",
        "\n",
        "1. Sword Master - Destroyer\n",
        "2. Mercenary - Illumia\n",
        "3. Sharpshooter - Tracker\n",
        "4. Acrobat - Troublemaker\n",
        "5. Priest - Saviour\n",
        "6. Paladin - Guardian\n",
        "7. Elemental lord/Elementalist - Terminator\n",
        "8. Force User - Contractor\n",
        "9. Alchemist - Changer\n",
        "10. Engineer - Coordinator\n",
        "11. Screamer - Soul Handler\n",
        "12. Dancer - Dancer\n",
        "13. Chaser - Slaughter\n",
        "14. Bringer - Meditation\n",
        "15. Dragoon - Victoria"
      ],
      "metadata": {
        "id": "NEvzW2ZkIF9C"
      }
    },
    {
      "cell_type": "code",
      "source": [
        "# EGDNL for warrior\n",
        "keyword_EGDNL_sword = \"Emerald Dragon Destroyer\"\n",
        "keyword_EGDNL_merc = \"Emerald Dragon Illumia\"\n",
        "\n",
        "# EGDNL for archer\n",
        "keyword_EGDNL_sharp = \"Emerald Dragon Tracker\"\n",
        "keyword_EGDNL_acro = \"Emerald Dragon Troublemaker\"\n",
        "\n",
        "# EGDNL for cleric\n",
        "keyword_EGDNL_priest = \"Emerald Dragon Saviour\"\n",
        "keyword_EGDNL_pala = \"Emerald Dragon Guardian Knight\"\n",
        "\n",
        "# EGDNL for sorceress\n",
        "keyword_EGDNL_ele = \"Emerald Dragon Terminator\"\n",
        "keyword_EGDNL_bt = \"Emerald Dragon Contractor\"\n",
        "\n",
        "# EGDNL for academic\n",
        "keyword_EGDNL_slime = \"Emerald Dragon Changer\"\n",
        "keyword_EGDNL_duck = \"Emerald Dragon Coordinator\"\n",
        "\n",
        "# EGDNL for kali\n",
        "Keyword_EGDNL_curse = \"Emerald Dragon Soul Handler\"\n",
        "keyword_EGDNL_dance = \"Emerald Dragon Dancer\"\n",
        "\n",
        "# EGDNL for assassin\n",
        "keyword_EGDNL_crow = \"Emerald Dragon Slaughter\"\n",
        "keyword_EGDNL_medi = \"Emerald Dragon Meditation\"\n",
        "\n",
        "# EGDNL for lancea\n",
        "keyword_EGDNL_spin = \"Emerald Dragon Victoria\""
      ],
      "metadata": {
        "id": "Z-c1OMt2ILiP"
      },
      "execution_count": 5,
      "outputs": []
    },
    {
      "cell_type": "markdown",
      "source": [
        "1. Swordmaster (Destroyer) Green/Emerald Dragon Legend set\n",
        "\n"
      ],
      "metadata": {
        "id": "r1v7sK1BIRKS"
      }
    },
    {
      "cell_type": "code",
      "source": [
        "keyword_EGDNL1 = keyword_EGDNL_sword  # Replace with the keyword you want to search for\n",
        "item_info_EGDNL1 = get_item_info(keyword_EGDNL1)\n",
        "\n",
        "row_numbers_str_1 = extract_row_numbers(item_info_EGDNL1)"
      ],
      "metadata": {
        "id": "yJPxUKYJIjtW"
      },
      "execution_count": 6,
      "outputs": []
    },
    {
      "cell_type": "code",
      "source": [
        "SW_row_indices = [10935, 10936, 10937, 10938, 10939, 10940, 10941, 10942, 10943, 10944, 10945, 10946, 10947, 10948, 10949, # Destroyer Helmet\n",
        "               10965, 10966, 10967, 10968, 10969, 10970, 10971, 10972, 10973, 10974, 10975, 10976, 10977, 10978, 10979, # Destroyer Shirt\n",
        "               10950, 10951, 10952, 10953, 10954, 10955, 10956, 10957, 10958, 10959, 10960, 10961, 10962, 10963, 10964, # Destroyer Pants\n",
        "               10920, 10921, 10922, 10923, 10924, 10925, 10926, 10927, 10928, 10929, 10930, 10931, 10932, 10933, 10934, # Destroyer Gloves\n",
        "               10890, 10891, 10892, 10893, 10894, 10895, 10896, 10897, 10898, 10899, 10900, 10901, 10902, 10903, 10904, # Destroyer Boots\n",
        "               10980, 10981, 10982, 10983, 10984, 10985, 10986, 10987, 10988, 10989, 10990, 10991, 10992, 10993, 10994, # Destroyer Sword\n",
        "               10905, 10906, 10907, 10908, 10909, 10910, 10911, 10912, 10913, 10914, 10915, 10916, 10917, 10918, 10919] # Destroyer Gauntlet\n",
        "\n",
        "# Select specific 15 rows from all columns using the defined indices\n",
        "SW_selected_rows = df.iloc[SW_row_indices, :]\n",
        "\n",
        "# Save the selected rows to a new CSV file\n",
        "SW_selected_rows.to_csv('/content/drive/MyDrive/Enhancement_data/Legends/EGDN/Swordmaster.csv', index=False)"
      ],
      "metadata": {
        "id": "FoxfgtDxIm0H"
      },
      "execution_count": 7,
      "outputs": []
    },
    {
      "cell_type": "markdown",
      "source": [
        "2. Mercenary (Illumia) Green/Emerald Dragon Legend set\n"
      ],
      "metadata": {
        "id": "pgSvC8EjIw7I"
      }
    },
    {
      "cell_type": "code",
      "source": [
        "keyword_EGDNL2 = keyword_EGDNL_merc  # Replace with the keyword you want to search for\n",
        "item_info_EGDNL2 = get_item_info(keyword_EGDNL2)\n",
        "\n",
        "row_numbers_str_2 = extract_row_numbers(item_info_EGDNL2)"
      ],
      "metadata": {
        "id": "YROiUEjpI0SC"
      },
      "execution_count": 8,
      "outputs": []
    },
    {
      "cell_type": "code",
      "source": [
        "MERC_row_indices = [11340, 11341, 11342, 11343, 11344, 11345, 11346, 11347, 11348, 11349, 11350, 11351, 11352, 11353, 11354, # Illumia Helmet\n",
        "               11370, 11371, 11372, 11373, 11374, 11375, 11376, 11377, 11378, 11379, 11380, 11381, 11382, 11383, 11384, # Illumia Shirt\n",
        "               11355, 11356, 11357, 11358, 11359, 11360, 11361, 11362, 11363, 11364, 11365, 11366, 11367, 11368, 11369, # Illumia Pants\n",
        "               11310, 11311, 11312, 11313, 11314, 11315, 11316, 11317, 11318, 11319, 11320, 11321, 11322, 11323, 11324, # Illumia Gloves\n",
        "               11280, 11281, 11282, 11283, 11284, 11285, 11286, 11287, 11288, 11289, 11290, 11291, 11292, 11293, 11294, # Illumia Boots\n",
        "               11265, 11266, 11267, 11268, 11269, 11270, 11271, 11272, 11273, 11274, 11275, 11276, 11277, 11278, 11279, # Illumia Axe\n",
        "               11325, 11326, 11327, 11328, 11329, 11330, 11331, 11332, 11333, 11334, 11335, 11336, 11337, 11338, 11339, # Illumia Hammer\n",
        "               11295, 11296, 11297, 11298, 11299, 11300, 11301, 11302, 11303, 11304, 11305, 11306, 11307, 11308, 11309] # Illumia Gauntlet\n",
        "\n",
        "# Select specific 15 rows from all columns using the defined indices\n",
        "MERC_selected_rows = df.iloc[MERC_row_indices, :]\n",
        "\n",
        "# Save the selected rows to a new CSV file\n",
        "MERC_selected_rows.to_csv('/content/drive/MyDrive/Enhancement_data/Legends/EGDN/Mercenary.csv', index=False)"
      ],
      "metadata": {
        "id": "wnZ6YmkQI2BI"
      },
      "execution_count": 9,
      "outputs": []
    },
    {
      "cell_type": "markdown",
      "source": [
        "3. Sharpshooter (Tracker) Green/Emerald Dragon Legend set"
      ],
      "metadata": {
        "id": "lbqKiVWjI_yD"
      }
    },
    {
      "cell_type": "code",
      "source": [
        "keyword_EGDNL3 = keyword_EGDNL_sharp  # Replace with the keyword you want to search for\n",
        "item_info_EGDNL3 = get_item_info(keyword_EGDNL3)\n",
        "\n",
        "row_numbers_str_3 = extract_row_numbers(item_info_EGDNL3)"
      ],
      "metadata": {
        "id": "o4WzfL2sJArl"
      },
      "execution_count": 10,
      "outputs": []
    },
    {
      "cell_type": "code",
      "source": [
        "Sharp_row_indices = [12450, 12451, 12452, 12453, 12454, 12455, 12456, 12457, 12458, 12459, 12460, 12461, 12462, 12463, 12464, # Tracker Headband\n",
        "               12510, 12511, 12512, 12513, 12514, 12515, 12516, 12517, 12518, 12519, 12520, 12521, 12522, 12523, 12524, # Tracker Onesie\n",
        "               12465, 12466, 12467, 12468, 12469, 12470, 12471, 12472, 12473, 12474, 12475, 12476, 12477, 12478, 12479, # Tracker Leggings\n",
        "               12495, 12496, 12497, 12498, 12499, 12500, 12501, 12502, 12503, 12504, 12505, 12506, 12507, 12508, 12509, # Tracker Mittens\n",
        "               12420, 12421, 12422, 12423, 12424, 12425, 12426, 12427, 12428, 12429, 12430, 12431, 12432, 12433, 12434, # Tracker Booties\n",
        "               12480, 12481, 12482, 12483, 12484, 12485, 12486, 12487, 12488, 12489, 12490, 12491, 12492, 12493, 12494, # Tracker Longbow\n",
        "               12435, 12436, 12437, 12438, 12439, 12440, 12441, 12442, 12443, 12444, 12445, 12446, 12447, 12448, 12449, # Tracker Crossbow\n",
        "               12525, 12526, 12527, 12528, 12529, 12530, 12531, 12532, 12533, 12534, 12535, 12536, 12537, 12538, 12539] # Tracker Quiver\n",
        "\n",
        "# Select specific 15 rows from all columns using the defined indices\n",
        "Sharp_selected_rows = df.iloc[Sharp_row_indices, :]\n",
        "\n",
        "# Save the selected rows to a new CSV file\n",
        "Sharp_selected_rows.to_csv('/content/drive/MyDrive/Enhancement_data/Legends/EGDN/SharpShooter.csv', index=False)"
      ],
      "metadata": {
        "id": "DChcjLAsJAf3"
      },
      "execution_count": 11,
      "outputs": []
    },
    {
      "cell_type": "markdown",
      "source": [
        "4. Acrobat (Troublemaker) Green/Emerald Dragon Legend set"
      ],
      "metadata": {
        "id": "SmsJPN-LJM37"
      }
    },
    {
      "cell_type": "code",
      "source": [
        "keyword_EGDNL4 = keyword_EGDNL_acro  # Replace with the keyword you want to search for\n",
        "item_info_EGDNL4 = get_item_info(keyword_EGDNL4)\n",
        "\n",
        "row_numbers_str_4 = extract_row_numbers(item_info_EGDNL4)"
      ],
      "metadata": {
        "id": "EggF6A7FJNYD"
      },
      "execution_count": 12,
      "outputs": []
    },
    {
      "cell_type": "code",
      "source": [
        "Acro_row_indices = [12555, 12556, 12557, 12558, 12559, 12560, 12561, 12562, 12563, 12564, 12565, 12566, 12567, 12568, 12569, # Troublemaker HeadBand\n",
        "               12600, 12601, 12602, 12603, 12604, 12605, 12606, 12607, 12608, 12609, 12610, 12611, 12612, 12613, 12614, # Troublemaker Onesie\n",
        "               12570, 12571, 12572, 12573, 12574, 12575, 12576, 12577, 12578, 12579, 12580, 12581, 12582, 12583, 12584, # Troublemaker Leggings\n",
        "               12585, 12586, 12587, 12588, 12589, 12590, 12591, 12592, 12593, 12594, 12595, 12596, 12597, 12598, 12599, # Troublemaker Mittens\n",
        "               12540, 12541, 12542, 12543, 12544, 12545, 12546, 12547, 12548, 12549, 12550, 12551, 12552, 12553, 12554, # Troublemaker Booties\n",
        "               12615, 12616, 12617, 12618, 12619, 12620, 12621, 12622, 12623, 12624, 12625, 12626, 12627, 12628, 12629, # Troublemaker Shortbow\n",
        "               12630, 12631, 12632, 12633, 12634, 12635, 12636, 12637, 12638, 12639, 12640, 12641, 12642, 12643, 12644] # Troublemaker Quiver\n",
        "\n",
        "# Select specific 15 rows from all columns using the defined indices\n",
        "Acro_selected_rows = df.iloc[Acro_row_indices, :]\n",
        "\n",
        "# Save the selected rows to a new CSV file\n",
        "Acro_selected_rows.to_csv('/content/drive/MyDrive/Enhancement_data/Legends/EGDN/Acrobat.csv', index=False)"
      ],
      "metadata": {
        "id": "7NeaWpiaJNoI"
      },
      "execution_count": 13,
      "outputs": []
    },
    {
      "cell_type": "markdown",
      "source": [
        "5. Priest (Saviour) Green/Emerald Dragon Legend set\n"
      ],
      "metadata": {
        "id": "TySamPDuJYZm"
      }
    },
    {
      "cell_type": "code",
      "source": [
        "keyword_EGDNL5 = keyword_EGDNL_priest  # Replace with the keyword you want to search for\n",
        "item_info_EGDNL5 = get_item_info(keyword_EGDNL5)\n",
        "\n",
        "row_numbers_str_5 = extract_row_numbers(item_info_EGDNL5)"
      ],
      "metadata": {
        "id": "TtRTdckiJZi4"
      },
      "execution_count": 14,
      "outputs": []
    },
    {
      "cell_type": "code",
      "source": [
        "priest_row_indices = [11820, 11821, 11822, 11823, 11824, 11825, 11826, 11827, 11828, 11829, 11830, 11831, 11832, 11833, 11834, # Saviour Galero\n",
        "               11790, 11791, 11792, 11793, 11794, 11795, 11796, 11797, 11798, 11799, 11800, 11801, 11802, 11803, 11804, # Saviour Armour\n",
        "               11865, 11866, 11867, 11868, 11869, 11870, 11871, 11872, 11873, 11874, 11875, 11876, 11877, 11878, 11879, # Saviour Trousers\n",
        "               11805, 11806, 11807, 11808, 11809, 11810, 11811, 11812, 11813, 11814, 11815, 11816, 11817, 11818, 11819, # Saviour Cuffs\n",
        "               11850, 11851, 11852, 11853, 11854, 11855, 11856, 11857, 11858, 11859, 11860, 11861, 11862, 11863, 11864, # Saviour Shoes\n",
        "               11880, 11881, 11882, 11883, 11884, 11885, 11886, 11887, 11888, 11889, 11890, 11891, 11892, 11893, 11894, # Saviour Wand\n",
        "               11835, 11836, 11837, 11838, 11839, 11840, 11841, 11842, 11843, 11844, 11845, 11846, 11847, 11848, 11849] # Saviour Shield\n",
        "\n",
        "# Select specific 15 rows from all columns using the defined indices\n",
        "priest_selected_rows = df.iloc[priest_row_indices, :]\n",
        "\n",
        "# Save the selected rows to a new CSV file\n",
        "priest_selected_rows.to_csv('/content/drive/MyDrive/Enhancement_data/Legends/EGDN/Priest.csv', index=False)"
      ],
      "metadata": {
        "id": "B2k5BXKcJZPz"
      },
      "execution_count": 15,
      "outputs": []
    },
    {
      "cell_type": "markdown",
      "source": [
        "6. Paladin (Guardian) Green/Emerald Dragon Legend set"
      ],
      "metadata": {
        "id": "Gks08Rc6JnKk"
      }
    },
    {
      "cell_type": "code",
      "source": [
        "keyword_EGDNL6 = keyword_EGDNL_pala  # Replace with the keyword you want to search for\n",
        "item_info_EGDNL6 = get_item_info(keyword_EGDNL6)\n",
        "\n",
        "row_numbers_str_6 = extract_row_numbers(item_info_EGDNL6)"
      ],
      "metadata": {
        "id": "TtZZae7MJnnh"
      },
      "execution_count": 16,
      "outputs": []
    },
    {
      "cell_type": "code",
      "source": [
        "pala_row_indices = [11130, 11131, 11132, 11133, 11134, 11135, 11136, 11137, 11138, 11139, 11140, 11141, 11142, 11143, 11144, # Guardian Knight Galero\n",
        "               11085, 11086, 11087, 11088, 11089, 11090, 11091, 11092, 11093, 11094, 11095, 11096, 11097, 11098, 11099, # Guardian Knight Armour\n",
        "               11190, 11191, 11192, 11193, 11194, 11195, 11196, 11197, 11198, 11199, 11200, 11201, 11202, 11203, 11204, # Guardian Knight Trousers\n",
        "               11100, 11101, 11102, 11103, 11104, 11105, 11106, 11107, 11108, 11109, 11110, 11111, 11112, 11113, 11114, # Guardian Knight Cuffs\n",
        "               11175, 11176, 11177, 11178, 11179, 11180, 11181, 11182, 11183, 11184, 11185, 11186, 11187, 11188, 11189, # Guardian Knight Shoes\n",
        "               11115, 11116, 11117, 11118, 11119, 11120, 11121, 11122, 11123, 11124, 11125, 11126, 11127, 11128, 11129, # Guardian Knight Flail\n",
        "               11145, 11146, 11147, 11148, 11149, 11150, 11151, 11152, 11153, 11154, 11155, 11156, 11157, 11158, 11159, # Guardian Knight Mace\n",
        "               11160, 11161, 11162, 11163, 11164, 11165, 11166, 11167, 11168, 11169, 11170, 11171, 11172, 11173, 11174] # Guardian Knight Shield\n",
        "\n",
        "# Select specific 15 rows from all columns using the defined indices\n",
        "pala_selected_rows = df.iloc[pala_row_indices, :]\n",
        "\n",
        "# Save the selected rows to a new CSV file\n",
        "pala_selected_rows.to_csv('/content/drive/MyDrive/Enhancement_data/Legends/EGDN/Paladin.csv', index=False)"
      ],
      "metadata": {
        "id": "G5HI8FI_Jnx0"
      },
      "execution_count": 17,
      "outputs": []
    },
    {
      "cell_type": "markdown",
      "source": [
        "7. Elementalist/Elemental Lord Green/Emerald Dragon Legend set"
      ],
      "metadata": {
        "id": "j6vGDewPJylU"
      }
    },
    {
      "cell_type": "code",
      "source": [
        "keyword_EGDNL7 = keyword_EGDNL_ele  # Replace with the keyword you want to search for\n",
        "item_info_EGDNL7 = get_item_info(keyword_EGDNL7)\n",
        "\n",
        "row_numbers_str_7 = extract_row_numbers(item_info_EGDNL7)"
      ],
      "metadata": {
        "id": "C1Nx44vpJzLa"
      },
      "execution_count": 18,
      "outputs": []
    },
    {
      "cell_type": "code",
      "source": [
        "ele_row_indices = [12345, 12346, 12347, 12348, 12349, 12350, 12351, 12352, 12353, 12354, 12355, 12356, 12357, 12358, 12359, # Terminator Tiara\n",
        "               12300, 12301, 12302, 12303, 12304, 12305, 12306, 12307, 12308, 12309, 12310, 12311, 12312, 12313, 12314, # Terminator Robe\n",
        "               12360, 12361, 12362, 12363, 12364, 12365, 12366, 12367, 12368, 12369, 12370, 12371, 12372, 12373, 12374, # Terminator Tights\n",
        "               12270, 12271, 12272, 12273, 12274, 12275, 12276, 12277, 12278, 12279, 12280, 12281, 12282, 12283, 12284, # Terminator Muff\n",
        "               12255, 12256, 12257, 12258, 12259, 12260, 12261, 12262, 12263, 12264, 12265, 12266, 12267, 12268, 12269, # Terminator Heels\n",
        "               12330, 12331, 12332, 12333, 12334, 12335, 12336, 12337, 12338, 12339, 12340, 12341, 12342, 12343, 12344, # Terminator Staff\n",
        "               12285, 12286, 12287, 12288, 12289, 12290, 12291, 12292, 12293, 12294, 12295, 12296, 12297, 12298, 12299, # Terminator Orb\n",
        "               12315, 12316, 12317, 12318, 12319, 12320, 12321, 12322, 12323, 12324, 12325, 12326, 12327, 12328, 12329, # Terminator Spellbook\n",
        "               12375, 12376, 12377, 12378, 12379, 12380, 12381, 12382, 12383, 12384, 12385, 12386, 12387, 12388, 12389] # Terminator Voodoo Doll\n",
        "\n",
        "# Select specific 15 rows from all columns using the defined indices\n",
        "ele_selected_rows = df.iloc[ele_row_indices, :]\n",
        "\n",
        "# Save the selected rows to a new CSV file\n",
        "ele_selected_rows.to_csv('/content/drive/MyDrive/Enhancement_data/Legends/EGDN/Elementalist.csv', index=False)"
      ],
      "metadata": {
        "id": "GjvTNUy_Jyy8"
      },
      "execution_count": 19,
      "outputs": []
    },
    {
      "cell_type": "markdown",
      "source": [
        "8. Force User Green/Emerald Dragon Legend set"
      ],
      "metadata": {
        "id": "uN3DuqelKDPr"
      }
    },
    {
      "cell_type": "code",
      "source": [
        "keyword_EGDNL8 = keyword_EGDNL_bt  # Replace with the keyword you want to search for\n",
        "item_info_EGDNL8 = get_item_info(keyword_EGDNL8)\n",
        "\n",
        "row_numbers_str_8 = extract_row_numbers(item_info_EGDNL8)"
      ],
      "metadata": {
        "id": "cEE7dgWBKDiT"
      },
      "execution_count": 20,
      "outputs": []
    },
    {
      "cell_type": "code",
      "source": [
        "bt_row_indices = [10590, 10591, 10592, 10593, 10594, 10595, 10596, 10597, 10598, 10599, 10600, 10601, 10602, 10603, 10604, # Contractor Tiara\n",
        "               10545, 10546, 10547, 10548, 10549, 10550, 10551, 10552, 10553, 10554, 10555, 10556, 10557, 10558, 10559, # Contractor Robe\n",
        "               10605, 10606, 10607, 10608, 10609, 10610, 10611, 10612, 10613, 10614, 10615, 10616, 10617, 10618, 10619, # Contractor Tights\n",
        "               10515, 10516, 10517, 10518, 10519, 10520, 10521, 10522, 10523, 10524, 10525, 10526, 10527, 10528, 10529, # Contractor Muff\n",
        "               10500, 10501, 10502, 10503, 10504, 10505, 10506, 10507, 10508, 10509, 10510, 10511, 10512, 10513, 10514, # Contractor Heels\n",
        "               10575, 10576, 10577, 10578, 10579, 10580, 10581, 10582, 10583, 10584, 10585, 10586, 10587, 10588, 10589, # Contractor Staff\n",
        "               10530, 10531, 10532, 10533, 10534, 10535, 10536, 10537, 10538, 10539, 10540, 10541, 10542, 10543, 10544, # Contractor Orb\n",
        "               10560, 10561, 10562, 10563, 10564, 10565, 10566, 10567, 10568, 10569, 10570, 10571, 10572, 10573, 10574, # Contractor Spellbook\n",
        "               10620, 10621, 10622, 10623, 10624, 10625, 10626, 10627, 10628, 10629, 10630, 10631, 10632, 10633, 10634] # Contractor Voodoo Doll\n",
        "\n",
        "# Select specific 15 rows from all columns using the defined indices\n",
        "bt_selected_rows = df.iloc[bt_row_indices, :]\n",
        "\n",
        "# Save the selected rows to a new CSV file\n",
        "bt_selected_rows.to_csv('/content/drive/MyDrive/Enhancement_data/Legends/EGDN/ForceUser.csv', index=False)"
      ],
      "metadata": {
        "id": "9Sj9fDiHKDt1"
      },
      "execution_count": 21,
      "outputs": []
    },
    {
      "cell_type": "markdown",
      "source": [
        "9. Alchemist Green/Emerald Dragon Legend set"
      ],
      "metadata": {
        "id": "OWeroJNsKQ7f"
      }
    },
    {
      "cell_type": "code",
      "source": [
        "keyword_EGDNL9 = keyword_EGDNL_slime  # Replace with the keyword you want to search for\n",
        "item_info_EGDNL9 = get_item_info(keyword_EGDNL9)\n",
        "\n",
        "row_numbers_str_9 = extract_row_numbers(item_info_EGDNL9)"
      ],
      "metadata": {
        "id": "DEgRuPZbKbDS"
      },
      "execution_count": 22,
      "outputs": []
    },
    {
      "cell_type": "code",
      "source": [
        "slime_row_indices = [10365, 10366, 10367, 10368, 10369, 10370, 10371, 10372, 10373, 10374, 10375, 10376, 10377, 10378, 10379, # Changer Beret\n",
        "               10440, 10441, 10442, 10443, 10444, 10445, 10446, 10447, 10448, 10449, 10450, 10451, 10452, 10453, 10454, # Changer Tunic\n",
        "               10455, 10456, 10457, 10458, 10459, 10460, 10461, 10462, 10463, 10464, 10465, 10466, 10467, 10468, 10469, # Changer Slacks\n",
        "               10410, 10411, 10412, 10413, 10414, 10415, 10416, 10417, 10418, 10419, 10420, 10421, 10422, 10423, 10424, # Changer Power Mitten\n",
        "               10425, 10426, 10427, 10428, 10429, 10430, 10431, 10432, 10433, 10434, 10435, 10436, 10437, 10438, 10439, # Changer Round Shoes\n",
        "               10380, 10381, 10382, 10383, 10384, 10385, 10386, 10387, 10388, 10389, 10390, 10391, 10392, 10393, 10394, # Changer Bubble Gun\n",
        "               10395, 10396, 10397, 10398, 10399, 10400, 10401, 10402, 10403, 10404, 10405, 10406, 10407, 10408, 10409] # Changer Mecha Glove\n",
        "\n",
        "# Select specific 15 rows from all columns using the defined indices\n",
        "slime_selected_rows = df.iloc[slime_row_indices, :]\n",
        "\n",
        "# Save the selected rows to a new CSV file\n",
        "slime_selected_rows.to_csv('/content/drive/MyDrive/Enhancement_data/Legends/EGDN/Alchemist.csv', index=False)"
      ],
      "metadata": {
        "id": "3xld-sTSKa4z"
      },
      "execution_count": 23,
      "outputs": []
    },
    {
      "cell_type": "markdown",
      "source": [
        "10. Engineer Green/Emerald Dragon Legend set"
      ],
      "metadata": {
        "id": "5QSihoBdKkF0"
      }
    },
    {
      "cell_type": "code",
      "source": [
        "keyword_EGDNL10 = keyword_EGDNL_duck  # Replace with the keyword you want to search for\n",
        "item_info_EGDNL10 = get_item_info(keyword_EGDNL10)\n",
        "\n",
        "row_numbers_str_10 = extract_row_numbers(item_info_EGDNL10)"
      ],
      "metadata": {
        "id": "XoDL081aKkUU"
      },
      "execution_count": 24,
      "outputs": []
    },
    {
      "cell_type": "code",
      "source": [
        "duck_row_indices = [10635, 10636, 10637, 10638, 10639, 10640, 10641, 10642, 10643, 10644, 10645, 10646, 10647, 10648, 10649, # Coordinator Beret\n",
        "               10710, 10711, 10712, 10713, 10714, 10715, 10716, 10717, 10718, 10719, 10720, 10721, 10722, 10723, 10724, # Coordinator Tunic\n",
        "               10725, 10726, 10727, 10728, 10729, 10730, 10731, 10732, 10733, 10734, 10735, 10736, 10737, 10738, 10739, # Coordinator Slacks\n",
        "               10680, 10681, 10682, 10683, 10684, 10685, 10686, 10687, 10688, 10689, 10690, 10691, 10692, 10693, 10694, # Coordinator Power Mitten\n",
        "               10695, 10696, 10697, 10698, 10699, 10700, 10701, 10702, 10703, 10704, 10705, 10706, 10707, 10708, 10709, # Coordinator Round Shoes\n",
        "               10650, 10651, 10652, 10653, 10654, 10655, 10656, 10657, 10658, 10659, 10660, 10661, 10662, 10663, 10664, # Coordinator Cannon\n",
        "               10665, 10666, 10667, 10668, 10669, 10670, 10671, 10672, 10673, 10674, 10675, 10676, 10677, 10678, 10679] # Coordinator Mecha Glove\n",
        "\n",
        "# Select specific 15 rows from all columns using the defined indices\n",
        "duck_selected_rows = df.iloc[duck_row_indices, :]\n",
        "\n",
        "# Save the selected rows to a new CSV file\n",
        "duck_selected_rows.to_csv('/content/drive/MyDrive/Enhancement_data/Legends/EGDN/Engineer.csv', index=False)"
      ],
      "metadata": {
        "id": "0S2NlTepKkm5"
      },
      "execution_count": 25,
      "outputs": []
    },
    {
      "cell_type": "markdown",
      "source": [
        "11. Screamer Green/Emerald Dragon Legend set\n"
      ],
      "metadata": {
        "id": "x-HwRsy3K31G"
      }
    },
    {
      "cell_type": "code",
      "source": [
        "keyword_EGDNL11 = Keyword_EGDNL_curse  # Replace with the keyword you want to search for\n",
        "item_info_EGDNL11 = get_item_info(keyword_EGDNL11)\n",
        "\n",
        "row_numbers_str_11 = extract_row_numbers(item_info_EGDNL11)"
      ],
      "metadata": {
        "id": "ZjUqTT4CK4Dv"
      },
      "execution_count": 26,
      "outputs": []
    },
    {
      "cell_type": "code",
      "source": [
        "curse_row_indices = [12150, 12151, 12152, 12153, 12154, 12155, 12156, 12157, 12158, 12159, 12160, 12161, 12162, 12163, 12164, # Soul Handler Orni\n",
        "               12105, 12106, 12107, 12108, 12109, 12110, 12111, 12112, 12113, 12114, 12115, 12116, 12117, 12118, 12119, # Soul Handler Chori\n",
        "               12180, 12181, 12182, 12183, 12184, 12185, 12186, 12187, 12188, 12189, 12190, 12191, 12192, 12193, 12194, # Soul Handler Salwar\n",
        "               12165, 12166, 12167, 12168, 12169, 12170, 12171, 12172, 12173, 12174, 12175, 12176, 12177, 12178, 12179, # Soul Handler Rakki\n",
        "               12135, 12136, 12137, 12138, 12139, 12140, 12141, 12142, 12143, 12144, 12145, 12146, 12147, 12148, 12149, # Soul Handler Jutti\n",
        "               12120, 12121, 12122, 12123, 12124, 12125, 12126, 12127, 12128, 12129, 12130, 12131, 12132, 12133, 12134, # Soul Handler Fan\n",
        "               12090, 12091, 12092, 12093, 12094, 12095, 12096, 12097, 12098, 12099, 12100, 12101, 12102, 12103, 12104] # Soul Handler Charm\n",
        "\n",
        "# Select specific 15 rows from all columns using the defined indices\n",
        "curse_selected_rows = df.iloc[curse_row_indices, :]\n",
        "\n",
        "# Save the selected rows to a new CSV file\n",
        "curse_selected_rows.to_csv('/content/drive/MyDrive/Enhancement_data/Legends/EGDN/Screamer.csv', index=False)"
      ],
      "metadata": {
        "id": "B44hC8lNK4TA"
      },
      "execution_count": 27,
      "outputs": []
    },
    {
      "cell_type": "markdown",
      "source": [
        "12. Dancer Green/Emerald Dragon Legend set"
      ],
      "metadata": {
        "id": "Egf9vAZPK_Xn"
      }
    },
    {
      "cell_type": "code",
      "source": [
        "keyword_EGDNL12 = keyword_EGDNL_dance  # Replace with the keyword you want to search for\n",
        "item_info_EGDNL12 = get_item_info(keyword_EGDNL12)\n",
        "\n",
        "row_numbers_str_12 = extract_row_numbers(item_info_EGDNL12)"
      ],
      "metadata": {
        "id": "F_4_LG-aK__p"
      },
      "execution_count": 28,
      "outputs": []
    },
    {
      "cell_type": "code",
      "source": [
        "dance_row_indices = [10845, 10846, 10847, 10848, 10849, 10850, 10851, 10852, 10853, 10854, 10855, 10856, 10857, 10858, 10859, # Dancer Orni\n",
        "               10815, 10816, 10817, 10818, 10819, 10820, 10821, 10822, 10823, 10824, 10825, 10826, 10827, 10828, 10829, # Dancer Chori\n",
        "               10875, 10876, 10877, 10878, 10879, 10880, 10881, 10882, 10883, 10884, 10885, 10886, 10887, 10888, 10889, # Dancer Salwar\n",
        "               10860, 10861, 10862, 10863, 10864, 10865, 10866, 10867, 10868, 10869, 10870, 10871, 10872, 10873, 10874, # Dancer Rakki\n",
        "               10830, 10831, 10832, 10833, 10834, 10835, 10836, 10837, 10838, 10839, 10840, 10841, 10842, 10843, 10844, # Dancer Jutti\n",
        "               10785, 10786, 10787, 10788, 10789, 10790, 10791, 10792, 10793, 10794, 10795, 10796, 10797, 10798, 10799, # Dancer Chakram\n",
        "               10800, 10801, 10802, 10803, 10804, 10805, 10806, 10807, 10808, 10809, 10810, 10811, 10812, 10813, 10814] # Dancer Charm\n",
        "\n",
        "# Select specific 15 rows from all columns using the defined indices\n",
        "dance_selected_rows = df.iloc[dance_row_indices, :]\n",
        "\n",
        "# Save the selected rows to a new CSV file\n",
        "dance_selected_rows.to_csv('/content/drive/MyDrive/Enhancement_data/Legends/EGDN/Dancer.csv', index=False)"
      ],
      "metadata": {
        "id": "WgnorhnqK_qV"
      },
      "execution_count": 29,
      "outputs": []
    },
    {
      "cell_type": "markdown",
      "source": [
        "13. Chaser Green/Emerald Dragon Legend set"
      ],
      "metadata": {
        "id": "VGDjHfmxLLu1"
      }
    },
    {
      "cell_type": "code",
      "source": [
        "keyword_EGDNL13 = keyword_EGDNL_crow  # Replace with the keyword you want to search for\n",
        "item_info_EGDNL13 = get_item_info(keyword_EGDNL13)\n",
        "\n",
        "row_numbers_str_13 = extract_row_numbers(item_info_EGDNL13)"
      ],
      "metadata": {
        "id": "_4sCUthCLMZr"
      },
      "execution_count": 30,
      "outputs": []
    },
    {
      "cell_type": "code",
      "source": [
        "crow_row_indices = [12015, 12016, 12017, 12018, 12019, 12020, 12021, 12022, 12023, 12024, 12025, 12026, 12027, 12028, 12029, # Slaughter Mask\n",
        "               12060, 12061, 12062, 12063, 12064, 12065, 12066, 12067, 12068, 12069, 12070, 12071, 12072, 12073, 12074, # Slaughter Vest\n",
        "               12000, 12001, 12002, 12003, 12004, 12005, 12006, 12007, 12008, 12009, 12010, 12011, 12012, 12013, 12014, # Slaughter Greaves\n",
        "               12075, 12076, 12077, 12078, 12079, 12080, 12081, 12082, 12083, 12084, 12085, 12086, 12087, 12088, 12089, # Slaughter Wrist Guards\n",
        "               12030, 12031, 12032, 12033, 12034, 12035, 12036, 12037, 12038, 12039, 12040, 12041, 12042, 12043, 12044, # Slaughter Sandals\n",
        "               12045, 12046, 12047, 12048, 12049, 12050, 12051, 12052, 12053, 12054, 12055, 12056, 12057, 12058, 12059, # Slaughter Scimitar\n",
        "               11985, 11986, 11987, 11988, 11989, 11990, 11991, 11992, 11993, 11994, 11995, 11996, 11997, 11998, 11999] # Slaughter Arm Blade\n",
        "\n",
        "# Select specific 15 rows from all columns using the defined indices\n",
        "crow_selected_rows = df.iloc[crow_row_indices, :]\n",
        "\n",
        "# Save the selected rows to a new CSV file\n",
        "crow_selected_rows.to_csv('/content/drive/MyDrive/Enhancement_data/Legends/EGDN/Chaser.csv', index=False)"
      ],
      "metadata": {
        "id": "pRnnXEGaLMAl"
      },
      "execution_count": 31,
      "outputs": []
    },
    {
      "cell_type": "markdown",
      "source": [
        "14. Bringer Green/Emerald Dragon Legend set"
      ],
      "metadata": {
        "id": "EgkiMuLEEOFv"
      }
    },
    {
      "cell_type": "code",
      "source": [
        "keyword_EGDNL14 = keyword_EGDNL_medi  # Replace with the keyword you want to search for\n",
        "item_info_EGDNL14 = get_item_info(keyword_EGDNL14)\n",
        "\n",
        "row_numbers_str_14 = extract_row_numbers(item_info_EGDNL14)"
      ],
      "metadata": {
        "id": "N8-Lt5scEj2R"
      },
      "execution_count": 32,
      "outputs": []
    },
    {
      "cell_type": "code",
      "source": [
        "medi_row_indices = [11535, 11536, 11537, 11538, 11539, 11540, 11541, 11542, 11543, 11544, 11545, 11546, 11547, 11548, 11549, # Meditation Mask\n",
        "               11565, 11566, 11567, 11568, 11569, 11570, 11571, 11572, 11573, 11574, 11575, 11576, 11577, 11578, 11579, # Meditation Vest\n",
        "               11520, 11521, 11522, 11523, 11524, 11525, 11526, 11527, 11528, 11529, 11530, 11531, 11532, 11533, 11534, # Meditation Greaves\n",
        "               11580, 11581, 11582, 11583, 11584, 11585, 11586, 11587, 11588, 11589, 11590, 11591, 11592, 11593, 11594, # Meditation Wrist Guards\n",
        "               11550, 11551, 11552, 11553, 11554, 11555, 11556, 11557, 11558, 11559, 11560, 11561, 11562, 11563, 11564, # Meditation Sandals\n",
        "               11505, 11506, 11507, 11508, 11509, 11510, 11511, 11512, 11513, 11514, 11515, 11516, 11517, 11518, 11519, # Meditation Dagger\n",
        "               11490, 11491, 11492, 11493, 11494, 11495, 11496, 11497, 11498, 11499, 11500, 11501, 11502, 11503, 11504] # Meditation Arm Blade\n",
        "\n",
        "# Select specific 15 rows from all columns using the defined indices\n",
        "medi_selected_rows = df.iloc[medi_row_indices, :]\n",
        "\n",
        "# Save the selected rows to a new CSV file\n",
        "medi_selected_rows.to_csv('/content/drive/MyDrive/Enhancement_data/Legends/EGDN/Bringer.csv', index=False)"
      ],
      "metadata": {
        "id": "Bq-Hj1WvEjvt"
      },
      "execution_count": 33,
      "outputs": []
    },
    {
      "cell_type": "markdown",
      "source": [
        "15. Dragoon/Piercer Green/Emerald Dragon Legend set"
      ],
      "metadata": {
        "id": "9mM6vXoNERpU"
      }
    },
    {
      "cell_type": "code",
      "source": [
        "keyword_EGDNL15 = keyword_EGDNL_spin  # Replace with the keyword you want to search for\n",
        "item_info_EGDNL15 = get_item_info(keyword_EGDNL15)\n",
        "\n",
        "row_numbers_str_15 = extract_row_numbers(item_info_EGDNL15)"
      ],
      "metadata": {
        "id": "uoULO8XIEkP5"
      },
      "execution_count": 34,
      "outputs": []
    },
    {
      "cell_type": "code",
      "source": [
        "spin_row_indices = [12705, 12706, 12707, 12708, 12709, 12710, 12711, 12712, 12713, 12714, 12715, 12716, 12717, 12718, 12719, # Victoria Bonnet\n",
        "               12690, 12691, 12692, 12693, 12694, 12695, 12696, 12697, 12698, 12699, 12700, 12701, 12702, 12703, 12704, # Victoria Blouse\n",
        "               12750, 12751, 12752, 12753, 12754, 12755, 12756, 12757, 12758, 12759, 12760, 12761, 12762, 12763, 12764, # Victoria Knee Socks\n",
        "               12735, 12736, 12737, 12738, 12739, 12740, 12741, 12742, 12743, 12744, 12745, 12746, 12747, 12748, 12749, # Victoria Gloves\n",
        "               12765, 12766, 12767, 12768, 12769, 12770, 12771, 12772, 12773, 12774, 12775, 12776, 12777, 12778, 12779, # Victoria Sandals\n",
        "               12780, 12781, 12782, 12783, 12784, 12785, 12786, 12787, 12788, 12789, 12790, 12791, 12792, 12793, 12794, # Victoria Spear\n",
        "               12720, 12721, 12722, 12723, 12724, 12725, 12726, 12727, 12728, 12729, 12730, 12731, 12732, 12733, 12734] # Victoria Bracelets\n",
        "\n",
        "# Select specific 15 rows from all columns using the defined indices\n",
        "spin_selected_rows = df.iloc[spin_row_indices, :]\n",
        "\n",
        "# Save the selected rows to a new CSV file\n",
        "spin_selected_rows.to_csv('/content/drive/MyDrive/Enhancement_data/Legends/EGDN/Dragoon.csv', index=False)"
      ],
      "metadata": {
        "id": "QbJgfh1yFn15"
      },
      "execution_count": 35,
      "outputs": []
    },
    {
      "cell_type": "markdown",
      "source": [
        "# Making the bulk csv file of legends set for all classes"
      ],
      "metadata": {
        "id": "SxsqOCqOMpAZ"
      }
    },
    {
      "cell_type": "markdown",
      "source": [
        "Create a function that combines all `str_row_indices` into an array and convert it into csv"
      ],
      "metadata": {
        "id": "C3X5qbLbPjaO"
      }
    },
    {
      "cell_type": "code",
      "source": [
        "# List containing all _row_indices\n",
        "all_selected_rows_list = [\n",
        "    SW_selected_rows, MERC_selected_rows, Sharp_selected_rows,\n",
        "    Acro_selected_rows, ele_selected_rows, bt_selected_rows,\n",
        "    priest_selected_rows, pala_selected_rows, slime_selected_rows,\n",
        "    duck_selected_rows, curse_selected_rows, dance_selected_rows,\n",
        "    crow_selected_rows, medi_selected_rows, spin_selected_rows\n",
        "]\n",
        "\n",
        "# Output CSV file path in Google Drive\n",
        "output_csv_file = 'EGDNL_all_class.csv'\n",
        "\n",
        "with open('/content/drive/MyDrive/Enhancement_data/Legends/EGDN/' + output_csv_file, 'w', newline='') as output_csv:\n",
        "    writer = csv.writer(output_csv)\n",
        "    # Write Header\n",
        "    writer.writerow(['Item Name', 'EnchantLevel', 'EnchantRatio', 'BreakRatio', 'MinDowngrade', 'MaxDowngrade', 'Gold'])\n",
        "    # Write rows corresponding to \"_selected_rows\" for each category\n",
        "    for selected_rows in all_selected_rows_list:\n",
        "        # Write each selected rows to the output CSV file\n",
        "        for _, row in selected_rows.iterrows():\n",
        "            writer.writerow(row)\n",
        "\n",
        "print(f\"Combined rows saved to '{output_csv_file}' in Google Drive\")"
      ],
      "metadata": {
        "colab": {
          "base_uri": "https://localhost:8080/"
        },
        "id": "KmJ4xdYDdrkz",
        "outputId": "afc25190-05f9-4e89-dc33-473da7b16b2a"
      },
      "execution_count": 36,
      "outputs": [
        {
          "output_type": "stream",
          "name": "stdout",
          "text": [
            "Combined rows saved to 'EGDNL_all_class.csv' in Google Drive\n"
          ]
        }
      ]
    }
  ]
}