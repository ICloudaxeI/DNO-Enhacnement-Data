{
  "nbformat": 4,
  "nbformat_minor": 0,
  "metadata": {
    "colab": {
      "provenance": [],
      "collapsed_sections": [
        "pNQi2iFZJlZT",
        "1YE3tbToefEh",
        "ha-XM5mK7bF_"
      ],
      "mount_file_id": "1PE31FOetV2Bu0UjMjnhr6HJ4CFMh6ZJF",
      "authorship_tag": "ABX9TyOtg26YTztzo5+d5F/3N+h9",
      "include_colab_link": true
    },
    "kernelspec": {
      "name": "python3",
      "display_name": "Python 3"
    },
    "language_info": {
      "name": "python"
    }
  },
  "cells": [
    {
      "cell_type": "markdown",
      "metadata": {
        "id": "view-in-github",
        "colab_type": "text"
      },
      "source": [
        "<a href=\"https://colab.research.google.com/github/ICloudaxeI/DNO-Enhacnement-Data/blob/main/Legends_Enhancements.ipynb\" target=\"_parent\"><img src=\"https://colab.research.google.com/assets/colab-badge.svg\" alt=\"Open In Colab\"/></a>"
      ]
    },
    {
      "cell_type": "markdown",
      "source": [
        "# Importing libaries for the data"
      ],
      "metadata": {
        "id": "pNQi2iFZJlZT"
      }
    },
    {
      "cell_type": "code",
      "execution_count": null,
      "metadata": {
        "id": "gwWqLHkbAQ3T"
      },
      "outputs": [],
      "source": [
        "import csv\n",
        "import json\n",
        "import pandas as pd\n",
        "\n",
        "from google.colab import drive"
      ]
    },
    {
      "cell_type": "markdown",
      "source": [
        "# Data Reading"
      ],
      "metadata": {
        "id": "1YE3tbToefEh"
      }
    },
    {
      "cell_type": "markdown",
      "source": [
        "Reading the Json File data for viewing"
      ],
      "metadata": {
        "id": "bXWYUmpSJl7t"
      }
    },
    {
      "cell_type": "code",
      "source": [
        "drive.mount('/content/drive')\n",
        "json_file_path = '/content/drive/MyDrive/Enhancement_data/Enhancements.json'\n",
        "\n",
        "\n",
        "with open(json_file_path, 'r') as json_file:\n",
        "    data = json.load(json_file)\n",
        "\n",
        "# Display the loaded JSON data\n",
        "# data #(remove the \"#\")"
      ],
      "metadata": {
        "id": "ORAI7kYlEHS6",
        "colab": {
          "base_uri": "https://localhost:8080/"
        },
        "outputId": "d244bc8e-639c-432f-88b3-70825f8f5327"
      },
      "execution_count": null,
      "outputs": [
        {
          "output_type": "stream",
          "name": "stdout",
          "text": [
            "Drive already mounted at /content/drive; to attempt to forcibly remount, call drive.mount(\"/content/drive\", force_remount=True).\n"
          ]
        }
      ]
    },
    {
      "cell_type": "markdown",
      "source": [
        "Converting C++ code from the Json file to Python"
      ],
      "metadata": {
        "id": "AJ-JZrYnNgr_"
      }
    },
    {
      "cell_type": "code",
      "source": [
        "with open('data.csv', 'w', newline='') as csv_file:\n",
        "    writer = csv.writer(csv_file)\n",
        "\n",
        "    # Write header if needed\n",
        "    # writer.writerow(['Column1', 'Column2', ...])\n",
        "\n",
        "    # Write data rows\n",
        "    for line in data:\n",
        "        # Convert C++ code to Python if needed\n",
        "        # translated_code = translate_to_python(line)\n",
        "\n",
        "        # Write the line to CSV\n",
        "        writer.writerow([line])\n",
        "\n",
        "# Example function to convert C++ code to Python (basic translation)\n",
        "def translate_to_python(cpp_code):\n",
        "    # Example translation, you might need more complex logic depending on your needs\n",
        "    python_code = cpp_code.replace(';', '')  # Remove semicolons\n",
        "    python_code = python_code.replace('{', ':')  # Replace { with :\n",
        "    python_code = python_code.replace('}', '')  # Remove }\n",
        "    return python_code"
      ],
      "metadata": {
        "id": "e71qfuekIqub"
      },
      "execution_count": null,
      "outputs": []
    },
    {
      "cell_type": "markdown",
      "source": [
        "Extracting specific Parameters from the Json file into the csv file"
      ],
      "metadata": {
        "id": "MKPW1MBZNoon"
      }
    },
    {
      "cell_type": "code",
      "source": [
        "# Extract relevant information and write to CSV file\n",
        "with open('data.csv', 'w', newline='') as csv_file:\n",
        "    writer = csv.writer(csv_file)\n",
        "\n",
        "    # Write header\n",
        "    writer.writerow(['Item Name', 'EnchantLevel', 'EnchantRatio', 'BreakRatio', 'MinDowngrade', 'MaxDowngrade', 'Gold'])\n",
        "\n",
        "    # Extract and write data\n",
        "    for item_name, item_data in data.items():\n",
        "        for detail in item_data['Details']:\n",
        "            enchant_level = detail['EnchantLevel']\n",
        "            enchant_ratio = detail['EnchantRatio']\n",
        "            break_ratio = detail['BreakRatio']\n",
        "            min_downgrade = detail['MinDowngrade']\n",
        "            max_downgrade = detail['MaxDowngrade']\n",
        "            gold = detail['Gold']\n",
        "            writer.writerow([item_name, enchant_level, enchant_ratio, break_ratio, min_downgrade, max_downgrade, gold])\n",
        "\n",
        "df = pd.read_csv('data.csv')"
      ],
      "metadata": {
        "id": "DMbGeabSLok0"
      },
      "execution_count": null,
      "outputs": []
    },
    {
      "cell_type": "markdown",
      "source": [
        "Sorting it by Alphabetic order"
      ],
      "metadata": {
        "id": "agt-0dtlk6FJ"
      }
    },
    {
      "cell_type": "code",
      "source": [
        "# Sort the DataFrame by the values in the first column (alphabetically) and the remaining columns (numerically)\n",
        "df = df.sort_values(by=[df.columns[0]] + list(df.columns[1:].values), ascending=[True] + [True] * (df.shape[1]-1))"
      ],
      "metadata": {
        "id": "We51LwUPkKCj"
      },
      "execution_count": null,
      "outputs": []
    },
    {
      "cell_type": "markdown",
      "source": [
        "Saving the CSV file to the Google Drive Directory"
      ],
      "metadata": {
        "id": "VYui2s7dOFgd"
      }
    },
    {
      "cell_type": "code",
      "source": [
        "# Mount Google Drive\n",
        "drive.mount('/content/drive')\n",
        "\n",
        "# Define the path to your Google Drive directory\n",
        "google_drive_path = '/content/drive/MyDrive/Enhancement_data'\n",
        "\n",
        "# Saving the csv file to the selected directory\n",
        "df.to_csv('/content/drive/MyDrive/Enhancement_data/data.csv', index=False)"
      ],
      "metadata": {
        "colab": {
          "base_uri": "https://localhost:8080/"
        },
        "id": "PWd_1A5wOPpx",
        "outputId": "a7bf9d55-eb17-497f-95b6-1a62a542db88"
      },
      "execution_count": null,
      "outputs": [
        {
          "output_type": "stream",
          "name": "stdout",
          "text": [
            "Drive already mounted at /content/drive; to attempt to forcibly remount, call drive.mount(\"/content/drive\", force_remount=True).\n"
          ]
        }
      ]
    },
    {
      "cell_type": "markdown",
      "source": [
        "# Legends set CSV file"
      ],
      "metadata": {
        "id": "d7eNAJzNXNqS"
      }
    },
    {
      "cell_type": "markdown",
      "source": [
        "There are 7 classes in Dragon nest: Warrior, Archer, Cleric, Sorceress, Academic, Kali, Assassin, and Lancea. These 7 characters have Legends that is divided into 2 types of Gears that separates their 2nd specialisation. Lancea is an exemption to this as she has only 1 specialisation as of now."
      ],
      "metadata": {
        "id": "jzZ8oLRMO0t6"
      }
    },
    {
      "cell_type": "markdown",
      "source": [
        "There will be 15 CSV Files for each class with the 7 equipment for the Full set (5 armor, 2 weapons) as the list shows:\n",
        "\n",
        "\n",
        "\n",
        "*   Helmet\n",
        "*   Upper body\n",
        "*   Lower body\n",
        "*   Gloves\n",
        "*   shoes\n",
        "*   Primary weapon\n",
        "*   Sedcondary weapon\n",
        "\n"
      ],
      "metadata": {
        "id": "4ms9KQ8cXaV7"
      }
    },
    {
      "cell_type": "markdown",
      "source": [
        "### The list of Legends within the csv file\n",
        "\n",
        "1. Sword Master - Destroyer\n",
        "2. Mercenary - Illumia\n",
        "3. Sharpshooter - Tracker\n",
        "4. Acrobat - Troublemaker\n",
        "5. Priest - Saviour\n",
        "6. Paladin - Guardian\n",
        "7. Elemental lord/Elementalist - Terminator\n",
        "8. Force User - Contractor\n",
        "9. Alchemist - Changer\n",
        "10. Engineer - Coordinator\n",
        "11. Screamer - Soul Handler\n",
        "12. Dancer - Dancer\n",
        "13. Chaser - Slaughter\n",
        "14. Bringer - Meditation\n",
        "15. Dragoon - Victoria"
      ],
      "metadata": {
        "id": "LtX2bT0XZ-Kn"
      }
    },
    {
      "cell_type": "markdown",
      "source": [
        "# Extracting L Grades data from the csv file"
      ],
      "metadata": {
        "id": "x79w10v8WUD7"
      }
    },
    {
      "cell_type": "markdown",
      "source": [
        "Getting the saved csv file from the Google Drive Directory"
      ],
      "metadata": {
        "id": "V1ZV_jU78a7r"
      }
    },
    {
      "cell_type": "code",
      "source": [
        "# Reading the csv file from the Google Drive Directory\n",
        "drive.mount('/content/drive')\n",
        "csv_file_path = '/content/drive/MyDrive/Enhancement_data/data.csv'\n",
        "\n",
        "df = pd.read_csv(csv_file_path)\n",
        "df"
      ],
      "metadata": {
        "id": "N6jSfKPUXZft",
        "colab": {
          "base_uri": "https://localhost:8080/",
          "height": 441
        },
        "outputId": "d5d849be-dad0-42d6-ad75-2e443e6d5775"
      },
      "execution_count": null,
      "outputs": [
        {
          "output_type": "stream",
          "name": "stdout",
          "text": [
            "Drive already mounted at /content/drive; to attempt to forcibly remount, call drive.mount(\"/content/drive\", force_remount=True).\n"
          ]
        },
        {
          "output_type": "execute_result",
          "data": {
            "text/plain": [
              "                            Item Name  EnchantLevel  EnchantRatio  BreakRatio  \\\n",
              "0             Ancient Totem Arm Blade             1         100.0         0.0   \n",
              "1             Ancient Totem Arm Blade             2         100.0         0.0   \n",
              "2             Ancient Totem Arm Blade             3         100.0         0.0   \n",
              "3             Ancient Totem Arm Blade             4         100.0         0.0   \n",
              "4             Ancient Totem Arm Blade             5         100.0         0.0   \n",
              "...                               ...           ...           ...         ...   \n",
              "23290  Twisted obsession Wrist Guards            11          25.0        25.0   \n",
              "23291  Twisted obsession Wrist Guards            12          20.0        25.0   \n",
              "23292  Twisted obsession Wrist Guards            13          15.0        25.0   \n",
              "23293  Twisted obsession Wrist Guards            14           5.0        25.0   \n",
              "23294  Twisted obsession Wrist Guards            15           1.0        25.0   \n",
              "\n",
              "       MinDowngrade  MaxDowngrade  Gold  \n",
              "0                 0             0     0  \n",
              "1                 0             0     0  \n",
              "2                 0             0     0  \n",
              "3                 0             0     1  \n",
              "4                 0             0     1  \n",
              "...             ...           ...   ...  \n",
              "23290             1             2     1  \n",
              "23291             1             2     2  \n",
              "23292             1             2     3  \n",
              "23293             1             2     5  \n",
              "23294             1             2     8  \n",
              "\n",
              "[23295 rows x 7 columns]"
            ],
            "text/html": [
              "\n",
              "  <div id=\"df-46be90e5-9c63-4eef-950f-788a947b9a00\" class=\"colab-df-container\">\n",
              "    <div>\n",
              "<style scoped>\n",
              "    .dataframe tbody tr th:only-of-type {\n",
              "        vertical-align: middle;\n",
              "    }\n",
              "\n",
              "    .dataframe tbody tr th {\n",
              "        vertical-align: top;\n",
              "    }\n",
              "\n",
              "    .dataframe thead th {\n",
              "        text-align: right;\n",
              "    }\n",
              "</style>\n",
              "<table border=\"1\" class=\"dataframe\">\n",
              "  <thead>\n",
              "    <tr style=\"text-align: right;\">\n",
              "      <th></th>\n",
              "      <th>Item Name</th>\n",
              "      <th>EnchantLevel</th>\n",
              "      <th>EnchantRatio</th>\n",
              "      <th>BreakRatio</th>\n",
              "      <th>MinDowngrade</th>\n",
              "      <th>MaxDowngrade</th>\n",
              "      <th>Gold</th>\n",
              "    </tr>\n",
              "  </thead>\n",
              "  <tbody>\n",
              "    <tr>\n",
              "      <th>0</th>\n",
              "      <td>Ancient Totem Arm Blade</td>\n",
              "      <td>1</td>\n",
              "      <td>100.0</td>\n",
              "      <td>0.0</td>\n",
              "      <td>0</td>\n",
              "      <td>0</td>\n",
              "      <td>0</td>\n",
              "    </tr>\n",
              "    <tr>\n",
              "      <th>1</th>\n",
              "      <td>Ancient Totem Arm Blade</td>\n",
              "      <td>2</td>\n",
              "      <td>100.0</td>\n",
              "      <td>0.0</td>\n",
              "      <td>0</td>\n",
              "      <td>0</td>\n",
              "      <td>0</td>\n",
              "    </tr>\n",
              "    <tr>\n",
              "      <th>2</th>\n",
              "      <td>Ancient Totem Arm Blade</td>\n",
              "      <td>3</td>\n",
              "      <td>100.0</td>\n",
              "      <td>0.0</td>\n",
              "      <td>0</td>\n",
              "      <td>0</td>\n",
              "      <td>0</td>\n",
              "    </tr>\n",
              "    <tr>\n",
              "      <th>3</th>\n",
              "      <td>Ancient Totem Arm Blade</td>\n",
              "      <td>4</td>\n",
              "      <td>100.0</td>\n",
              "      <td>0.0</td>\n",
              "      <td>0</td>\n",
              "      <td>0</td>\n",
              "      <td>1</td>\n",
              "    </tr>\n",
              "    <tr>\n",
              "      <th>4</th>\n",
              "      <td>Ancient Totem Arm Blade</td>\n",
              "      <td>5</td>\n",
              "      <td>100.0</td>\n",
              "      <td>0.0</td>\n",
              "      <td>0</td>\n",
              "      <td>0</td>\n",
              "      <td>1</td>\n",
              "    </tr>\n",
              "    <tr>\n",
              "      <th>...</th>\n",
              "      <td>...</td>\n",
              "      <td>...</td>\n",
              "      <td>...</td>\n",
              "      <td>...</td>\n",
              "      <td>...</td>\n",
              "      <td>...</td>\n",
              "      <td>...</td>\n",
              "    </tr>\n",
              "    <tr>\n",
              "      <th>23290</th>\n",
              "      <td>Twisted obsession Wrist Guards</td>\n",
              "      <td>11</td>\n",
              "      <td>25.0</td>\n",
              "      <td>25.0</td>\n",
              "      <td>1</td>\n",
              "      <td>2</td>\n",
              "      <td>1</td>\n",
              "    </tr>\n",
              "    <tr>\n",
              "      <th>23291</th>\n",
              "      <td>Twisted obsession Wrist Guards</td>\n",
              "      <td>12</td>\n",
              "      <td>20.0</td>\n",
              "      <td>25.0</td>\n",
              "      <td>1</td>\n",
              "      <td>2</td>\n",
              "      <td>2</td>\n",
              "    </tr>\n",
              "    <tr>\n",
              "      <th>23292</th>\n",
              "      <td>Twisted obsession Wrist Guards</td>\n",
              "      <td>13</td>\n",
              "      <td>15.0</td>\n",
              "      <td>25.0</td>\n",
              "      <td>1</td>\n",
              "      <td>2</td>\n",
              "      <td>3</td>\n",
              "    </tr>\n",
              "    <tr>\n",
              "      <th>23293</th>\n",
              "      <td>Twisted obsession Wrist Guards</td>\n",
              "      <td>14</td>\n",
              "      <td>5.0</td>\n",
              "      <td>25.0</td>\n",
              "      <td>1</td>\n",
              "      <td>2</td>\n",
              "      <td>5</td>\n",
              "    </tr>\n",
              "    <tr>\n",
              "      <th>23294</th>\n",
              "      <td>Twisted obsession Wrist Guards</td>\n",
              "      <td>15</td>\n",
              "      <td>1.0</td>\n",
              "      <td>25.0</td>\n",
              "      <td>1</td>\n",
              "      <td>2</td>\n",
              "      <td>8</td>\n",
              "    </tr>\n",
              "  </tbody>\n",
              "</table>\n",
              "<p>23295 rows × 7 columns</p>\n",
              "</div>\n",
              "    <div class=\"colab-df-buttons\">\n",
              "\n",
              "  <div class=\"colab-df-container\">\n",
              "    <button class=\"colab-df-convert\" onclick=\"convertToInteractive('df-46be90e5-9c63-4eef-950f-788a947b9a00')\"\n",
              "            title=\"Convert this dataframe to an interactive table.\"\n",
              "            style=\"display:none;\">\n",
              "\n",
              "  <svg xmlns=\"http://www.w3.org/2000/svg\" height=\"24px\" viewBox=\"0 -960 960 960\">\n",
              "    <path d=\"M120-120v-720h720v720H120Zm60-500h600v-160H180v160Zm220 220h160v-160H400v160Zm0 220h160v-160H400v160ZM180-400h160v-160H180v160Zm440 0h160v-160H620v160ZM180-180h160v-160H180v160Zm440 0h160v-160H620v160Z\"/>\n",
              "  </svg>\n",
              "    </button>\n",
              "\n",
              "  <style>\n",
              "    .colab-df-container {\n",
              "      display:flex;\n",
              "      gap: 12px;\n",
              "    }\n",
              "\n",
              "    .colab-df-convert {\n",
              "      background-color: #E8F0FE;\n",
              "      border: none;\n",
              "      border-radius: 50%;\n",
              "      cursor: pointer;\n",
              "      display: none;\n",
              "      fill: #1967D2;\n",
              "      height: 32px;\n",
              "      padding: 0 0 0 0;\n",
              "      width: 32px;\n",
              "    }\n",
              "\n",
              "    .colab-df-convert:hover {\n",
              "      background-color: #E2EBFA;\n",
              "      box-shadow: 0px 1px 2px rgba(60, 64, 67, 0.3), 0px 1px 3px 1px rgba(60, 64, 67, 0.15);\n",
              "      fill: #174EA6;\n",
              "    }\n",
              "\n",
              "    .colab-df-buttons div {\n",
              "      margin-bottom: 4px;\n",
              "    }\n",
              "\n",
              "    [theme=dark] .colab-df-convert {\n",
              "      background-color: #3B4455;\n",
              "      fill: #D2E3FC;\n",
              "    }\n",
              "\n",
              "    [theme=dark] .colab-df-convert:hover {\n",
              "      background-color: #434B5C;\n",
              "      box-shadow: 0px 1px 3px 1px rgba(0, 0, 0, 0.15);\n",
              "      filter: drop-shadow(0px 1px 2px rgba(0, 0, 0, 0.3));\n",
              "      fill: #FFFFFF;\n",
              "    }\n",
              "  </style>\n",
              "\n",
              "    <script>\n",
              "      const buttonEl =\n",
              "        document.querySelector('#df-46be90e5-9c63-4eef-950f-788a947b9a00 button.colab-df-convert');\n",
              "      buttonEl.style.display =\n",
              "        google.colab.kernel.accessAllowed ? 'block' : 'none';\n",
              "\n",
              "      async function convertToInteractive(key) {\n",
              "        const element = document.querySelector('#df-46be90e5-9c63-4eef-950f-788a947b9a00');\n",
              "        const dataTable =\n",
              "          await google.colab.kernel.invokeFunction('convertToInteractive',\n",
              "                                                    [key], {});\n",
              "        if (!dataTable) return;\n",
              "\n",
              "        const docLinkHtml = 'Like what you see? Visit the ' +\n",
              "          '<a target=\"_blank\" href=https://colab.research.google.com/notebooks/data_table.ipynb>data table notebook</a>'\n",
              "          + ' to learn more about interactive tables.';\n",
              "        element.innerHTML = '';\n",
              "        dataTable['output_type'] = 'display_data';\n",
              "        await google.colab.output.renderOutput(dataTable, element);\n",
              "        const docLink = document.createElement('div');\n",
              "        docLink.innerHTML = docLinkHtml;\n",
              "        element.appendChild(docLink);\n",
              "      }\n",
              "    </script>\n",
              "  </div>\n",
              "\n",
              "\n",
              "<div id=\"df-f0997aa2-5b87-46e3-a16b-141787c5cc3b\">\n",
              "  <button class=\"colab-df-quickchart\" onclick=\"quickchart('df-f0997aa2-5b87-46e3-a16b-141787c5cc3b')\"\n",
              "            title=\"Suggest charts\"\n",
              "            style=\"display:none;\">\n",
              "\n",
              "<svg xmlns=\"http://www.w3.org/2000/svg\" height=\"24px\"viewBox=\"0 0 24 24\"\n",
              "     width=\"24px\">\n",
              "    <g>\n",
              "        <path d=\"M19 3H5c-1.1 0-2 .9-2 2v14c0 1.1.9 2 2 2h14c1.1 0 2-.9 2-2V5c0-1.1-.9-2-2-2zM9 17H7v-7h2v7zm4 0h-2V7h2v10zm4 0h-2v-4h2v4z\"/>\n",
              "    </g>\n",
              "</svg>\n",
              "  </button>\n",
              "\n",
              "<style>\n",
              "  .colab-df-quickchart {\n",
              "      --bg-color: #E8F0FE;\n",
              "      --fill-color: #1967D2;\n",
              "      --hover-bg-color: #E2EBFA;\n",
              "      --hover-fill-color: #174EA6;\n",
              "      --disabled-fill-color: #AAA;\n",
              "      --disabled-bg-color: #DDD;\n",
              "  }\n",
              "\n",
              "  [theme=dark] .colab-df-quickchart {\n",
              "      --bg-color: #3B4455;\n",
              "      --fill-color: #D2E3FC;\n",
              "      --hover-bg-color: #434B5C;\n",
              "      --hover-fill-color: #FFFFFF;\n",
              "      --disabled-bg-color: #3B4455;\n",
              "      --disabled-fill-color: #666;\n",
              "  }\n",
              "\n",
              "  .colab-df-quickchart {\n",
              "    background-color: var(--bg-color);\n",
              "    border: none;\n",
              "    border-radius: 50%;\n",
              "    cursor: pointer;\n",
              "    display: none;\n",
              "    fill: var(--fill-color);\n",
              "    height: 32px;\n",
              "    padding: 0;\n",
              "    width: 32px;\n",
              "  }\n",
              "\n",
              "  .colab-df-quickchart:hover {\n",
              "    background-color: var(--hover-bg-color);\n",
              "    box-shadow: 0 1px 2px rgba(60, 64, 67, 0.3), 0 1px 3px 1px rgba(60, 64, 67, 0.15);\n",
              "    fill: var(--button-hover-fill-color);\n",
              "  }\n",
              "\n",
              "  .colab-df-quickchart-complete:disabled,\n",
              "  .colab-df-quickchart-complete:disabled:hover {\n",
              "    background-color: var(--disabled-bg-color);\n",
              "    fill: var(--disabled-fill-color);\n",
              "    box-shadow: none;\n",
              "  }\n",
              "\n",
              "  .colab-df-spinner {\n",
              "    border: 2px solid var(--fill-color);\n",
              "    border-color: transparent;\n",
              "    border-bottom-color: var(--fill-color);\n",
              "    animation:\n",
              "      spin 1s steps(1) infinite;\n",
              "  }\n",
              "\n",
              "  @keyframes spin {\n",
              "    0% {\n",
              "      border-color: transparent;\n",
              "      border-bottom-color: var(--fill-color);\n",
              "      border-left-color: var(--fill-color);\n",
              "    }\n",
              "    20% {\n",
              "      border-color: transparent;\n",
              "      border-left-color: var(--fill-color);\n",
              "      border-top-color: var(--fill-color);\n",
              "    }\n",
              "    30% {\n",
              "      border-color: transparent;\n",
              "      border-left-color: var(--fill-color);\n",
              "      border-top-color: var(--fill-color);\n",
              "      border-right-color: var(--fill-color);\n",
              "    }\n",
              "    40% {\n",
              "      border-color: transparent;\n",
              "      border-right-color: var(--fill-color);\n",
              "      border-top-color: var(--fill-color);\n",
              "    }\n",
              "    60% {\n",
              "      border-color: transparent;\n",
              "      border-right-color: var(--fill-color);\n",
              "    }\n",
              "    80% {\n",
              "      border-color: transparent;\n",
              "      border-right-color: var(--fill-color);\n",
              "      border-bottom-color: var(--fill-color);\n",
              "    }\n",
              "    90% {\n",
              "      border-color: transparent;\n",
              "      border-bottom-color: var(--fill-color);\n",
              "    }\n",
              "  }\n",
              "</style>\n",
              "\n",
              "  <script>\n",
              "    async function quickchart(key) {\n",
              "      const quickchartButtonEl =\n",
              "        document.querySelector('#' + key + ' button');\n",
              "      quickchartButtonEl.disabled = true;  // To prevent multiple clicks.\n",
              "      quickchartButtonEl.classList.add('colab-df-spinner');\n",
              "      try {\n",
              "        const charts = await google.colab.kernel.invokeFunction(\n",
              "            'suggestCharts', [key], {});\n",
              "      } catch (error) {\n",
              "        console.error('Error during call to suggestCharts:', error);\n",
              "      }\n",
              "      quickchartButtonEl.classList.remove('colab-df-spinner');\n",
              "      quickchartButtonEl.classList.add('colab-df-quickchart-complete');\n",
              "    }\n",
              "    (() => {\n",
              "      let quickchartButtonEl =\n",
              "        document.querySelector('#df-f0997aa2-5b87-46e3-a16b-141787c5cc3b button');\n",
              "      quickchartButtonEl.style.display =\n",
              "        google.colab.kernel.accessAllowed ? 'block' : 'none';\n",
              "    })();\n",
              "  </script>\n",
              "</div>\n",
              "    </div>\n",
              "  </div>\n"
            ],
            "application/vnd.google.colaboratory.intrinsic+json": {
              "type": "dataframe",
              "variable_name": "df",
              "summary": "{\n  \"name\": \"df\",\n  \"rows\": 23295,\n  \"fields\": [\n    {\n      \"column\": \"Item Name\",\n      \"properties\": {\n        \"dtype\": \"category\",\n        \"num_unique_values\": 1553,\n        \"samples\": [\n          \"Twisted obsession Mitten\",\n          \"Black Dragon Terminator Orb\",\n          \"Cerberus Sandals\"\n        ],\n        \"semantic_type\": \"\",\n        \"description\": \"\"\n      }\n    },\n    {\n      \"column\": \"EnchantLevel\",\n      \"properties\": {\n        \"dtype\": \"number\",\n        \"std\": 4,\n        \"min\": 1,\n        \"max\": 15,\n        \"num_unique_values\": 15,\n        \"samples\": [\n          10,\n          12,\n          1\n        ],\n        \"semantic_type\": \"\",\n        \"description\": \"\"\n      }\n    },\n    {\n      \"column\": \"EnchantRatio\",\n      \"properties\": {\n        \"dtype\": \"number\",\n        \"std\": 38.86384918385651,\n        \"min\": 1.0,\n        \"max\": 100.0,\n        \"num_unique_values\": 12,\n        \"samples\": [\n          33.33,\n          1.0,\n          100.0\n        ],\n        \"semantic_type\": \"\",\n        \"description\": \"\"\n      }\n    },\n    {\n      \"column\": \"BreakRatio\",\n      \"properties\": {\n        \"dtype\": \"number\",\n        \"std\": 12.24771159957899,\n        \"min\": 0.0,\n        \"max\": 25.0,\n        \"num_unique_values\": 2,\n        \"samples\": [\n          25.0,\n          0.0\n        ],\n        \"semantic_type\": \"\",\n        \"description\": \"\"\n      }\n    },\n    {\n      \"column\": \"MinDowngrade\",\n      \"properties\": {\n        \"dtype\": \"number\",\n        \"std\": 0,\n        \"min\": 0,\n        \"max\": 1,\n        \"num_unique_values\": 2,\n        \"samples\": [\n          1,\n          0\n        ],\n        \"semantic_type\": \"\",\n        \"description\": \"\"\n      }\n    },\n    {\n      \"column\": \"MaxDowngrade\",\n      \"properties\": {\n        \"dtype\": \"number\",\n        \"std\": 0,\n        \"min\": 0,\n        \"max\": 2,\n        \"num_unique_values\": 3,\n        \"samples\": [\n          0,\n          1\n        ],\n        \"semantic_type\": \"\",\n        \"description\": \"\"\n      }\n    },\n    {\n      \"column\": \"Gold\",\n      \"properties\": {\n        \"dtype\": \"number\",\n        \"std\": 1722,\n        \"min\": 0,\n        \"max\": 28027,\n        \"num_unique_values\": 377,\n        \"samples\": [\n          4330,\n          1280\n        ],\n        \"semantic_type\": \"\",\n        \"description\": \"\"\n      }\n    }\n  ]\n}"
            }
          },
          "metadata": {},
          "execution_count": 7
        }
      ]
    },
    {
      "cell_type": "markdown",
      "source": [
        "Create a function that calls the name of the item and getting their row number to convert in to a string"
      ],
      "metadata": {
        "id": "5xaTo6J33Lgl"
      }
    },
    {
      "cell_type": "code",
      "source": [
        "def get_item_info(keyword):\n",
        "    # Filter the DataFrame to get all columns for items containing the keyword\n",
        "    item_info = df[df['Item Name'].str.contains(keyword, case=False)]\n",
        "\n",
        "    return item_info\n",
        "\n",
        "def extract_row_numbers(item_info):\n",
        "    # Extract row numbers and turn them into a string\n",
        "    row_numbers_str = ', '.join(map(str, item_info.index.tolist()))\n",
        "\n",
        "    return row_numbers_str"
      ],
      "metadata": {
        "id": "ArCTPrLoQMyG"
      },
      "execution_count": null,
      "outputs": []
    },
    {
      "cell_type": "markdown",
      "source": [
        "Testing the created function"
      ],
      "metadata": {
        "id": "RzhBHCaxRsgR"
      }
    },
    {
      "cell_type": "code",
      "source": [
        "keyword_test = \"Manticore\"  # Replace with the keyword you want to search for\n",
        "item_info_test = get_item_info(keyword_test)\n",
        "\n",
        "row_numbers_str_test = extract_row_numbers(item_info_test)\n",
        "row_numbers_str_test"
      ],
      "metadata": {
        "colab": {
          "base_uri": "https://localhost:8080/",
          "height": 140
        },
        "id": "NwpbJokZgN7T",
        "outputId": "855d610d-ea34-48c9-e61a-84968607da19"
      },
      "execution_count": null,
      "outputs": [
        {
          "output_type": "execute_result",
          "data": {
            "text/plain": [
              "'16740, 16741, 16742, 16743, 16744, 16745, 16746, 16747, 16748, 16749, 16750, 16751, 16752, 16753, 16754, 16755, 16756, 16757, 16758, 16759, 16760, 16761, 16762, 16763, 16764, 16765, 16766, 16767, 16768, 16769, 16770, 16771, 16772, 16773, 16774, 16775, 16776, 16777, 16778, 16779, 16780, 16781, 16782, 16783, 16784, 16785, 16786, 16787, 16788, 16789, 16790, 16791, 16792, 16793, 16794, 16795, 16796, 16797, 16798, 16799, 16800, 16801, 16802, 16803, 16804, 16805, 16806, 16807, 16808, 16809, 16810, 16811, 16812, 16813, 16814, 16815, 16816, 16817, 16818, 16819, 16820, 16821, 16822, 16823, 16824, 16825, 16826, 16827, 16828, 16829, 16830, 16831, 16832, 16833, 16834, 16835, 16836, 16837, 16838, 16839, 16840, 16841, 16842, 16843, 16844, 16845, 16846, 16847, 16848, 16849, 16850, 16851, 16852, 16853, 16854, 16855, 16856, 16857, 16858, 16859, 16860, 16861, 16862, 16863, 16864, 16865, 16866, 16867, 16868, 16869, 16870, 16871, 16872, 16873, 16874, 16875, 16876, 16877, 16878, 16879, 16880, 16881, 16882, 16883, 16884, 16885, 16886, 16887, 16888, 16889, 16890, 16891, 16892, 16893, 16894, 16895, 16896, 16897, 16898, 16899, 16900, 16901, 16902, 16903, 16904, 16905, 16906, 16907, 16908, 16909, 16910, 16911, 16912, 16913, 16914, 16915, 16916, 16917, 16918, 16919, 16920, 16921, 16922, 16923, 16924, 16925, 16926, 16927, 16928, 16929, 16930, 16931, 16932, 16933, 16934, 16935, 16936, 16937, 16938, 16939, 16940, 16941, 16942, 16943, 16944, 16945, 16946, 16947, 16948, 16949, 16950, 16951, 16952, 16953, 16954, 16955, 16956, 16957, 16958, 16959, 16960, 16961, 16962, 16963, 16964, 16965, 16966, 16967, 16968, 16969, 16970, 16971, 16972, 16973, 16974, 16975, 16976, 16977, 16978, 16979, 16980, 16981, 16982, 16983, 16984, 16985, 16986, 16987, 16988, 16989, 16990, 16991, 16992, 16993, 16994, 16995, 16996, 16997, 16998, 16999, 17000, 17001, 17002, 17003, 17004, 17005, 17006, 17007, 17008, 17009, 17010, 17011, 17012, 17013, 17014, 17015, 17016, 17017, 17018, 17019, 17020, 17021, 17022, 17023, 17024, 17025, 17026, 17027, 17028, 17029, 17030, 17031, 17032, 17033, 17034, 17035, 17036, 17037, 17038, 17039, 17040, 17041, 17042, 17043, 17044, 17045, 17046, 17047, 17048, 17049, 17050, 17051, 17052, 17053, 17054, 17055, 17056, 17057, 17058, 17059, 17060, 17061, 17062, 17063, 17064, 17065, 17066, 17067, 17068, 17069, 17070, 17071, 17072, 17073, 17074, 17075, 17076, 17077, 17078, 17079, 17080, 17081, 17082, 17083, 17084, 17085, 17086, 17087, 17088, 17089, 17090, 17091, 17092, 17093, 17094, 17095, 17096, 17097, 17098, 17099, 17100, 17101, 17102, 17103, 17104, 17105, 17106, 17107, 17108, 17109, 17110, 17111, 17112, 17113, 17114, 17115, 17116, 17117, 17118, 17119, 17120, 17121, 17122, 17123, 17124, 17125, 17126, 17127, 17128, 17129, 17130, 17131, 17132, 17133, 17134, 17135, 17136, 17137, 17138, 17139, 17140, 17141, 17142, 17143, 17144, 17145, 17146, 17147, 17148, 17149, 17150, 17151, 17152, 17153, 17154, 17155, 17156, 17157, 17158, 17159, 17160, 17161, 17162, 17163, 17164, 17165, 17166, 17167, 17168, 17169, 17170, 17171, 17172, 17173, 17174, 17175, 17176, 17177, 17178, 17179, 17180, 17181, 17182, 17183, 17184, 17185, 17186, 17187, 17188, 17189, 17190, 17191, 17192, 17193, 17194, 17195, 17196, 17197, 17198, 17199, 17200, 17201, 17202, 17203, 17204, 17205, 17206, 17207, 17208, 17209, 17210, 17211, 17212, 17213, 17214, 17215, 17216, 17217, 17218, 17219, 17220, 17221, 17222, 17223, 17224, 17225, 17226, 17227, 17228, 17229, 17230, 17231, 17232, 17233, 17234, 17235, 17236, 17237, 17238, 17239, 17240, 17241, 17242, 17243, 17244, 17245, 17246, 17247, 17248, 17249, 17250, 17251, 17252, 17253, 17254, 17255, 17256, 17257, 17258, 17259, 17260, 17261, 17262, 17263, 17264, 17265, 17266, 17267, 17268, 17269, 17270, 17271, 17272, 17273, 17274, 17275, 17276, 17277, 17278, 17279, 17280, 17281, 17282, 17283, 17284, 17285, 17286, 17287, 17288, 17289, 17290, 17291, 17292, 17293, 17294, 17295, 17296, 17297, 17298, 17299, 17300, 17301, 17302, 17303, 17304, 17305, 17306, 17307, 17308, 17309, 17310, 17311, 17312, 17313, 17314, 17315, 17316, 17317, 17318, 17319, 17320, 17321, 17322, 17323, 17324, 17325, 17326, 17327, 17328, 17329, 17330, 17331, 17332, 17333, 17334, 17335, 17336, 17337, 17338, 17339, 17340, 17341, 17342, 17343, 17344, 17345, 17346, 17347, 17348, 17349, 17350, 17351, 17352, 17353, 17354, 17355, 17356, 17357, 17358, 17359, 17360, 17361, 17362, 17363, 17364, 17365, 17366, 17367, 17368, 17369, 17370, 17371, 17372, 17373, 17374, 17375, 17376, 17377, 17378, 17379, 17380, 17381, 17382, 17383, 17384, 17385, 17386, 17387, 17388, 17389, 17390, 17391, 17392, 17393, 17394, 17395, 17396, 17397, 17398, 17399, 17400, 17401, 17402, 17403, 17404, 17405, 17406, 17407, 17408, 17409, 17410, 17411, 17412, 17413, 17414, 17415, 17416, 17417, 17418, 17419, 17420, 17421, 17422, 17423, 17424, 17425, 17426, 17427, 17428, 17429, 17430, 17431, 17432, 17433, 17434, 17435, 17436, 17437, 17438, 17439, 17440, 17441, 17442, 17443, 17444, 17445, 17446, 17447, 17448, 17449, 17450, 17451, 17452, 17453, 17454, 17455, 17456, 17457, 17458, 17459, 17460, 17461, 17462, 17463, 17464, 17465, 17466, 17467, 17468, 17469, 17470, 17471, 17472, 17473, 17474, 17475, 17476, 17477, 17478, 17479, 17480, 17481, 17482, 17483, 17484, 17485, 17486, 17487, 17488, 17489, 17490, 17491, 17492, 17493, 17494, 17495, 17496, 17497, 17498, 17499, 17500, 17501, 17502, 17503, 17504, 17505, 17506, 17507, 17508, 17509, 17510, 17511, 17512, 17513, 17514, 17515, 17516, 17517, 17518, 17519, 17520, 17521, 17522, 17523, 17524, 17525, 17526, 17527, 17528, 17529, 17530, 17531, 17532, 17533, 17534, 17535, 17536, 17537, 17538, 17539, 17540, 17541, 17542, 17543, 17544, 17545, 17546, 17547, 17548, 17549, 17550, 17551, 17552, 17553, 17554, 17555, 17556, 17557, 17558, 17559, 17560, 17561, 17562, 17563, 17564, 17565, 17566, 17567, 17568, 17569, 17570, 17571, 17572, 17573, 17574, 17575, 17576, 17577, 17578, 17579, 17580, 17581, 17582, 17583, 17584, 17585, 17586, 17587, 17588, 17589, 17590, 17591, 17592, 17593, 17594, 17595, 17596, 17597, 17598, 17599, 17600, 17601, 17602, 17603, 17604, 17605, 17606, 17607, 17608, 17609, 17610, 17611, 17612, 17613, 17614, 17615, 17616, 17617, 17618, 17619, 17620, 17621, 17622, 17623, 17624, 17625, 17626, 17627, 17628, 17629, 17630, 17631, 17632, 17633, 17634, 17635, 17636, 17637, 17638, 17639, 17640, 17641, 17642, 17643, 17644, 17645, 17646, 17647, 17648, 17649, 17650, 17651, 17652, 17653, 17654, 17655, 17656, 17657, 17658, 17659, 17660, 17661, 17662, 17663, 17664, 17665, 17666, 17667, 17668, 17669, 17670, 17671, 17672, 17673, 17674, 17675, 17676, 17677, 17678, 17679, 17680, 17681, 17682, 17683, 17684, 17685, 17686, 17687, 17688, 17689, 17690, 17691, 17692, 17693, 17694, 17695, 17696, 17697, 17698, 17699, 17700, 17701, 17702, 17703, 17704, 17705, 17706, 17707, 17708, 17709, 17710, 17711, 17712, 17713, 17714'"
            ],
            "application/vnd.google.colaboratory.intrinsic+json": {
              "type": "string"
            }
          },
          "metadata": {},
          "execution_count": 9
        }
      ]
    },
    {
      "cell_type": "markdown",
      "source": [
        "# The List of Legend set in Dragon Nest"
      ],
      "metadata": {
        "id": "Y-BPV3F9kneR"
      }
    },
    {
      "cell_type": "markdown",
      "source": [
        "### Sea Dragon Legends"
      ],
      "metadata": {
        "id": "GgHC0U6F7rse"
      }
    },
    {
      "cell_type": "markdown",
      "source": [
        "### Green/Emerald Dragon Legends"
      ],
      "metadata": {
        "id": "sGM5YUQ77pyS"
      }
    },
    {
      "cell_type": "markdown",
      "source": [
        "### Desert Dragon Legends"
      ],
      "metadata": {
        "id": "_hYjXRY47ftT"
      }
    },
    {
      "cell_type": "code",
      "source": [
        "# DDNL for warrior\n",
        "keyword_DDNL_sword = \"Desert Dragon Destroyer\"\n",
        "keyword_DDNL_merc = \"Desert Dragon Illumia\"\n",
        "\n",
        "# DDNL for archer\n",
        "keyword_DDNL_sharp = \"Desert Dragon Tracker\"\n",
        "keyword_DDNL_acro = \"Desert Dragon Troublemaker\"\n",
        "\n",
        "# DDNL for cleric\n",
        "keyword_DDNL_priest = \"Desert Dragon Saviour\"\n",
        "keyword_DDNL_pala = \"Desert Dragon Guardian Knight\"\n",
        "\n",
        "# DDNL for sorceress\n",
        "keyword_DDNL_ele = \"Desert Dragon Terminator\"\n",
        "keyword_DDNL_bt = \"Desert Dragon Contractor\"\n",
        "\n",
        "# DDNL for academic\n",
        "keyword_DDNL_slime = \"Desert Dragon Changer\"\n",
        "keyword_DDNL_duck = \"Desert Dragon Coordinator\"\n",
        "\n",
        "# DDNL for kali\n",
        "Keyword_DDNL_curse = \"Desert Dragon Soul Handler\"\n",
        "keyword_DDNL_dance = \"Desert Dragon Dancer\"\n",
        "\n",
        "# DDNL for assassin\n",
        "keyword_DDNL_crow = \"Desert Dragon Slaughter\"\n",
        "keyword_DDNL_medi = \"Desert Dragon Meditation\"\n",
        "\n",
        "# DDNL for lancea\n",
        "keyword_DDNL_spin = \"Desert Dragon Victoria\""
      ],
      "metadata": {
        "id": "n55u5HoNk1o4"
      },
      "execution_count": null,
      "outputs": []
    },
    {
      "cell_type": "markdown",
      "source": [
        "1. Swordmaster (Destroyer) Desert Dragon Legend set"
      ],
      "metadata": {
        "id": "HIT82jIYlfwE"
      }
    },
    {
      "cell_type": "code",
      "source": [
        "keyword_DDNL1 = keyword_DDNL_sword  # Replace with the keyword you want to search for\n",
        "item_info_DDNL1 = get_item_info(keyword_DDNL1)\n",
        "\n",
        "item_info_DDNL1\n",
        "\n",
        "#Drow_numbers_str_1 = extract_row_numbers(item_info_DDNL1)\n",
        "#Drow_numbers_str_1"
      ],
      "metadata": {
        "colab": {
          "base_uri": "https://localhost:8080/",
          "height": 424
        },
        "id": "NCNqjiuVnBF6",
        "outputId": "4582ae84-ce92-4c22-be47-f3031154838d"
      },
      "execution_count": null,
      "outputs": [
        {
          "output_type": "execute_result",
          "data": {
            "text/plain": [
              "                          Item Name  EnchantLevel  EnchantRatio  BreakRatio  \\\n",
              "8235  Desert Dragon Destroyer Boots             1        100.00         0.0   \n",
              "8236  Desert Dragon Destroyer Boots             2        100.00         0.0   \n",
              "8237  Desert Dragon Destroyer Boots             3        100.00         0.0   \n",
              "8238  Desert Dragon Destroyer Boots             4        100.00         0.0   \n",
              "8239  Desert Dragon Destroyer Boots             5        100.00         0.0   \n",
              "...                             ...           ...           ...         ...   \n",
              "8335  Desert Dragon Destroyer Sword            11         33.33        25.0   \n",
              "8336  Desert Dragon Destroyer Sword            12         33.33        25.0   \n",
              "8337  Desert Dragon Destroyer Sword            13         15.00        25.0   \n",
              "8338  Desert Dragon Destroyer Sword            14          5.00        25.0   \n",
              "8339  Desert Dragon Destroyer Sword            15          1.00        25.0   \n",
              "\n",
              "      MinDowngrade  MaxDowngrade   Gold  \n",
              "8235             0             0      1  \n",
              "8236             0             0      5  \n",
              "8237             0             0     13  \n",
              "8238             0             0     27  \n",
              "8239             0             0     54  \n",
              "...            ...           ...    ...  \n",
              "8335             0             1   6584  \n",
              "8336             0             2   7682  \n",
              "8337             1             2   9145  \n",
              "8338             1             2  13718  \n",
              "8339             1             2  21949  \n",
              "\n",
              "[105 rows x 7 columns]"
            ],
            "text/html": [
              "\n",
              "  <div id=\"df-2c91e3fc-2ff9-4a53-b3b8-74807a7a39da\" class=\"colab-df-container\">\n",
              "    <div>\n",
              "<style scoped>\n",
              "    .dataframe tbody tr th:only-of-type {\n",
              "        vertical-align: middle;\n",
              "    }\n",
              "\n",
              "    .dataframe tbody tr th {\n",
              "        vertical-align: top;\n",
              "    }\n",
              "\n",
              "    .dataframe thead th {\n",
              "        text-align: right;\n",
              "    }\n",
              "</style>\n",
              "<table border=\"1\" class=\"dataframe\">\n",
              "  <thead>\n",
              "    <tr style=\"text-align: right;\">\n",
              "      <th></th>\n",
              "      <th>Item Name</th>\n",
              "      <th>EnchantLevel</th>\n",
              "      <th>EnchantRatio</th>\n",
              "      <th>BreakRatio</th>\n",
              "      <th>MinDowngrade</th>\n",
              "      <th>MaxDowngrade</th>\n",
              "      <th>Gold</th>\n",
              "    </tr>\n",
              "  </thead>\n",
              "  <tbody>\n",
              "    <tr>\n",
              "      <th>8235</th>\n",
              "      <td>Desert Dragon Destroyer Boots</td>\n",
              "      <td>1</td>\n",
              "      <td>100.00</td>\n",
              "      <td>0.0</td>\n",
              "      <td>0</td>\n",
              "      <td>0</td>\n",
              "      <td>1</td>\n",
              "    </tr>\n",
              "    <tr>\n",
              "      <th>8236</th>\n",
              "      <td>Desert Dragon Destroyer Boots</td>\n",
              "      <td>2</td>\n",
              "      <td>100.00</td>\n",
              "      <td>0.0</td>\n",
              "      <td>0</td>\n",
              "      <td>0</td>\n",
              "      <td>5</td>\n",
              "    </tr>\n",
              "    <tr>\n",
              "      <th>8237</th>\n",
              "      <td>Desert Dragon Destroyer Boots</td>\n",
              "      <td>3</td>\n",
              "      <td>100.00</td>\n",
              "      <td>0.0</td>\n",
              "      <td>0</td>\n",
              "      <td>0</td>\n",
              "      <td>13</td>\n",
              "    </tr>\n",
              "    <tr>\n",
              "      <th>8238</th>\n",
              "      <td>Desert Dragon Destroyer Boots</td>\n",
              "      <td>4</td>\n",
              "      <td>100.00</td>\n",
              "      <td>0.0</td>\n",
              "      <td>0</td>\n",
              "      <td>0</td>\n",
              "      <td>27</td>\n",
              "    </tr>\n",
              "    <tr>\n",
              "      <th>8239</th>\n",
              "      <td>Desert Dragon Destroyer Boots</td>\n",
              "      <td>5</td>\n",
              "      <td>100.00</td>\n",
              "      <td>0.0</td>\n",
              "      <td>0</td>\n",
              "      <td>0</td>\n",
              "      <td>54</td>\n",
              "    </tr>\n",
              "    <tr>\n",
              "      <th>...</th>\n",
              "      <td>...</td>\n",
              "      <td>...</td>\n",
              "      <td>...</td>\n",
              "      <td>...</td>\n",
              "      <td>...</td>\n",
              "      <td>...</td>\n",
              "      <td>...</td>\n",
              "    </tr>\n",
              "    <tr>\n",
              "      <th>8335</th>\n",
              "      <td>Desert Dragon Destroyer Sword</td>\n",
              "      <td>11</td>\n",
              "      <td>33.33</td>\n",
              "      <td>25.0</td>\n",
              "      <td>0</td>\n",
              "      <td>1</td>\n",
              "      <td>6584</td>\n",
              "    </tr>\n",
              "    <tr>\n",
              "      <th>8336</th>\n",
              "      <td>Desert Dragon Destroyer Sword</td>\n",
              "      <td>12</td>\n",
              "      <td>33.33</td>\n",
              "      <td>25.0</td>\n",
              "      <td>0</td>\n",
              "      <td>2</td>\n",
              "      <td>7682</td>\n",
              "    </tr>\n",
              "    <tr>\n",
              "      <th>8337</th>\n",
              "      <td>Desert Dragon Destroyer Sword</td>\n",
              "      <td>13</td>\n",
              "      <td>15.00</td>\n",
              "      <td>25.0</td>\n",
              "      <td>1</td>\n",
              "      <td>2</td>\n",
              "      <td>9145</td>\n",
              "    </tr>\n",
              "    <tr>\n",
              "      <th>8338</th>\n",
              "      <td>Desert Dragon Destroyer Sword</td>\n",
              "      <td>14</td>\n",
              "      <td>5.00</td>\n",
              "      <td>25.0</td>\n",
              "      <td>1</td>\n",
              "      <td>2</td>\n",
              "      <td>13718</td>\n",
              "    </tr>\n",
              "    <tr>\n",
              "      <th>8339</th>\n",
              "      <td>Desert Dragon Destroyer Sword</td>\n",
              "      <td>15</td>\n",
              "      <td>1.00</td>\n",
              "      <td>25.0</td>\n",
              "      <td>1</td>\n",
              "      <td>2</td>\n",
              "      <td>21949</td>\n",
              "    </tr>\n",
              "  </tbody>\n",
              "</table>\n",
              "<p>105 rows × 7 columns</p>\n",
              "</div>\n",
              "    <div class=\"colab-df-buttons\">\n",
              "\n",
              "  <div class=\"colab-df-container\">\n",
              "    <button class=\"colab-df-convert\" onclick=\"convertToInteractive('df-2c91e3fc-2ff9-4a53-b3b8-74807a7a39da')\"\n",
              "            title=\"Convert this dataframe to an interactive table.\"\n",
              "            style=\"display:none;\">\n",
              "\n",
              "  <svg xmlns=\"http://www.w3.org/2000/svg\" height=\"24px\" viewBox=\"0 -960 960 960\">\n",
              "    <path d=\"M120-120v-720h720v720H120Zm60-500h600v-160H180v160Zm220 220h160v-160H400v160Zm0 220h160v-160H400v160ZM180-400h160v-160H180v160Zm440 0h160v-160H620v160ZM180-180h160v-160H180v160Zm440 0h160v-160H620v160Z\"/>\n",
              "  </svg>\n",
              "    </button>\n",
              "\n",
              "  <style>\n",
              "    .colab-df-container {\n",
              "      display:flex;\n",
              "      gap: 12px;\n",
              "    }\n",
              "\n",
              "    .colab-df-convert {\n",
              "      background-color: #E8F0FE;\n",
              "      border: none;\n",
              "      border-radius: 50%;\n",
              "      cursor: pointer;\n",
              "      display: none;\n",
              "      fill: #1967D2;\n",
              "      height: 32px;\n",
              "      padding: 0 0 0 0;\n",
              "      width: 32px;\n",
              "    }\n",
              "\n",
              "    .colab-df-convert:hover {\n",
              "      background-color: #E2EBFA;\n",
              "      box-shadow: 0px 1px 2px rgba(60, 64, 67, 0.3), 0px 1px 3px 1px rgba(60, 64, 67, 0.15);\n",
              "      fill: #174EA6;\n",
              "    }\n",
              "\n",
              "    .colab-df-buttons div {\n",
              "      margin-bottom: 4px;\n",
              "    }\n",
              "\n",
              "    [theme=dark] .colab-df-convert {\n",
              "      background-color: #3B4455;\n",
              "      fill: #D2E3FC;\n",
              "    }\n",
              "\n",
              "    [theme=dark] .colab-df-convert:hover {\n",
              "      background-color: #434B5C;\n",
              "      box-shadow: 0px 1px 3px 1px rgba(0, 0, 0, 0.15);\n",
              "      filter: drop-shadow(0px 1px 2px rgba(0, 0, 0, 0.3));\n",
              "      fill: #FFFFFF;\n",
              "    }\n",
              "  </style>\n",
              "\n",
              "    <script>\n",
              "      const buttonEl =\n",
              "        document.querySelector('#df-2c91e3fc-2ff9-4a53-b3b8-74807a7a39da button.colab-df-convert');\n",
              "      buttonEl.style.display =\n",
              "        google.colab.kernel.accessAllowed ? 'block' : 'none';\n",
              "\n",
              "      async function convertToInteractive(key) {\n",
              "        const element = document.querySelector('#df-2c91e3fc-2ff9-4a53-b3b8-74807a7a39da');\n",
              "        const dataTable =\n",
              "          await google.colab.kernel.invokeFunction('convertToInteractive',\n",
              "                                                    [key], {});\n",
              "        if (!dataTable) return;\n",
              "\n",
              "        const docLinkHtml = 'Like what you see? Visit the ' +\n",
              "          '<a target=\"_blank\" href=https://colab.research.google.com/notebooks/data_table.ipynb>data table notebook</a>'\n",
              "          + ' to learn more about interactive tables.';\n",
              "        element.innerHTML = '';\n",
              "        dataTable['output_type'] = 'display_data';\n",
              "        await google.colab.output.renderOutput(dataTable, element);\n",
              "        const docLink = document.createElement('div');\n",
              "        docLink.innerHTML = docLinkHtml;\n",
              "        element.appendChild(docLink);\n",
              "      }\n",
              "    </script>\n",
              "  </div>\n",
              "\n",
              "\n",
              "<div id=\"df-9d80ebcf-8566-4125-a095-3808a0fa00e2\">\n",
              "  <button class=\"colab-df-quickchart\" onclick=\"quickchart('df-9d80ebcf-8566-4125-a095-3808a0fa00e2')\"\n",
              "            title=\"Suggest charts\"\n",
              "            style=\"display:none;\">\n",
              "\n",
              "<svg xmlns=\"http://www.w3.org/2000/svg\" height=\"24px\"viewBox=\"0 0 24 24\"\n",
              "     width=\"24px\">\n",
              "    <g>\n",
              "        <path d=\"M19 3H5c-1.1 0-2 .9-2 2v14c0 1.1.9 2 2 2h14c1.1 0 2-.9 2-2V5c0-1.1-.9-2-2-2zM9 17H7v-7h2v7zm4 0h-2V7h2v10zm4 0h-2v-4h2v4z\"/>\n",
              "    </g>\n",
              "</svg>\n",
              "  </button>\n",
              "\n",
              "<style>\n",
              "  .colab-df-quickchart {\n",
              "      --bg-color: #E8F0FE;\n",
              "      --fill-color: #1967D2;\n",
              "      --hover-bg-color: #E2EBFA;\n",
              "      --hover-fill-color: #174EA6;\n",
              "      --disabled-fill-color: #AAA;\n",
              "      --disabled-bg-color: #DDD;\n",
              "  }\n",
              "\n",
              "  [theme=dark] .colab-df-quickchart {\n",
              "      --bg-color: #3B4455;\n",
              "      --fill-color: #D2E3FC;\n",
              "      --hover-bg-color: #434B5C;\n",
              "      --hover-fill-color: #FFFFFF;\n",
              "      --disabled-bg-color: #3B4455;\n",
              "      --disabled-fill-color: #666;\n",
              "  }\n",
              "\n",
              "  .colab-df-quickchart {\n",
              "    background-color: var(--bg-color);\n",
              "    border: none;\n",
              "    border-radius: 50%;\n",
              "    cursor: pointer;\n",
              "    display: none;\n",
              "    fill: var(--fill-color);\n",
              "    height: 32px;\n",
              "    padding: 0;\n",
              "    width: 32px;\n",
              "  }\n",
              "\n",
              "  .colab-df-quickchart:hover {\n",
              "    background-color: var(--hover-bg-color);\n",
              "    box-shadow: 0 1px 2px rgba(60, 64, 67, 0.3), 0 1px 3px 1px rgba(60, 64, 67, 0.15);\n",
              "    fill: var(--button-hover-fill-color);\n",
              "  }\n",
              "\n",
              "  .colab-df-quickchart-complete:disabled,\n",
              "  .colab-df-quickchart-complete:disabled:hover {\n",
              "    background-color: var(--disabled-bg-color);\n",
              "    fill: var(--disabled-fill-color);\n",
              "    box-shadow: none;\n",
              "  }\n",
              "\n",
              "  .colab-df-spinner {\n",
              "    border: 2px solid var(--fill-color);\n",
              "    border-color: transparent;\n",
              "    border-bottom-color: var(--fill-color);\n",
              "    animation:\n",
              "      spin 1s steps(1) infinite;\n",
              "  }\n",
              "\n",
              "  @keyframes spin {\n",
              "    0% {\n",
              "      border-color: transparent;\n",
              "      border-bottom-color: var(--fill-color);\n",
              "      border-left-color: var(--fill-color);\n",
              "    }\n",
              "    20% {\n",
              "      border-color: transparent;\n",
              "      border-left-color: var(--fill-color);\n",
              "      border-top-color: var(--fill-color);\n",
              "    }\n",
              "    30% {\n",
              "      border-color: transparent;\n",
              "      border-left-color: var(--fill-color);\n",
              "      border-top-color: var(--fill-color);\n",
              "      border-right-color: var(--fill-color);\n",
              "    }\n",
              "    40% {\n",
              "      border-color: transparent;\n",
              "      border-right-color: var(--fill-color);\n",
              "      border-top-color: var(--fill-color);\n",
              "    }\n",
              "    60% {\n",
              "      border-color: transparent;\n",
              "      border-right-color: var(--fill-color);\n",
              "    }\n",
              "    80% {\n",
              "      border-color: transparent;\n",
              "      border-right-color: var(--fill-color);\n",
              "      border-bottom-color: var(--fill-color);\n",
              "    }\n",
              "    90% {\n",
              "      border-color: transparent;\n",
              "      border-bottom-color: var(--fill-color);\n",
              "    }\n",
              "  }\n",
              "</style>\n",
              "\n",
              "  <script>\n",
              "    async function quickchart(key) {\n",
              "      const quickchartButtonEl =\n",
              "        document.querySelector('#' + key + ' button');\n",
              "      quickchartButtonEl.disabled = true;  // To prevent multiple clicks.\n",
              "      quickchartButtonEl.classList.add('colab-df-spinner');\n",
              "      try {\n",
              "        const charts = await google.colab.kernel.invokeFunction(\n",
              "            'suggestCharts', [key], {});\n",
              "      } catch (error) {\n",
              "        console.error('Error during call to suggestCharts:', error);\n",
              "      }\n",
              "      quickchartButtonEl.classList.remove('colab-df-spinner');\n",
              "      quickchartButtonEl.classList.add('colab-df-quickchart-complete');\n",
              "    }\n",
              "    (() => {\n",
              "      let quickchartButtonEl =\n",
              "        document.querySelector('#df-9d80ebcf-8566-4125-a095-3808a0fa00e2 button');\n",
              "      quickchartButtonEl.style.display =\n",
              "        google.colab.kernel.accessAllowed ? 'block' : 'none';\n",
              "    })();\n",
              "  </script>\n",
              "</div>\n",
              "    </div>\n",
              "  </div>\n"
            ],
            "application/vnd.google.colaboratory.intrinsic+json": {
              "type": "dataframe",
              "variable_name": "item_info_DDNL1",
              "summary": "{\n  \"name\": \"item_info_DDNL1\",\n  \"rows\": 105,\n  \"fields\": [\n    {\n      \"column\": \"Item Name\",\n      \"properties\": {\n        \"dtype\": \"category\",\n        \"num_unique_values\": 7,\n        \"samples\": [\n          \"Desert Dragon Destroyer Boots\",\n          \"Desert Dragon Destroyer Gauntlets\",\n          \"Desert Dragon Destroyer Shirt\"\n        ],\n        \"semantic_type\": \"\",\n        \"description\": \"\"\n      }\n    },\n    {\n      \"column\": \"EnchantLevel\",\n      \"properties\": {\n        \"dtype\": \"number\",\n        \"std\": 4,\n        \"min\": 1,\n        \"max\": 15,\n        \"num_unique_values\": 15,\n        \"samples\": [\n          10,\n          12,\n          1\n        ],\n        \"semantic_type\": \"\",\n        \"description\": \"\"\n      }\n    },\n    {\n      \"column\": \"EnchantRatio\",\n      \"properties\": {\n        \"dtype\": \"number\",\n        \"std\": 38.46541807010152,\n        \"min\": 1.0,\n        \"max\": 100.0,\n        \"num_unique_values\": 5,\n        \"samples\": [\n          33.33,\n          1.0,\n          15.0\n        ],\n        \"semantic_type\": \"\",\n        \"description\": \"\"\n      }\n    },\n    {\n      \"column\": \"BreakRatio\",\n      \"properties\": {\n        \"dtype\": \"number\",\n        \"std\": 12.306189812135504,\n        \"min\": 0.0,\n        \"max\": 25.0,\n        \"num_unique_values\": 2,\n        \"samples\": [\n          25.0,\n          0.0\n        ],\n        \"semantic_type\": \"\",\n        \"description\": \"\"\n      }\n    },\n    {\n      \"column\": \"MinDowngrade\",\n      \"properties\": {\n        \"dtype\": \"number\",\n        \"std\": 0,\n        \"min\": 0,\n        \"max\": 1,\n        \"num_unique_values\": 2,\n        \"samples\": [\n          1,\n          0\n        ],\n        \"semantic_type\": \"\",\n        \"description\": \"\"\n      }\n    },\n    {\n      \"column\": \"MaxDowngrade\",\n      \"properties\": {\n        \"dtype\": \"number\",\n        \"std\": 0,\n        \"min\": 0,\n        \"max\": 2,\n        \"num_unique_values\": 3,\n        \"samples\": [\n          0,\n          1\n        ],\n        \"semantic_type\": \"\",\n        \"description\": \"\"\n      }\n    },\n    {\n      \"column\": \"Gold\",\n      \"properties\": {\n        \"dtype\": \"number\",\n        \"std\": 3152,\n        \"min\": 1,\n        \"max\": 21949,\n        \"num_unique_values\": 77,\n        \"samples\": [\n          54,\n          640\n        ],\n        \"semantic_type\": \"\",\n        \"description\": \"\"\n      }\n    }\n  ]\n}"
            }
          },
          "metadata": {},
          "execution_count": 42
        }
      ]
    },
    {
      "cell_type": "code",
      "source": [
        "Drow_numbers_str_1 = extract_row_numbers(item_info_DDNL1)\n",
        "Drow_numbers_str_1"
      ],
      "metadata": {
        "colab": {
          "base_uri": "https://localhost:8080/",
          "height": 105
        },
        "id": "umVgn1ygnA5h",
        "outputId": "f3dc540f-c72f-4119-c839-a92080495cad"
      },
      "execution_count": null,
      "outputs": [
        {
          "output_type": "execute_result",
          "data": {
            "text/plain": [
              "'8235, 8236, 8237, 8238, 8239, 8240, 8241, 8242, 8243, 8244, 8245, 8246, 8247, 8248, 8249, 8250, 8251, 8252, 8253, 8254, 8255, 8256, 8257, 8258, 8259, 8260, 8261, 8262, 8263, 8264, 8265, 8266, 8267, 8268, 8269, 8270, 8271, 8272, 8273, 8274, 8275, 8276, 8277, 8278, 8279, 8280, 8281, 8282, 8283, 8284, 8285, 8286, 8287, 8288, 8289, 8290, 8291, 8292, 8293, 8294, 8295, 8296, 8297, 8298, 8299, 8300, 8301, 8302, 8303, 8304, 8305, 8306, 8307, 8308, 8309, 8310, 8311, 8312, 8313, 8314, 8315, 8316, 8317, 8318, 8319, 8320, 8321, 8322, 8323, 8324, 8325, 8326, 8327, 8328, 8329, 8330, 8331, 8332, 8333, 8334, 8335, 8336, 8337, 8338, 8339'"
            ],
            "application/vnd.google.colaboratory.intrinsic+json": {
              "type": "string"
            }
          },
          "metadata": {},
          "execution_count": 43
        }
      ]
    },
    {
      "cell_type": "code",
      "source": [
        "DSW_row_indices = [2700, 2701, 2702, 2703, 2704, 2705, 2706, 2707, 2708, 2709, 2710, 2711, 2712, 2713, 2714, # Destroyer Helmet\n",
        "               2730, 2731, 2732, 2733, 2734, 2735, 2736, 2737, 2738, 2739, 2740, 2741, 2742, 2743, 2744, # Destroyer Shirt\n",
        "               2715, 2716, 2717, 2718, 2719, 2720, 2721, 2722, 2723, 2724, 2725, 2726, 2727, 2728, 2729, # Destroyer Pants\n",
        "               2685, 2686, 2687, 2688, 2689, 2690, 2691, 2692, 2693, 2694, 2695, 2696, 2697, 2698, 2699, # Destroyer Gloves\n",
        "               2655, 2656, 2657, 2658, 2659, 2660, 2661, 2662, 2663, 2664, 2665, 2666, 2667, 2668, 2669, # Destroyer Boots\n",
        "               2745, 2746, 2747, 2748, 2749, 2750, 2751, 2752, 2753, 2754, 2755, 2756, 2757, 2758, 2759, # Destroyer Sword\n",
        "               2670, 2671, 2672, 2673, 2674, 2675, 2676, 2677, 2678, 2679, 2680, 2681, 2682, 2683, 2684] # Destroyer Gauntlet\n",
        "\n",
        "# Select specific 15 rows from all columns using the defined indices\n",
        "DSW_selected_rows = df.iloc[DSW_row_indices, :]\n",
        "\n",
        "# Save the selected rows to a new CSV file\n",
        "# DSW_selected_rows.to_csv('/content/drive/MyDrive/Enhancement_data/Legends/DDN/Swordmaster.csv', index=False)"
      ],
      "metadata": {
        "id": "SwkfiWwWnApI"
      },
      "execution_count": null,
      "outputs": []
    },
    {
      "cell_type": "markdown",
      "source": [
        "2. Mercenary (Illumia) Desert Dragon Legend set"
      ],
      "metadata": {
        "id": "AI9IQa-1ltuU"
      }
    },
    {
      "cell_type": "markdown",
      "source": [
        "3. Sharpshooter (Tracker) Desert Dragon Legend set"
      ],
      "metadata": {
        "id": "BAxk1i7IlyeZ"
      }
    },
    {
      "cell_type": "markdown",
      "source": [
        "4. Acrobat (Troublemaker) Desert Dragon Legend set"
      ],
      "metadata": {
        "id": "ALyCLsWql6Qp"
      }
    },
    {
      "cell_type": "markdown",
      "source": [
        "5. Priest (Saviour) Desert Dragon Legend set"
      ],
      "metadata": {
        "id": "oigZ0ITjl_Oz"
      }
    },
    {
      "cell_type": "markdown",
      "source": [
        "6. Paladin (Guardian Knight) Desert Dragon Legend set"
      ],
      "metadata": {
        "id": "93nYgpJfmDzj"
      }
    },
    {
      "cell_type": "markdown",
      "source": [
        "7. Elementalist/Elemental Lord (Terminator) Desert Dragon set"
      ],
      "metadata": {
        "id": "NglJJvrNmJ2-"
      }
    },
    {
      "cell_type": "markdown",
      "source": [
        "8. Force User (Contractor) Desert Dragon set"
      ],
      "metadata": {
        "id": "APtHc8rQmVUR"
      }
    },
    {
      "cell_type": "markdown",
      "source": [
        "9. Alchemist (Changer) Desert Dragon set"
      ],
      "metadata": {
        "id": "qdUY_axkmZQ_"
      }
    },
    {
      "cell_type": "markdown",
      "source": [
        "10. Engineer (Coordinator) Desert Dragon set"
      ],
      "metadata": {
        "id": "mKQajOofmcM3"
      }
    },
    {
      "cell_type": "markdown",
      "source": [
        "11. Screamer (Soul Handler) Desert Dragon set"
      ],
      "metadata": {
        "id": "ZLdL1wUOmga8"
      }
    },
    {
      "cell_type": "markdown",
      "source": [
        "12. Dancer (Dancer) Desert Dragon set"
      ],
      "metadata": {
        "id": "DoNva5yCmjpr"
      }
    },
    {
      "cell_type": "markdown",
      "source": [
        "13. Chaser (Slaughter) Desert Dragon set"
      ],
      "metadata": {
        "id": "pmvo4qLcmnou"
      }
    },
    {
      "cell_type": "markdown",
      "source": [
        "14. Bringer (Meditation) Desert Dragon set"
      ],
      "metadata": {
        "id": "Cn5NMseemrej"
      }
    },
    {
      "cell_type": "markdown",
      "source": [
        "15. Dragoon (Victoria) Desert Dragon set"
      ],
      "metadata": {
        "id": "U9b-kWYKmvVT"
      }
    },
    {
      "cell_type": "markdown",
      "source": [
        "### Black Dragon Legends"
      ],
      "metadata": {
        "id": "ha-XM5mK7bF_"
      }
    },
    {
      "cell_type": "code",
      "source": [
        "# BDNL for warrior\n",
        "keyword_BDNL_sword = \"Black Dragon Destroyer\"\n",
        "keyword_BDNL_merc = \"Black Dragon Illumia\"\n",
        "\n",
        "# BDNL for archer\n",
        "keyword_BDNL_sharp = \"Black Dragon Tracker\"\n",
        "keyword_BDNL_acro = \"Black Dragon Troublemaker\"\n",
        "\n",
        "# BDNL for cleric\n",
        "keyword_BDNL_priest = \"Black Dragon Saviour\"\n",
        "keyword_BDNL_pala = \"Black Dragon Guardian Knight\"\n",
        "\n",
        "# BDNL for sorceress\n",
        "keyword_BDNL_ele = \"Black Dragon Terminator\"\n",
        "keyword_BDNL_bt = \"Black Dragon Contractor\"\n",
        "\n",
        "# BDNL for academic\n",
        "keyword_BDNL_slime = \"Black Dragon Changer\"\n",
        "keyword_BDNL_duck = \"Black Dragon Coordinator\"\n",
        "\n",
        "# BDNL for kali\n",
        "Keyword_BDNL_curse = \"Black Dragon Soul Handler\"\n",
        "keyword_BDNL_dance = \"Black Dragon Dancer\"\n",
        "\n",
        "# BDNL for assassin\n",
        "keyword_BDNL_crow = \"Black Dragon Slaughter\"\n",
        "keyword_BDNL_medi = \"Black Dragon Meditation\"\n",
        "\n",
        "# BDNL for lancea\n",
        "keyword_BDNL_spin = \"Black Dragon Victoria\""
      ],
      "metadata": {
        "id": "pEoawPtZ3aKf"
      },
      "execution_count": null,
      "outputs": []
    },
    {
      "cell_type": "markdown",
      "source": [
        "1. Swordmaster (Destroyer) Black Dragon Legend set"
      ],
      "metadata": {
        "id": "xobPHQIGX3Eo"
      }
    },
    {
      "cell_type": "code",
      "source": [
        "keyword_BDNL1 = keyword_BDNL_sword  # Replace with the keyword you want to search for\n",
        "item_info_BDNL1 = get_item_info(keyword_BDNL1)\n",
        "\n",
        "item_info_BDNL1\n",
        "\n",
        "row_numbers_str_1 = extract_row_numbers(item_info_BDNL1)\n",
        "row_numbers_str_1"
      ],
      "metadata": {
        "colab": {
          "base_uri": "https://localhost:8080/",
          "height": 105
        },
        "id": "sXlnSYl93-bX",
        "outputId": "67a581cc-1074-4faa-dda4-0e1abcbb2141"
      },
      "execution_count": null,
      "outputs": [
        {
          "output_type": "execute_result",
          "data": {
            "text/plain": [
              "'2655, 2656, 2657, 2658, 2659, 2660, 2661, 2662, 2663, 2664, 2665, 2666, 2667, 2668, 2669, 2670, 2671, 2672, 2673, 2674, 2675, 2676, 2677, 2678, 2679, 2680, 2681, 2682, 2683, 2684, 2685, 2686, 2687, 2688, 2689, 2690, 2691, 2692, 2693, 2694, 2695, 2696, 2697, 2698, 2699, 2700, 2701, 2702, 2703, 2704, 2705, 2706, 2707, 2708, 2709, 2710, 2711, 2712, 2713, 2714, 2715, 2716, 2717, 2718, 2719, 2720, 2721, 2722, 2723, 2724, 2725, 2726, 2727, 2728, 2729, 2730, 2731, 2732, 2733, 2734, 2735, 2736, 2737, 2738, 2739, 2740, 2741, 2742, 2743, 2744, 2745, 2746, 2747, 2748, 2749, 2750, 2751, 2752, 2753, 2754, 2755, 2756, 2757, 2758, 2759'"
            ],
            "application/vnd.google.colaboratory.intrinsic+json": {
              "type": "string"
            }
          },
          "metadata": {},
          "execution_count": 11
        }
      ]
    },
    {
      "cell_type": "code",
      "source": [
        "SW_row_indices = [2700, 2701, 2702, 2703, 2704, 2705, 2706, 2707, 2708, 2709, 2710, 2711, 2712, 2713, 2714, # Destroyer Helmet\n",
        "               2730, 2731, 2732, 2733, 2734, 2735, 2736, 2737, 2738, 2739, 2740, 2741, 2742, 2743, 2744, # Destroyer Shirt\n",
        "               2715, 2716, 2717, 2718, 2719, 2720, 2721, 2722, 2723, 2724, 2725, 2726, 2727, 2728, 2729, # Destroyer Pants\n",
        "               2685, 2686, 2687, 2688, 2689, 2690, 2691, 2692, 2693, 2694, 2695, 2696, 2697, 2698, 2699, # Destroyer Gloves\n",
        "               2655, 2656, 2657, 2658, 2659, 2660, 2661, 2662, 2663, 2664, 2665, 2666, 2667, 2668, 2669, # Destroyer Boots\n",
        "               2745, 2746, 2747, 2748, 2749, 2750, 2751, 2752, 2753, 2754, 2755, 2756, 2757, 2758, 2759, # Destroyer Sword\n",
        "               2670, 2671, 2672, 2673, 2674, 2675, 2676, 2677, 2678, 2679, 2680, 2681, 2682, 2683, 2684] # Destroyer Gauntlet\n",
        "\n",
        "# Select specific 15 rows from all columns using the defined indices\n",
        "SW_selected_rows = df.iloc[SW_row_indices, :]\n",
        "\n",
        "# Save the selected rows to a new CSV file\n",
        "SW_selected_rows.to_csv('/content/drive/MyDrive/Enhancement_data/Legends/BDN/Swordmaster.csv', index=False)"
      ],
      "metadata": {
        "id": "ePoXaJhuZ9tu"
      },
      "execution_count": null,
      "outputs": []
    },
    {
      "cell_type": "markdown",
      "source": [
        "2. Mercenary (Illumia) Black Dragon Legend set"
      ],
      "metadata": {
        "id": "hGcZ-kYxYgmO"
      }
    },
    {
      "cell_type": "code",
      "source": [
        "keyword_BDNL2 = keyword_BDNL_merc  # Replace with the keyword you want to search for\n",
        "item_info_BDNL2 = get_item_info(keyword_BDNL2)\n",
        "\n",
        "item_info_BDNL2\n",
        "\n",
        "row_numbers_str_2 = extract_row_numbers(item_info_BDNL2)\n",
        "row_numbers_str_2"
      ],
      "metadata": {
        "colab": {
          "base_uri": "https://localhost:8080/",
          "height": 105
        },
        "id": "WrQhiHZyIPY0",
        "outputId": "23a85e67-30af-47ce-8507-4af160d0f8b5"
      },
      "execution_count": null,
      "outputs": [
        {
          "output_type": "execute_result",
          "data": {
            "text/plain": [
              "'3030, 3031, 3032, 3033, 3034, 3035, 3036, 3037, 3038, 3039, 3040, 3041, 3042, 3043, 3044, 3045, 3046, 3047, 3048, 3049, 3050, 3051, 3052, 3053, 3054, 3055, 3056, 3057, 3058, 3059, 3060, 3061, 3062, 3063, 3064, 3065, 3066, 3067, 3068, 3069, 3070, 3071, 3072, 3073, 3074, 3075, 3076, 3077, 3078, 3079, 3080, 3081, 3082, 3083, 3084, 3085, 3086, 3087, 3088, 3089, 3090, 3091, 3092, 3093, 3094, 3095, 3096, 3097, 3098, 3099, 3100, 3101, 3102, 3103, 3104, 3105, 3106, 3107, 3108, 3109, 3110, 3111, 3112, 3113, 3114, 3115, 3116, 3117, 3118, 3119, 3120, 3121, 3122, 3123, 3124, 3125, 3126, 3127, 3128, 3129, 3130, 3131, 3132, 3133, 3134, 3135, 3136, 3137, 3138, 3139, 3140, 3141, 3142, 3143, 3144, 3145, 3146, 3147, 3148, 3149'"
            ],
            "application/vnd.google.colaboratory.intrinsic+json": {
              "type": "string"
            }
          },
          "metadata": {},
          "execution_count": 13
        }
      ]
    },
    {
      "cell_type": "code",
      "source": [
        "MERC_row_indices = [3105, 3106, 3107, 3108, 3109, 3110, 3111, 3112, 3113, 3114, 3115, 3116, 3117, 3118, 3119, # Illumia Helmet\n",
        "               3135, 3136, 3137, 3138, 3139, 3140, 3141, 3142, 3143, 3144, 3145, 3146, 3147, 3148, 3149, # Illumia Shirt\n",
        "               3120, 3121, 3122, 3123, 3124, 3125, 3126, 3127, 3128, 3129, 3130, 3131, 3132, 3133, 3134, # Illumia Pants\n",
        "               3075, 3076, 3077, 3078, 3079, 3080, 3081, 3082, 3083, 3084, 3085, 3086, 3087, 3088, 3089, # Illumia Gloves\n",
        "               3045, 3046, 3047, 3048, 3049, 3050, 3051, 3052, 3053, 3054, 3055, 3056, 3057, 3058, 3059, # Illumia Boots\n",
        "               3030, 3031, 3032, 3033, 3034, 3035, 3036, 3037, 3038, 3039, 3040, 3041, 3042, 3043, 3044, # Illumia Axe\n",
        "               3090, 3091, 3092, 3093, 3094, 3095, 3096, 3097, 3098, 3099, 3100, 3101, 3102, 3103, 3104, # Illumia Hammer\n",
        "               3060, 3061, 3062, 3063, 3064, 3065, 3066, 3067, 3068, 3069, 3070, 3071, 3072, 3073, 3074] # Illumia Gauntlet\n",
        "\n",
        "# Select specific 15 rows from all columns using the defined indices\n",
        "MERC_selected_rows = df.iloc[MERC_row_indices, :]\n",
        "\n",
        "# Save the selected rows to a new CSV file\n",
        "MERC_selected_rows.to_csv('/content/drive/MyDrive/Enhancement_data/Legends/BDN/Mercenary.csv', index=False)"
      ],
      "metadata": {
        "id": "6lBLv8ZrYlsp"
      },
      "execution_count": null,
      "outputs": []
    },
    {
      "cell_type": "markdown",
      "source": [
        "3. Sharpshooter (Tracker) Black Dragon Legend set"
      ],
      "metadata": {
        "id": "QzeNkqi6ufiL"
      }
    },
    {
      "cell_type": "code",
      "source": [
        "keyword_BDNL3 = keyword_BDNL_sharp  # Replace with the keyword you want to search for\n",
        "item_info_BDNL3 = get_item_info(keyword_BDNL3)\n",
        "\n",
        "item_info_BDNL3\n",
        "\n",
        "row_numbers_str_3 = extract_row_numbers(item_info_BDNL3)\n",
        "row_numbers_str_3"
      ],
      "metadata": {
        "colab": {
          "base_uri": "https://localhost:8080/",
          "height": 105
        },
        "id": "yzJrvLKVI32r",
        "outputId": "ad2e93d3-e8da-4f85-889c-a2b5d2f98845"
      },
      "execution_count": null,
      "outputs": [
        {
          "output_type": "execute_result",
          "data": {
            "text/plain": [
              "'4185, 4186, 4187, 4188, 4189, 4190, 4191, 4192, 4193, 4194, 4195, 4196, 4197, 4198, 4199, 4200, 4201, 4202, 4203, 4204, 4205, 4206, 4207, 4208, 4209, 4210, 4211, 4212, 4213, 4214, 4215, 4216, 4217, 4218, 4219, 4220, 4221, 4222, 4223, 4224, 4225, 4226, 4227, 4228, 4229, 4230, 4231, 4232, 4233, 4234, 4235, 4236, 4237, 4238, 4239, 4240, 4241, 4242, 4243, 4244, 4245, 4246, 4247, 4248, 4249, 4250, 4251, 4252, 4253, 4254, 4255, 4256, 4257, 4258, 4259, 4260, 4261, 4262, 4263, 4264, 4265, 4266, 4267, 4268, 4269, 4270, 4271, 4272, 4273, 4274, 4275, 4276, 4277, 4278, 4279, 4280, 4281, 4282, 4283, 4284, 4285, 4286, 4287, 4288, 4289, 4290, 4291, 4292, 4293, 4294, 4295, 4296, 4297, 4298, 4299, 4300, 4301, 4302, 4303, 4304'"
            ],
            "application/vnd.google.colaboratory.intrinsic+json": {
              "type": "string"
            }
          },
          "metadata": {},
          "execution_count": 15
        }
      ]
    },
    {
      "cell_type": "code",
      "source": [
        "Sharp_row_indices = [4215, 4216, 4217, 4218, 4219, 4220, 4221, 4222, 4223, 4224, 4225, 4226, 4227, 4228, 4229, # Tracker Headband\n",
        "               4275, 4276, 4277, 4278, 4279, 4280, 4281, 4282, 4283, 4284, 4285, 4286, 4287, 4288, 4289, # Tracker Onesie\n",
        "               4230, 4231, 4232, 4233, 4234, 4235, 4236, 4237, 4238, 4239, 4240, 4241, 4242, 4243, 4244, # Tracker Leggings\n",
        "               4260, 4261, 4262, 4263, 4264, 4265, 4266, 4267, 4268, 4269, 4270, 4271, 4272, 4273, 4274, # Tracker Mittens\n",
        "               4185, 4186, 4187, 4188, 4189, 4190, 4191, 4192, 4193, 4194, 4195, 4196, 4197, 4198, 4199, # Tracker Booties\n",
        "               4245, 4246, 4247, 4248, 4249, 4250, 4251, 4252, 4253, 4254, 4255, 4256, 4257, 4258, 4259, # Tracker Longbow\n",
        "               4200, 4201, 4202, 4203, 4204, 4205, 4206, 4207, 4208, 4209, 4210, 4211, 4212, 4213, 4214, # Tracker Crossbow\n",
        "               4290, 4291, 4292, 4293, 4294, 4295, 4296, 4297, 4298, 4299, 4300, 4301, 4302, 4303, 4304] # Tracker Quiver\n",
        "\n",
        "# Select specific 15 rows from all columns using the defined indices\n",
        "Sharp_selected_rows = df.iloc[Sharp_row_indices, :]\n",
        "\n",
        "# Save the selected rows to a new CSV file\n",
        "Sharp_selected_rows.to_csv('/content/drive/MyDrive/Enhancement_data/Legends/BDN/SharpShooter.csv', index=False)"
      ],
      "metadata": {
        "id": "iE7ZF67vuknz"
      },
      "execution_count": null,
      "outputs": []
    },
    {
      "cell_type": "markdown",
      "source": [
        "4. Acrobat (Troublemaker) Black Dragon Legend set\n",
        "\n"
      ],
      "metadata": {
        "id": "X_on62bsulCF"
      }
    },
    {
      "cell_type": "code",
      "source": [
        "keyword_BDNL4 = keyword_BDNL_acro  # Replace with the keyword you want to search for\n",
        "item_info_BDNL4 = get_item_info(keyword_BDNL4)\n",
        "\n",
        "item_info_BDNL4\n",
        "\n",
        "row_numbers_str_4 = extract_row_numbers(item_info_BDNL4)\n",
        "row_numbers_str_4"
      ],
      "metadata": {
        "colab": {
          "base_uri": "https://localhost:8080/",
          "height": 105
        },
        "id": "dl9FegY4Opr0",
        "outputId": "3779dc70-8dbc-4fdd-c779-a25c9f03a693"
      },
      "execution_count": null,
      "outputs": [
        {
          "output_type": "execute_result",
          "data": {
            "text/plain": [
              "'4305, 4306, 4307, 4308, 4309, 4310, 4311, 4312, 4313, 4314, 4315, 4316, 4317, 4318, 4319, 4320, 4321, 4322, 4323, 4324, 4325, 4326, 4327, 4328, 4329, 4330, 4331, 4332, 4333, 4334, 4335, 4336, 4337, 4338, 4339, 4340, 4341, 4342, 4343, 4344, 4345, 4346, 4347, 4348, 4349, 4350, 4351, 4352, 4353, 4354, 4355, 4356, 4357, 4358, 4359, 4360, 4361, 4362, 4363, 4364, 4365, 4366, 4367, 4368, 4369, 4370, 4371, 4372, 4373, 4374, 4375, 4376, 4377, 4378, 4379, 4380, 4381, 4382, 4383, 4384, 4385, 4386, 4387, 4388, 4389, 4390, 4391, 4392, 4393, 4394, 4395, 4396, 4397, 4398, 4399, 4400, 4401, 4402, 4403, 4404, 4405, 4406, 4407, 4408, 4409'"
            ],
            "application/vnd.google.colaboratory.intrinsic+json": {
              "type": "string"
            }
          },
          "metadata": {},
          "execution_count": 17
        }
      ]
    },
    {
      "cell_type": "code",
      "source": [
        "Acro_row_indices = [4320, 4321, 4322, 4323, 4324, 4325, 4326, 4327, 4328, 4329, 4330, 4331, 4332, 4333, 4334, # Troublemaker HeadBand\n",
        "               4365, 4366, 4367, 4368, 4369, 4370, 4371, 4372, 4373, 4374, 4375, 4376, 4377, 4378, 4379, # Troublemaker Onesie\n",
        "               4335, 4336, 4337, 4338, 4339, 4340, 4341, 4342, 4343, 4344, 4345, 4346, 4347, 4348, 4349, # Troublemaker Leggings\n",
        "               4350, 4351, 4352, 4353, 4354, 4355, 4356, 4357, 4358, 4359, 4360, 4361, 4362, 4363, 4364, # Troublemaker Mittens\n",
        "               4305, 4306, 4307, 4308, 4309, 4310, 4311, 4312, 4313, 4314, 4315, 4316, 4317, 4318, 4319, # Troublemaker Booties\n",
        "               4395, 4396, 4397, 4398, 4399, 4400, 4401, 4402, 4403, 4404, 4405, 4406, 4407, 4408, 4409, # Troublemaker Shortbow\n",
        "               4380, 4381, 4382, 4383, 4384, 4385, 4386, 4387, 4388, 4389, 4390, 4391, 4392, 4393, 4394] # Troublemaker Quiver\n",
        "\n",
        "# Select specific 15 rows from all columns using the defined indices\n",
        "Acro_selected_rows = df.iloc[Acro_row_indices, :]\n",
        "\n",
        "\n",
        "# Save the selected rows to a new CSV file\n",
        "Acro_selected_rows.to_csv('/content/drive/MyDrive/Enhancement_data/Legends/BDN/Acrobat.csv', index=False)"
      ],
      "metadata": {
        "id": "gqe5eF2VurTS"
      },
      "execution_count": null,
      "outputs": []
    },
    {
      "cell_type": "markdown",
      "source": [
        "5. Priest (Saviour) Black Dragon Legend set"
      ],
      "metadata": {
        "id": "TVEIYpnDRPbM"
      }
    },
    {
      "cell_type": "code",
      "source": [
        "keyword_BDNL5 = keyword_BDNL_priest  # Replace with the keyword you want to search for\n",
        "item_info_BDNL5 = get_item_info(keyword_BDNL5)\n",
        "\n",
        "item_info_BDNL5\n",
        "\n",
        "row_numbers_str_5 = extract_row_numbers(item_info_BDNL5)\n",
        "row_numbers_str_5"
      ],
      "metadata": {
        "colab": {
          "base_uri": "https://localhost:8080/",
          "height": 105
        },
        "id": "py7UUyI-RZO1",
        "outputId": "722df32e-8f83-49c7-f3b1-4ffd560e1717"
      },
      "execution_count": null,
      "outputs": [
        {
          "output_type": "execute_result",
          "data": {
            "text/plain": [
              "'3555, 3556, 3557, 3558, 3559, 3560, 3561, 3562, 3563, 3564, 3565, 3566, 3567, 3568, 3569, 3570, 3571, 3572, 3573, 3574, 3575, 3576, 3577, 3578, 3579, 3580, 3581, 3582, 3583, 3584, 3585, 3586, 3587, 3588, 3589, 3590, 3591, 3592, 3593, 3594, 3595, 3596, 3597, 3598, 3599, 3600, 3601, 3602, 3603, 3604, 3605, 3606, 3607, 3608, 3609, 3610, 3611, 3612, 3613, 3614, 3615, 3616, 3617, 3618, 3619, 3620, 3621, 3622, 3623, 3624, 3625, 3626, 3627, 3628, 3629, 3630, 3631, 3632, 3633, 3634, 3635, 3636, 3637, 3638, 3639, 3640, 3641, 3642, 3643, 3644, 3645, 3646, 3647, 3648, 3649, 3650, 3651, 3652, 3653, 3654, 3655, 3656, 3657, 3658, 3659'"
            ],
            "application/vnd.google.colaboratory.intrinsic+json": {
              "type": "string"
            }
          },
          "metadata": {},
          "execution_count": 19
        }
      ]
    },
    {
      "cell_type": "code",
      "source": [
        "priest_row_indices = [3585, 3586, 3587, 3588, 3589, 3590, 3591, 3592, 3593, 3594, 3595, 3596, 3597, 3598, 3599, # Saviour Galero\n",
        "               3555, 3556, 3557, 3558, 3559, 3560, 3561, 3562, 3563, 3564, 3565, 3566, 3567, 3568, 3569, # Saviour Armour\n",
        "               3630, 3631, 3632, 3633, 3634, 3635, 3636, 3637, 3638, 3639, 3640, 3641, 3642, 3643, 3644, # Saviour Trousers\n",
        "               3570, 3571, 3572, 3573, 3574, 3575, 3576, 3577, 3578, 3579, 3580, 3581, 3582, 3583, 3584, # Saviour Cuffs\n",
        "               3615, 3616, 3617, 3618, 3619, 3620, 3621, 3622, 3623, 3624, 3625, 3626, 3627, 3628, 3629, # Saviour Shoes\n",
        "               3645, 3646, 3647, 3648, 3649, 3650, 3651, 3652, 3653, 3654, 3655, 3656, 3657, 3658, 3659, # Saviour Wand\n",
        "               3600, 3601, 3602, 3603, 3604, 3605, 3606, 3607, 3608, 3609, 3610, 3611, 3612, 3613, 3614] # Saviour Shield\n",
        "\n",
        "# Select specific 15 rows from all columns using the defined indices\n",
        "priest_selected_rows = df.iloc[priest_row_indices, :]\n",
        "\n",
        "# Save the selected rows to a new CSV file\n",
        "priest_selected_rows.to_csv('/content/drive/MyDrive/Enhancement_data/Legends/BDN/Priest.csv', index=False)"
      ],
      "metadata": {
        "id": "xjZK_mr0V3gV"
      },
      "execution_count": null,
      "outputs": []
    },
    {
      "cell_type": "markdown",
      "source": [
        "6. Paladin (Guardian) Black Dragon Legend set"
      ],
      "metadata": {
        "id": "fCqWnjh0RZoE"
      }
    },
    {
      "cell_type": "code",
      "source": [
        "keyword_BDNL6 = keyword_BDNL_pala  # Replace with the keyword you want to search for\n",
        "item_info_BDNL6 = get_item_info(keyword_BDNL6)\n",
        "\n",
        "item_info_BDNL6\n",
        "\n",
        "row_numbers_str_6 = extract_row_numbers(item_info_BDNL6)\n",
        "row_numbers_str_6"
      ],
      "metadata": {
        "colab": {
          "base_uri": "https://localhost:8080/",
          "height": 105
        },
        "id": "pEI3r0P6ReNK",
        "outputId": "10074013-1dd9-4d5d-bc0c-9159d68b5f2b"
      },
      "execution_count": null,
      "outputs": [
        {
          "output_type": "execute_result",
          "data": {
            "text/plain": [
              "'2850, 2851, 2852, 2853, 2854, 2855, 2856, 2857, 2858, 2859, 2860, 2861, 2862, 2863, 2864, 2865, 2866, 2867, 2868, 2869, 2870, 2871, 2872, 2873, 2874, 2875, 2876, 2877, 2878, 2879, 2880, 2881, 2882, 2883, 2884, 2885, 2886, 2887, 2888, 2889, 2890, 2891, 2892, 2893, 2894, 2895, 2896, 2897, 2898, 2899, 2900, 2901, 2902, 2903, 2904, 2905, 2906, 2907, 2908, 2909, 2910, 2911, 2912, 2913, 2914, 2915, 2916, 2917, 2918, 2919, 2920, 2921, 2922, 2923, 2924, 2925, 2926, 2927, 2928, 2929, 2930, 2931, 2932, 2933, 2934, 2935, 2936, 2937, 2938, 2939, 2940, 2941, 2942, 2943, 2944, 2945, 2946, 2947, 2948, 2949, 2950, 2951, 2952, 2953, 2954, 2955, 2956, 2957, 2958, 2959, 2960, 2961, 2962, 2963, 2964, 2965, 2966, 2967, 2968, 2969'"
            ],
            "application/vnd.google.colaboratory.intrinsic+json": {
              "type": "string"
            }
          },
          "metadata": {},
          "execution_count": 21
        }
      ]
    },
    {
      "cell_type": "code",
      "source": [
        "pala_row_indices = [2895, 2896, 2897, 2898, 2899, 2900, 2901, 2902, 2903, 2904, 2905, 2906, 2907, 2908, 2909, # Guardian Knight Galero\n",
        "               2850, 2851, 2852, 2853, 2854, 2855, 2856, 2857, 2858, 2859, 2860, 2861, 2862, 2863, 2864, # Guardian Knight Armour\n",
        "               2955, 2956, 2957, 2958, 2959, 2960, 2961, 2962, 2963, 2964, 2965, 2966, 2967, 2968, 2969, # Guardian Knight Trousers\n",
        "               2865, 2866, 2867, 2868, 2869, 2870, 2871, 2872, 2873, 2874, 2875, 2876, 2877, 2878, 2879, # Guardian Knight Cuffs\n",
        "               2940, 2941, 2942, 2943, 2944, 2945, 2946, 2947, 2948, 2949, 2950, 2951, 2952, 2953, 2954, # Guardian Knight Shoes\n",
        "               2880, 2881, 2882, 2883, 2884, 2885, 2886, 2887, 2888, 2889, 2890, 2891, 2892, 2893, 2894, # Guardian Knight Flail\n",
        "               2910, 2911, 2912, 2913, 2914, 2915, 2916, 2917, 2918, 2919, 2920, 2921, 2922, 2923, 2924, # Guardian Knight Mace\n",
        "               2925, 2926, 2927, 2928, 2929, 2930, 2931, 2932, 2933, 2934, 2935, 2936, 2937, 2938, 2939] # Guardian Knight Shield\n",
        "\n",
        "# Select specific 15 rows from all columns using the defined indices\n",
        "pala_selected_rows = df.iloc[pala_row_indices, :]\n",
        "\n",
        "# Save the selected rows to a new CSV file\n",
        "pala_selected_rows.to_csv('/content/drive/MyDrive/Enhancement_data/Legends/BDN/Paladin.csv', index=False)"
      ],
      "metadata": {
        "id": "4zOFZa21V4Kd"
      },
      "execution_count": null,
      "outputs": []
    },
    {
      "cell_type": "markdown",
      "source": [
        "7. Elementalist/Elemental Lord Black Dragon Legend set"
      ],
      "metadata": {
        "id": "Q7J3qoL2V5gC"
      }
    },
    {
      "cell_type": "code",
      "source": [
        "keyword_BDNL7 = keyword_BDNL_ele  # Replace with the keyword you want to search for\n",
        "item_info_BDNL7 = get_item_info(keyword_BDNL7)\n",
        "\n",
        "item_info_BDNL7\n",
        "\n",
        "row_numbers_str_7 = extract_row_numbers(item_info_BDNL7)\n",
        "row_numbers_str_7"
      ],
      "metadata": {
        "id": "1_KZp3pNWAg8",
        "colab": {
          "base_uri": "https://localhost:8080/",
          "height": 122
        },
        "outputId": "e71dab4c-3e8d-49f2-b64f-68eca84b0cc2"
      },
      "execution_count": null,
      "outputs": [
        {
          "output_type": "execute_result",
          "data": {
            "text/plain": [
              "'4020, 4021, 4022, 4023, 4024, 4025, 4026, 4027, 4028, 4029, 4030, 4031, 4032, 4033, 4034, 4035, 4036, 4037, 4038, 4039, 4040, 4041, 4042, 4043, 4044, 4045, 4046, 4047, 4048, 4049, 4050, 4051, 4052, 4053, 4054, 4055, 4056, 4057, 4058, 4059, 4060, 4061, 4062, 4063, 4064, 4065, 4066, 4067, 4068, 4069, 4070, 4071, 4072, 4073, 4074, 4075, 4076, 4077, 4078, 4079, 4080, 4081, 4082, 4083, 4084, 4085, 4086, 4087, 4088, 4089, 4090, 4091, 4092, 4093, 4094, 4095, 4096, 4097, 4098, 4099, 4100, 4101, 4102, 4103, 4104, 4105, 4106, 4107, 4108, 4109, 4110, 4111, 4112, 4113, 4114, 4115, 4116, 4117, 4118, 4119, 4120, 4121, 4122, 4123, 4124, 4125, 4126, 4127, 4128, 4129, 4130, 4131, 4132, 4133, 4134, 4135, 4136, 4137, 4138, 4139, 4140, 4141, 4142, 4143, 4144, 4145, 4146, 4147, 4148, 4149, 4150, 4151, 4152, 4153, 4154'"
            ],
            "application/vnd.google.colaboratory.intrinsic+json": {
              "type": "string"
            }
          },
          "metadata": {},
          "execution_count": 23
        }
      ]
    },
    {
      "cell_type": "code",
      "source": [
        "ele_row_indices = [4110, 4111, 4112, 4113, 4114, 4115, 4116, 4117, 4118, 4119, 4120, 4121, 4122, 4123, 4124, # Terminator Tiara\n",
        "               4065, 4066, 4067, 4068, 4069, 4070, 4071, 4072, 4073, 4074, 4075, 4076, 4077, 4078, 4079, # Terminator Robe\n",
        "               4125, 4126, 4127, 4128, 4129, 4130, 4131, 4132, 4133, 4134, 4135, 4136, 4137, 4138, 4139, # Terminator Tights\n",
        "               4035, 4036, 4037, 4038, 4039, 4040, 4041, 4042, 4043, 4044, 4045, 4046, 4047, 4048, 4049, # Terminator Muff\n",
        "               4020, 4021, 4022, 4023, 4024, 4025, 4026, 4027, 4028, 4029, 4030, 4031, 4032, 4033, 4034, # Terminator Heels\n",
        "               4095, 4096, 4097, 4098, 4099, 4100, 4101, 4102, 4103, 4104, 4105, 4106, 4107, 4108, 4109, # Terminator Staff\n",
        "               4050, 4051, 4052, 4053, 4054, 4055, 4056, 4057, 4058, 4059, 4060, 4061, 4062, 4063, 4064, # Terminator Orb\n",
        "               4080, 4081, 4082, 4083, 4084, 4085, 4086, 4087, 4088, 4089, 4090, 4091, 4092, 4093, 4094, # Terminator Spellbook\n",
        "               4140, 4141, 4142, 4143, 4144, 4145, 4146, 4147, 4148, 4149, 4150, 4151, 4152, 4153, 4154] # Terminator Voodoo Doll\n",
        "\n",
        "# Select specific 15 rows from all columns using the defined indices\n",
        "ele_selected_rows = df.iloc[ele_row_indices, :]\n",
        "\n",
        "# Save the selected rows to a new CSV file\n",
        "ele_selected_rows.to_csv('/content/drive/MyDrive/Enhancement_data/Legends/BDN/Elementalist.csv', index=False)"
      ],
      "metadata": {
        "id": "T-uuPu2gWFqk"
      },
      "execution_count": null,
      "outputs": []
    },
    {
      "cell_type": "markdown",
      "source": [
        "8. Force User Black Dragon Legend set"
      ],
      "metadata": {
        "id": "iz5Klff5WBd6"
      }
    },
    {
      "cell_type": "code",
      "source": [
        "keyword_BDNL8 = keyword_BDNL_bt  # Replace with the keyword you want to search for\n",
        "item_info_BDNL8 = get_item_info(keyword_BDNL8)\n",
        "\n",
        "item_info_BDNL8\n",
        "\n",
        "row_numbers_str_8 = extract_row_numbers(item_info_BDNL8)\n",
        "row_numbers_str_8"
      ],
      "metadata": {
        "id": "ITopmeNIWFU9",
        "colab": {
          "base_uri": "https://localhost:8080/",
          "height": 122
        },
        "outputId": "051532b2-f37e-4f0f-f8fe-923f217d043d"
      },
      "execution_count": null,
      "outputs": [
        {
          "output_type": "execute_result",
          "data": {
            "text/plain": [
              "'2265, 2266, 2267, 2268, 2269, 2270, 2271, 2272, 2273, 2274, 2275, 2276, 2277, 2278, 2279, 2280, 2281, 2282, 2283, 2284, 2285, 2286, 2287, 2288, 2289, 2290, 2291, 2292, 2293, 2294, 2295, 2296, 2297, 2298, 2299, 2300, 2301, 2302, 2303, 2304, 2305, 2306, 2307, 2308, 2309, 2310, 2311, 2312, 2313, 2314, 2315, 2316, 2317, 2318, 2319, 2320, 2321, 2322, 2323, 2324, 2325, 2326, 2327, 2328, 2329, 2330, 2331, 2332, 2333, 2334, 2335, 2336, 2337, 2338, 2339, 2340, 2341, 2342, 2343, 2344, 2345, 2346, 2347, 2348, 2349, 2350, 2351, 2352, 2353, 2354, 2355, 2356, 2357, 2358, 2359, 2360, 2361, 2362, 2363, 2364, 2365, 2366, 2367, 2368, 2369, 2370, 2371, 2372, 2373, 2374, 2375, 2376, 2377, 2378, 2379, 2380, 2381, 2382, 2383, 2384, 2385, 2386, 2387, 2388, 2389, 2390, 2391, 2392, 2393, 2394, 2395, 2396, 2397, 2398, 2399'"
            ],
            "application/vnd.google.colaboratory.intrinsic+json": {
              "type": "string"
            }
          },
          "metadata": {},
          "execution_count": 25
        }
      ]
    },
    {
      "cell_type": "code",
      "source": [
        "bt_row_indices = [2355, 2356, 2357, 2358, 2359, 2360, 2361, 2362, 2363, 2364, 2365, 2366, 2367, 2368, 2369, # Contractor Tiara\n",
        "               2310, 2311, 2312, 2313, 2314, 2315, 2316, 2317, 2318, 2319, 2320, 2321, 2322, 2323, 2324, # Contractor Robe\n",
        "               2370, 2371, 2372, 2373, 2374, 2375, 2376, 2377, 2378, 2379, 2380, 2381, 2382, 2383, 2384, # Contractor Tights\n",
        "               2280, 2281, 2282, 2283, 2284, 2285, 2286, 2287, 2288, 2289, 2290, 2291, 2292, 2293, 2294, # Contractor Muff\n",
        "               2265, 2266, 2267, 2268, 2269, 2270, 2271, 2272, 2273, 2274, 2275, 2276, 2277, 2278, 2279, # Contractor Heels\n",
        "               2340, 2341, 2342, 2343, 2344, 2345, 2346, 2347, 2348, 2349, 2350, 2351, 2352, 2353, 2354, # Contractor Staff\n",
        "               2295, 2296, 2297, 2298, 2299, 2300, 2301, 2302, 2303, 2304, 2305, 2306, 2307, 2308, 2309, # Contractor Orb\n",
        "               2325, 2326, 2327, 2328, 2329, 2330, 2331, 2332, 2333, 2334, 2335, 2336, 2337, 2338, 2339, # Contractor Spellbook\n",
        "               2385, 2386, 2387, 2388, 2389, 2390, 2391, 2392, 2393, 2394, 2395, 2396, 2397, 2398, 2399] # Contractor Voodoo Doll\n",
        "\n",
        "# Select specific 15 rows from all columns using the defined indices\n",
        "bt_selected_rows = df.iloc[bt_row_indices, :]\n",
        "\n",
        "# Save the selected rows to a new CSV file\n",
        "bt_selected_rows.to_csv('/content/drive/MyDrive/Enhancement_data/Legends/BDN/ForceUser.csv', index=False)"
      ],
      "metadata": {
        "id": "a6MhNCFTvCwK"
      },
      "execution_count": null,
      "outputs": []
    },
    {
      "cell_type": "markdown",
      "source": [
        "9. Alchemist Black Dragon Legend set"
      ],
      "metadata": {
        "id": "IISIf8g0Dx1s"
      }
    },
    {
      "cell_type": "code",
      "source": [
        "keyword_BDNL9 = keyword_BDNL_slime  # Replace with the keyword you want to search for\n",
        "item_info_BDNL9 = get_item_info(keyword_BDNL9)\n",
        "\n",
        "item_info_BDNL9\n",
        "\n",
        "row_numbers_str_9 = extract_row_numbers(item_info_BDNL9)\n",
        "row_numbers_str_9"
      ],
      "metadata": {
        "colab": {
          "base_uri": "https://localhost:8080/",
          "height": 105
        },
        "id": "Ucb_EvcGEg-4",
        "outputId": "39d9b131-fd73-425a-b2a8-69b312d1cb58"
      },
      "execution_count": null,
      "outputs": [
        {
          "output_type": "execute_result",
          "data": {
            "text/plain": [
              "'2130, 2131, 2132, 2133, 2134, 2135, 2136, 2137, 2138, 2139, 2140, 2141, 2142, 2143, 2144, 2145, 2146, 2147, 2148, 2149, 2150, 2151, 2152, 2153, 2154, 2155, 2156, 2157, 2158, 2159, 2160, 2161, 2162, 2163, 2164, 2165, 2166, 2167, 2168, 2169, 2170, 2171, 2172, 2173, 2174, 2175, 2176, 2177, 2178, 2179, 2180, 2181, 2182, 2183, 2184, 2185, 2186, 2187, 2188, 2189, 2190, 2191, 2192, 2193, 2194, 2195, 2196, 2197, 2198, 2199, 2200, 2201, 2202, 2203, 2204, 2205, 2206, 2207, 2208, 2209, 2210, 2211, 2212, 2213, 2214, 2215, 2216, 2217, 2218, 2219, 2220, 2221, 2222, 2223, 2224, 2225, 2226, 2227, 2228, 2229, 2230, 2231, 2232, 2233, 2234'"
            ],
            "application/vnd.google.colaboratory.intrinsic+json": {
              "type": "string"
            }
          },
          "metadata": {},
          "execution_count": 27
        }
      ]
    },
    {
      "cell_type": "code",
      "source": [
        "slime_row_indices = [2130, 2131, 2132, 2133, 2134, 2135, 2136, 2137, 2138, 2139, 2140, 2141, 2142, 2143, 2144, # Changer Beret\n",
        "               2220, 2221, 2222, 2223, 2224, 2225, 2226, 2227, 2228, 2229, 2230, 2231, 2232, 2233, 2234, # Changer Tunic\n",
        "               2205, 2206, 2207, 2208, 2209, 2210, 2211, 2212, 2213, 2214, 2215, 2216, 2217, 2218, 2219, # Changer Slacks\n",
        "               2175, 2176, 2177, 2178, 2179, 2180, 2181, 2182, 2183, 2184, 2185, 2186, 2187, 2188, 2189, # Changer Power Mitten\n",
        "               2190, 2191, 2192, 2193, 2194, 2195, 2196, 2197, 2198, 2199, 2200, 2201, 2202, 2203, 2204, # Changer Round Shoes\n",
        "               2145, 2146, 2147, 2148, 2149, 2150, 2151, 2152, 2153, 2154, 2155, 2156, 2157, 2158, 2159, # Changer Bubble Gun\n",
        "               2160, 2161, 2162, 2163, 2164, 2165, 2166, 2167, 2168, 2169, 2170, 2171, 2172, 2173, 2174] # Changer Mecha Glove\n",
        "\n",
        "# Select specific 15 rows from all columns using the defined indices\n",
        "slime_selected_rows = df.iloc[slime_row_indices, :]\n",
        "\n",
        "# Save the selected rows to a new CSV file\n",
        "slime_selected_rows.to_csv('/content/drive/MyDrive/Enhancement_data/Legends/BDN/Alchemist.csv', index=False)"
      ],
      "metadata": {
        "id": "c_rDmA1WEg3i"
      },
      "execution_count": null,
      "outputs": []
    },
    {
      "cell_type": "markdown",
      "source": [
        "10. Engineer Black Dragon Legend set"
      ],
      "metadata": {
        "id": "Sx0V3FkRD55b"
      }
    },
    {
      "cell_type": "code",
      "source": [
        "keyword_BDNL10 = keyword_BDNL_duck  # Replace with the keyword you want to search for\n",
        "item_info_BDNL10 = get_item_info(keyword_BDNL10)\n",
        "\n",
        "item_info_BDNL10\n",
        "\n",
        "row_numbers_str_10 = extract_row_numbers(item_info_BDNL10)\n",
        "row_numbers_str_10"
      ],
      "metadata": {
        "id": "EO2okzwMEhsY",
        "colab": {
          "base_uri": "https://localhost:8080/",
          "height": 105
        },
        "outputId": "218bd8cc-4156-4cf9-c81f-bbf74f6d8660"
      },
      "execution_count": null,
      "outputs": [
        {
          "output_type": "execute_result",
          "data": {
            "text/plain": [
              "'2400, 2401, 2402, 2403, 2404, 2405, 2406, 2407, 2408, 2409, 2410, 2411, 2412, 2413, 2414, 2415, 2416, 2417, 2418, 2419, 2420, 2421, 2422, 2423, 2424, 2425, 2426, 2427, 2428, 2429, 2430, 2431, 2432, 2433, 2434, 2435, 2436, 2437, 2438, 2439, 2440, 2441, 2442, 2443, 2444, 2445, 2446, 2447, 2448, 2449, 2450, 2451, 2452, 2453, 2454, 2455, 2456, 2457, 2458, 2459, 2460, 2461, 2462, 2463, 2464, 2465, 2466, 2467, 2468, 2469, 2470, 2471, 2472, 2473, 2474, 2475, 2476, 2477, 2478, 2479, 2480, 2481, 2482, 2483, 2484, 2485, 2486, 2487, 2488, 2489, 2490, 2491, 2492, 2493, 2494, 2495, 2496, 2497, 2498, 2499, 2500, 2501, 2502, 2503, 2504'"
            ],
            "application/vnd.google.colaboratory.intrinsic+json": {
              "type": "string"
            }
          },
          "metadata": {},
          "execution_count": 29
        }
      ]
    },
    {
      "cell_type": "code",
      "source": [
        "duck_row_indices = [2400, 2401, 2402, 2403, 2404, 2405, 2406, 2407, 2408, 2409, 2410, 2411, 2412, 2413, 2414, # Coordinator Beret\n",
        "               2490, 2491, 2492, 2493, 2494, 2495, 2496, 2497, 2498, 2499, 2500, 2501, 2502, 2503, 2504, # Coordinator Tunic\n",
        "               2475, 2476, 2477, 2478, 2479, 2480, 2481, 2482, 2483, 2484, 2485, 2486, 2487, 2488, 2489, # Coordinator Slacks\n",
        "               2445, 2446, 2447, 2448, 2449, 2450, 2451, 2452, 2453, 2454, 2455, 2456, 2457, 2458, 2459, # Coordinator Power Mitten\n",
        "               2460, 2461, 2462, 2463, 2464, 2465, 2466, 2467, 2468, 2469, 2470, 2471, 2472, 2473, 2474, # Coordinator Round Shoes\n",
        "               2415, 2416, 2417, 2418, 2419, 2420, 2421, 2422, 2423, 2424, 2425, 2426, 2427, 2428, 2429, # Coordinator Cannon\n",
        "               2430, 2431, 2432, 2433, 2434, 2435, 2436, 2437, 2438, 2439, 2440, 2441, 2442, 2443, 2444] # Coordinator Mecha Glove\n",
        "\n",
        "# Select specific 15 rows from all columns using the defined indices\n",
        "duck_selected_rows = df.iloc[duck_row_indices, :]\n",
        "\n",
        "# Save the selected rows to a new CSV file\n",
        "duck_selected_rows.to_csv('/content/drive/MyDrive/Enhancement_data/Legends/BDN/Engineer.csv', index=False)"
      ],
      "metadata": {
        "id": "itmu8EpZEhfz"
      },
      "execution_count": null,
      "outputs": []
    },
    {
      "cell_type": "markdown",
      "source": [
        "11. Screamer Black Dragon Legend set"
      ],
      "metadata": {
        "id": "aFWgO1XkD9J6"
      }
    },
    {
      "cell_type": "code",
      "source": [
        "keyword_BDNL11 = Keyword_BDNL_curse  # Replace with the keyword you want to search for\n",
        "item_info_BDNL11 = get_item_info(keyword_BDNL11)\n",
        "\n",
        "item_info_BDNL11\n",
        "\n",
        "row_numbers_str_11 = extract_row_numbers(item_info_BDNL11)\n",
        "row_numbers_str_11"
      ],
      "metadata": {
        "id": "uCm0XaX5EiRm",
        "colab": {
          "base_uri": "https://localhost:8080/",
          "height": 105
        },
        "outputId": "eb3995fc-cbe0-438a-92e6-881297f271ef"
      },
      "execution_count": null,
      "outputs": [
        {
          "output_type": "execute_result",
          "data": {
            "text/plain": [
              "'3855, 3856, 3857, 3858, 3859, 3860, 3861, 3862, 3863, 3864, 3865, 3866, 3867, 3868, 3869, 3870, 3871, 3872, 3873, 3874, 3875, 3876, 3877, 3878, 3879, 3880, 3881, 3882, 3883, 3884, 3885, 3886, 3887, 3888, 3889, 3890, 3891, 3892, 3893, 3894, 3895, 3896, 3897, 3898, 3899, 3900, 3901, 3902, 3903, 3904, 3905, 3906, 3907, 3908, 3909, 3910, 3911, 3912, 3913, 3914, 3915, 3916, 3917, 3918, 3919, 3920, 3921, 3922, 3923, 3924, 3925, 3926, 3927, 3928, 3929, 3930, 3931, 3932, 3933, 3934, 3935, 3936, 3937, 3938, 3939, 3940, 3941, 3942, 3943, 3944, 3945, 3946, 3947, 3948, 3949, 3950, 3951, 3952, 3953, 3954, 3955, 3956, 3957, 3958, 3959'"
            ],
            "application/vnd.google.colaboratory.intrinsic+json": {
              "type": "string"
            }
          },
          "metadata": {},
          "execution_count": 31
        }
      ]
    },
    {
      "cell_type": "code",
      "source": [
        "curse_row_indices = [3915, 3916, 3917, 3918, 3919, 3920, 3921, 3922, 3923, 3924, 3925, 3926, 3927, 3928, 3929, # Soul Handler Orni\n",
        "               3870, 3871, 3872, 3873, 3874, 3875, 3876, 3877, 3878, 3879, 3880, 3881, 3882, 3883, 3884, # Soul Handler Chori\n",
        "               3945, 3946, 3947, 3948, 3949, 3950, 3951, 3952, 3953, 3954, 3955, 3956, 3957, 3958, 3959, # Soul Handler Salwar\n",
        "               3930, 3931, 3932, 3933, 3934, 3935, 3936, 3937, 3938, 3939, 3940, 3941, 3942, 3943, 3944, # Soul Handler Rakki\n",
        "               3900, 3901, 3902, 3903, 3904, 3905, 3906, 3907, 3908, 3909, 3910, 3911, 3912, 3913, 3914, # Soul Handler Jutti\n",
        "               3885, 3886, 3887, 3888, 3889, 3890, 3891, 3892, 3893, 3894, 3895, 3896, 3897, 3898, 3899, # Soul Handler Fan\n",
        "               3855, 3856, 3857, 3858, 3859, 3860, 3861, 3862, 3863, 3864, 3865, 3866, 3867, 3868, 3869] # Soul Handler Charm\n",
        "\n",
        "# Select specific 15 rows from all columns using the defined indices\n",
        "curse_selected_rows = df.iloc[curse_row_indices, :]\n",
        "\n",
        "# Save the selected rows to a new CSV file\n",
        "curse_selected_rows.to_csv('/content/drive/MyDrive/Enhancement_data/Legends/BDN/Screamer.csv', index=False)"
      ],
      "metadata": {
        "id": "jARt8SCVEiJL"
      },
      "execution_count": null,
      "outputs": []
    },
    {
      "cell_type": "markdown",
      "source": [
        "12. Dancer Black Dragon Legend set"
      ],
      "metadata": {
        "id": "GAMZTaqVECV7"
      }
    },
    {
      "cell_type": "code",
      "source": [
        "keyword_BDNL12 = keyword_BDNL_dance  # Replace with the keyword you want to search for\n",
        "item_info_BDNL12 = get_item_info(keyword_BDNL12)\n",
        "\n",
        "item_info_BDNL12\n",
        "\n",
        "row_numbers_str_12 = extract_row_numbers(item_info_BDNL12)\n",
        "row_numbers_str_12"
      ],
      "metadata": {
        "id": "xlUZ_XjWEi4V",
        "colab": {
          "base_uri": "https://localhost:8080/",
          "height": 105
        },
        "outputId": "adbabe65-ef13-48ea-ba0f-2bae4e2540a1"
      },
      "execution_count": null,
      "outputs": [
        {
          "output_type": "execute_result",
          "data": {
            "text/plain": [
              "'2550, 2551, 2552, 2553, 2554, 2555, 2556, 2557, 2558, 2559, 2560, 2561, 2562, 2563, 2564, 2565, 2566, 2567, 2568, 2569, 2570, 2571, 2572, 2573, 2574, 2575, 2576, 2577, 2578, 2579, 2580, 2581, 2582, 2583, 2584, 2585, 2586, 2587, 2588, 2589, 2590, 2591, 2592, 2593, 2594, 2595, 2596, 2597, 2598, 2599, 2600, 2601, 2602, 2603, 2604, 2605, 2606, 2607, 2608, 2609, 2610, 2611, 2612, 2613, 2614, 2615, 2616, 2617, 2618, 2619, 2620, 2621, 2622, 2623, 2624, 2625, 2626, 2627, 2628, 2629, 2630, 2631, 2632, 2633, 2634, 2635, 2636, 2637, 2638, 2639, 2640, 2641, 2642, 2643, 2644, 2645, 2646, 2647, 2648, 2649, 2650, 2651, 2652, 2653, 2654'"
            ],
            "application/vnd.google.colaboratory.intrinsic+json": {
              "type": "string"
            }
          },
          "metadata": {},
          "execution_count": 33
        }
      ]
    },
    {
      "cell_type": "code",
      "source": [
        "dance_row_indices = [2610, 2611, 2612, 2613, 2614, 2615, 2616, 2617, 2618, 2619, 2620, 2621, 2622, 2623, 2624, # Dancer Orni\n",
        "               2580, 2581, 2582, 2583, 2584, 2585, 2586, 2587, 2588, 2589, 2590, 2591, 2592, 2593, 2594, # Dancer Chori\n",
        "               2640, 2641, 2642, 2643, 2644, 2645, 2646, 2647, 2648, 2649, 2650, 2651, 2652, 2653, 2654, # Dancer Salwar\n",
        "               2625, 2626, 2627, 2628, 2629, 2630, 2631, 2632, 2633, 2634, 2635, 2636, 2637, 2638, 2639, # Dancer Rakki\n",
        "               2595, 2596, 2597, 2598, 2599, 2600, 2601, 2602, 2603, 2604, 2605, 2606, 2607, 2608, 2609, # Dancer Jutti\n",
        "               2550, 2551, 2552, 2553, 2554, 2555, 2556, 2557, 2558, 2559, 2560, 2561, 2562, 2563, 2564, # Dancer Chakram\n",
        "               2565, 2566, 2567, 2568, 2569, 2570, 2571, 2572, 2573, 2574, 2575, 2576, 2577, 2578, 2579,] # Dancer Charm\n",
        "\n",
        "# Select specific 15 rows from all columns using the defined indices\n",
        "dance_selected_rows = df.iloc[dance_row_indices, :]\n",
        "\n",
        "# Save the selected rows to a new CSV file\n",
        "dance_selected_rows.to_csv('/content/drive/MyDrive/Enhancement_data/Legends/BDN/Dancer.csv', index=False)"
      ],
      "metadata": {
        "id": "M5cJCWwNEivY"
      },
      "execution_count": null,
      "outputs": []
    },
    {
      "cell_type": "markdown",
      "source": [
        "13. Chaser Black Dragon Legend set"
      ],
      "metadata": {
        "id": "fdRrwg1KEINW"
      }
    },
    {
      "cell_type": "code",
      "source": [
        "keyword_BDNL13 = keyword_BDNL_crow  # Replace with the keyword you want to search for\n",
        "item_info_BDNL13 = get_item_info(keyword_BDNL13)\n",
        "\n",
        "item_info_BDNL13\n",
        "\n",
        "row_numbers_str_13 = extract_row_numbers(item_info_BDNL13)\n",
        "row_numbers_str_13"
      ],
      "metadata": {
        "id": "gRt-Ba9oEjZW",
        "colab": {
          "base_uri": "https://localhost:8080/",
          "height": 105
        },
        "outputId": "9aed77be-1ad4-4cfe-f027-6b63a49ccc25"
      },
      "execution_count": null,
      "outputs": [
        {
          "output_type": "execute_result",
          "data": {
            "text/plain": [
              "'3750, 3751, 3752, 3753, 3754, 3755, 3756, 3757, 3758, 3759, 3760, 3761, 3762, 3763, 3764, 3765, 3766, 3767, 3768, 3769, 3770, 3771, 3772, 3773, 3774, 3775, 3776, 3777, 3778, 3779, 3780, 3781, 3782, 3783, 3784, 3785, 3786, 3787, 3788, 3789, 3790, 3791, 3792, 3793, 3794, 3795, 3796, 3797, 3798, 3799, 3800, 3801, 3802, 3803, 3804, 3805, 3806, 3807, 3808, 3809, 3810, 3811, 3812, 3813, 3814, 3815, 3816, 3817, 3818, 3819, 3820, 3821, 3822, 3823, 3824, 3825, 3826, 3827, 3828, 3829, 3830, 3831, 3832, 3833, 3834, 3835, 3836, 3837, 3838, 3839, 3840, 3841, 3842, 3843, 3844, 3845, 3846, 3847, 3848, 3849, 3850, 3851, 3852, 3853, 3854'"
            ],
            "application/vnd.google.colaboratory.intrinsic+json": {
              "type": "string"
            }
          },
          "metadata": {},
          "execution_count": 35
        }
      ]
    },
    {
      "cell_type": "code",
      "source": [
        "crow_row_indices = [3780, 3781, 3782, 3783, 3784, 3785, 3786, 3787, 3788, 3789, 3790, 3791, 3792, 3793, 3794, # Slaughter Mask\n",
        "               3825, 3826, 3827, 3828, 3829, 3830, 3831, 3832, 3833, 3834, 3835, 3836, 3837, 3838, 3839, # Slaughter Vest\n",
        "               3765, 3766, 3767, 3768, 3769, 3770, 3771, 3772, 3773, 3774, 3775, 3776, 3777, 3778, 3779, # Slaughter Greaves\n",
        "               3840, 3841, 3842, 3843, 3844, 3845, 3846, 3847, 3848, 3849, 3850, 3851, 3852, 3853, 3854, # Slaughter Wrist Guards\n",
        "               3795, 3796, 3797, 3798, 3799, 3800, 3801, 3802, 3803, 3804, 3805, 3806, 3807, 3808, 3809, # Slaughter Sandals\n",
        "               3810, 3811, 3812, 3813, 3814, 3815, 3816, 3817, 3818, 3819, 3820, 3821, 3822, 3823, 3824, # Slaughter Scimitar\n",
        "               3750, 3751, 3752, 3753, 3754, 3755, 3756, 3757, 3758, 3759, 3760, 3761, 3762, 3763, 3764] # Slaughter Arm Blade\n",
        "\n",
        "# Select specific 15 rows from all columns using the defined indices\n",
        "crow_selected_rows = df.iloc[crow_row_indices, :]\n",
        "\n",
        "# Save the selected rows to a new CSV file\n",
        "crow_selected_rows.to_csv('/content/drive/MyDrive/Enhancement_data/Legends/BDN/Chaser.csv', index=False)"
      ],
      "metadata": {
        "id": "vI-XtCwhEjRb"
      },
      "execution_count": null,
      "outputs": []
    },
    {
      "cell_type": "markdown",
      "source": [
        "14. Bringer Black Dragon Legend set"
      ],
      "metadata": {
        "id": "EgkiMuLEEOFv"
      }
    },
    {
      "cell_type": "code",
      "source": [
        "keyword_BDNL14 = keyword_BDNL_medi  # Replace with the keyword you want to search for\n",
        "item_info_BDNL14 = get_item_info(keyword_BDNL14)\n",
        "\n",
        "item_info_BDNL14\n",
        "\n",
        "row_numbers_str_14 = extract_row_numbers(item_info_BDNL14)\n",
        "row_numbers_str_14"
      ],
      "metadata": {
        "id": "N8-Lt5scEj2R",
        "colab": {
          "base_uri": "https://localhost:8080/",
          "height": 105
        },
        "outputId": "7f7be833-3f4a-4c49-a5b4-249840852176"
      },
      "execution_count": null,
      "outputs": [
        {
          "output_type": "execute_result",
          "data": {
            "text/plain": [
              "'3255, 3256, 3257, 3258, 3259, 3260, 3261, 3262, 3263, 3264, 3265, 3266, 3267, 3268, 3269, 3270, 3271, 3272, 3273, 3274, 3275, 3276, 3277, 3278, 3279, 3280, 3281, 3282, 3283, 3284, 3285, 3286, 3287, 3288, 3289, 3290, 3291, 3292, 3293, 3294, 3295, 3296, 3297, 3298, 3299, 3300, 3301, 3302, 3303, 3304, 3305, 3306, 3307, 3308, 3309, 3310, 3311, 3312, 3313, 3314, 3315, 3316, 3317, 3318, 3319, 3320, 3321, 3322, 3323, 3324, 3325, 3326, 3327, 3328, 3329, 3330, 3331, 3332, 3333, 3334, 3335, 3336, 3337, 3338, 3339, 3340, 3341, 3342, 3343, 3344, 3345, 3346, 3347, 3348, 3349, 3350, 3351, 3352, 3353, 3354, 3355, 3356, 3357, 3358, 3359'"
            ],
            "application/vnd.google.colaboratory.intrinsic+json": {
              "type": "string"
            }
          },
          "metadata": {},
          "execution_count": 37
        }
      ]
    },
    {
      "cell_type": "code",
      "source": [
        "medi_row_indices = [3300, 3301, 3302, 3303, 3304, 3305, 3306, 3307, 3308, 3309, 3310, 3311, 3312, 3313, 3314, # Meditation Mask\n",
        "               3330, 3331, 3332, 3333, 3334, 3335, 3336, 3337, 3338, 3339, 3340, 3341, 3342, 3343, 3344, # Meditation Vest\n",
        "               3285, 3286, 3287, 3288, 3289, 3290, 3291, 3292, 3293, 3294, 3295, 3296, 3297, 3298, 3299, # Meditation Greaves\n",
        "               3345, 3346, 3347, 3348, 3349, 3350, 3351, 3352, 3353, 3354, 3355, 3356, 3357, 3358, 3359, # Meditation Wrist Guards\n",
        "               3315, 3316, 3317, 3318, 3319, 3320, 3321, 3322, 3323, 3324, 3325, 3326, 3327, 3328, 3329, # Meditation Sandals\n",
        "               3270, 3271, 3272, 3273, 3274, 3275, 3276, 3277, 3278, 3279, 3280, 3281, 3282, 3283, 3284, # Meditation Dagger\n",
        "               3255, 3256, 3257, 3258, 3259, 3260, 3261, 3262, 3263, 3264, 3265, 3266, 3267, 3268, 3269] # Meditation Arm Blade\n",
        "\n",
        "# Select specific 15 rows from all columns using the defined indices\n",
        "medi_selected_rows = df.iloc[medi_row_indices, :]\n",
        "\n",
        "# Save the selected rows to a new CSV file\n",
        "medi_selected_rows.to_csv('/content/drive/MyDrive/Enhancement_data/Legends/BDN/Bringer.csv', index=False)"
      ],
      "metadata": {
        "id": "Bq-Hj1WvEjvt"
      },
      "execution_count": null,
      "outputs": []
    },
    {
      "cell_type": "markdown",
      "source": [
        "15. Dragoon/Piercer Black Dragon Legend set"
      ],
      "metadata": {
        "id": "9mM6vXoNERpU"
      }
    },
    {
      "cell_type": "code",
      "source": [
        "keyword_BDNL15 = keyword_BDNL_spin  # Replace with the keyword you want to search for\n",
        "item_info_BDNL15 = get_item_info(keyword_BDNL15)\n",
        "\n",
        "item_info_BDNL15\n",
        "\n",
        "row_numbers_str_15 = extract_row_numbers(item_info_BDNL15)\n",
        "row_numbers_str_15"
      ],
      "metadata": {
        "id": "uoULO8XIEkP5",
        "colab": {
          "base_uri": "https://localhost:8080/",
          "height": 105
        },
        "outputId": "5a5deee4-7fc3-4c38-a5a4-ac1aaa449947"
      },
      "execution_count": null,
      "outputs": [
        {
          "output_type": "execute_result",
          "data": {
            "text/plain": [
              "'4455, 4456, 4457, 4458, 4459, 4460, 4461, 4462, 4463, 4464, 4465, 4466, 4467, 4468, 4469, 4470, 4471, 4472, 4473, 4474, 4475, 4476, 4477, 4478, 4479, 4480, 4481, 4482, 4483, 4484, 4485, 4486, 4487, 4488, 4489, 4490, 4491, 4492, 4493, 4494, 4495, 4496, 4497, 4498, 4499, 4500, 4501, 4502, 4503, 4504, 4505, 4506, 4507, 4508, 4509, 4510, 4511, 4512, 4513, 4514, 4515, 4516, 4517, 4518, 4519, 4520, 4521, 4522, 4523, 4524, 4525, 4526, 4527, 4528, 4529, 4530, 4531, 4532, 4533, 4534, 4535, 4536, 4537, 4538, 4539, 4540, 4541, 4542, 4543, 4544, 4545, 4546, 4547, 4548, 4549, 4550, 4551, 4552, 4553, 4554, 4555, 4556, 4557, 4558, 4559'"
            ],
            "application/vnd.google.colaboratory.intrinsic+json": {
              "type": "string"
            }
          },
          "metadata": {},
          "execution_count": 39
        }
      ]
    },
    {
      "cell_type": "code",
      "source": [
        "spin_row_indices = [4470, 4471, 4472, 4473, 4474, 4475, 4476, 4477, 4478, 4479, 4480, 4481, 4482, 4483, 4484, # Victoria Bonnet\n",
        "               4455, 4456, 4457, 4458, 4459, 4460, 4461, 4462, 4463, 4464, 4465, 4466, 4467, 4468, 4469, # Victoria Blouse\n",
        "               4515, 4516, 4517, 4518, 4519, 4520, 4521, 4522, 4523, 4524, 4525, 4526, 4527, 4528, 4529, # Victoria Knee Socks\n",
        "               4500, 4501, 4502, 4503, 4504, 4505, 4506, 4507, 4508, 4509, 4510, 4511, 4512, 4513, 4514, # Victoria Gloves\n",
        "               4530, 4531, 4532, 4533, 4534, 4535, 4536, 4537, 4538, 4539, 4540, 4541, 4542, 4543, 4544, # Victoria Sandals\n",
        "               4545, 4546, 4547, 4548, 4549, 4550, 4551, 4552, 4553, 4554, 4555, 4556, 4557, 4558, 4559, # Victoria Spear\n",
        "               4485, 4486, 4487, 4488, 4489, 4490, 4491, 4492, 4493, 4494, 4495, 4496, 4497, 4498, 4499,] # Victoria Bracelets\n",
        "\n",
        "# Select specific 15 rows from all columns using the defined indices\n",
        "spin_selected_rows = df.iloc[spin_row_indices, :]\n",
        "\n",
        "# Save the selected rows to a new CSV file\n",
        "spin_selected_rows.to_csv('/content/drive/MyDrive/Enhancement_data/Legends/BDN/Dragoon.csv', index=False)"
      ],
      "metadata": {
        "id": "QbJgfh1yFn15"
      },
      "execution_count": null,
      "outputs": []
    },
    {
      "cell_type": "markdown",
      "source": [
        "### Red Dragon Legends (Soon)"
      ],
      "metadata": {
        "id": "2ZZyABbA7xVD"
      }
    }
  ]
}