{
  "nbformat": 4,
  "nbformat_minor": 0,
  "metadata": {
    "colab": {
      "provenance": [],
      "authorship_tag": "ABX9TyNWcHyXjB+Pr6ODFVQxE5Ky",
      "include_colab_link": true
    },
    "kernelspec": {
      "name": "python3",
      "display_name": "Python 3"
    },
    "language_info": {
      "name": "python"
    }
  },
  "cells": [
    {
      "cell_type": "markdown",
      "metadata": {
        "id": "view-in-github",
        "colab_type": "text"
      },
      "source": [
        "<a href=\"https://colab.research.google.com/github/ICloudaxeI/DNO-Enhancement-Data/blob/Legends/Legends_SDN_Data.ipynb\" target=\"_parent\"><img src=\"https://colab.research.google.com/assets/colab-badge.svg\" alt=\"Open In Colab\"/></a>"
      ]
    },
    {
      "cell_type": "markdown",
      "source": [
        "#  Importing libaries for the data"
      ],
      "metadata": {
        "id": "bApqvpqZGFeg"
      }
    },
    {
      "cell_type": "code",
      "source": [
        "import csv\n",
        "import pandas as pd\n",
        "\n",
        "from google.colab import drive"
      ],
      "metadata": {
        "id": "5ZIgKjqXGOLb"
      },
      "execution_count": 1,
      "outputs": []
    },
    {
      "cell_type": "markdown",
      "source": [
        "# Legends set\n",
        "\n",
        "Dragon nest have an end-game gear that is obtainable at every dragon raid hardcore difficulty. These End-game gears have additional stats the more you enhance it."
      ],
      "metadata": {
        "id": "quemZ8KtFl2U"
      }
    },
    {
      "cell_type": "markdown",
      "source": [
        "# Extracting L Grades data from the csv file"
      ],
      "metadata": {
        "id": "XNhY-Ia7F4Md"
      }
    },
    {
      "cell_type": "markdown",
      "source": [
        "Getting the saved csv file from the Google Drive Directory"
      ],
      "metadata": {
        "id": "ub2apd16F9Yu"
      }
    },
    {
      "cell_type": "code",
      "execution_count": 2,
      "metadata": {
        "colab": {
          "base_uri": "https://localhost:8080/",
          "height": 441
        },
        "id": "HIZxPdC_Fhcs",
        "outputId": "0de8cc26-3805-45dd-9a5c-3b88c2955e5a"
      },
      "outputs": [
        {
          "output_type": "stream",
          "name": "stdout",
          "text": [
            "Drive already mounted at /content/drive; to attempt to forcibly remount, call drive.mount(\"/content/drive\", force_remount=True).\n"
          ]
        },
        {
          "output_type": "execute_result",
          "data": {
            "text/plain": [
              "                            Item Name  EnchantLevel  EnchantRatio  BreakRatio  \\\n",
              "0             Ancient Totem Arm Blade             1         100.0         0.0   \n",
              "1             Ancient Totem Arm Blade             2         100.0         0.0   \n",
              "2             Ancient Totem Arm Blade             3         100.0         0.0   \n",
              "3             Ancient Totem Arm Blade             4         100.0         0.0   \n",
              "4             Ancient Totem Arm Blade             5         100.0         0.0   \n",
              "...                               ...           ...           ...         ...   \n",
              "23290  Twisted obsession Wrist Guards            11          25.0        25.0   \n",
              "23291  Twisted obsession Wrist Guards            12          20.0        25.0   \n",
              "23292  Twisted obsession Wrist Guards            13          15.0        25.0   \n",
              "23293  Twisted obsession Wrist Guards            14           5.0        25.0   \n",
              "23294  Twisted obsession Wrist Guards            15           1.0        25.0   \n",
              "\n",
              "       MinDowngrade  MaxDowngrade  Gold  \n",
              "0                 0             0     0  \n",
              "1                 0             0     0  \n",
              "2                 0             0     0  \n",
              "3                 0             0     1  \n",
              "4                 0             0     1  \n",
              "...             ...           ...   ...  \n",
              "23290             1             2     1  \n",
              "23291             1             2     2  \n",
              "23292             1             2     3  \n",
              "23293             1             2     5  \n",
              "23294             1             2     8  \n",
              "\n",
              "[23295 rows x 7 columns]"
            ],
            "text/html": [
              "\n",
              "  <div id=\"df-2b07d846-2402-4c75-8fd8-361fc246ca5a\" class=\"colab-df-container\">\n",
              "    <div>\n",
              "<style scoped>\n",
              "    .dataframe tbody tr th:only-of-type {\n",
              "        vertical-align: middle;\n",
              "    }\n",
              "\n",
              "    .dataframe tbody tr th {\n",
              "        vertical-align: top;\n",
              "    }\n",
              "\n",
              "    .dataframe thead th {\n",
              "        text-align: right;\n",
              "    }\n",
              "</style>\n",
              "<table border=\"1\" class=\"dataframe\">\n",
              "  <thead>\n",
              "    <tr style=\"text-align: right;\">\n",
              "      <th></th>\n",
              "      <th>Item Name</th>\n",
              "      <th>EnchantLevel</th>\n",
              "      <th>EnchantRatio</th>\n",
              "      <th>BreakRatio</th>\n",
              "      <th>MinDowngrade</th>\n",
              "      <th>MaxDowngrade</th>\n",
              "      <th>Gold</th>\n",
              "    </tr>\n",
              "  </thead>\n",
              "  <tbody>\n",
              "    <tr>\n",
              "      <th>0</th>\n",
              "      <td>Ancient Totem Arm Blade</td>\n",
              "      <td>1</td>\n",
              "      <td>100.0</td>\n",
              "      <td>0.0</td>\n",
              "      <td>0</td>\n",
              "      <td>0</td>\n",
              "      <td>0</td>\n",
              "    </tr>\n",
              "    <tr>\n",
              "      <th>1</th>\n",
              "      <td>Ancient Totem Arm Blade</td>\n",
              "      <td>2</td>\n",
              "      <td>100.0</td>\n",
              "      <td>0.0</td>\n",
              "      <td>0</td>\n",
              "      <td>0</td>\n",
              "      <td>0</td>\n",
              "    </tr>\n",
              "    <tr>\n",
              "      <th>2</th>\n",
              "      <td>Ancient Totem Arm Blade</td>\n",
              "      <td>3</td>\n",
              "      <td>100.0</td>\n",
              "      <td>0.0</td>\n",
              "      <td>0</td>\n",
              "      <td>0</td>\n",
              "      <td>0</td>\n",
              "    </tr>\n",
              "    <tr>\n",
              "      <th>3</th>\n",
              "      <td>Ancient Totem Arm Blade</td>\n",
              "      <td>4</td>\n",
              "      <td>100.0</td>\n",
              "      <td>0.0</td>\n",
              "      <td>0</td>\n",
              "      <td>0</td>\n",
              "      <td>1</td>\n",
              "    </tr>\n",
              "    <tr>\n",
              "      <th>4</th>\n",
              "      <td>Ancient Totem Arm Blade</td>\n",
              "      <td>5</td>\n",
              "      <td>100.0</td>\n",
              "      <td>0.0</td>\n",
              "      <td>0</td>\n",
              "      <td>0</td>\n",
              "      <td>1</td>\n",
              "    </tr>\n",
              "    <tr>\n",
              "      <th>...</th>\n",
              "      <td>...</td>\n",
              "      <td>...</td>\n",
              "      <td>...</td>\n",
              "      <td>...</td>\n",
              "      <td>...</td>\n",
              "      <td>...</td>\n",
              "      <td>...</td>\n",
              "    </tr>\n",
              "    <tr>\n",
              "      <th>23290</th>\n",
              "      <td>Twisted obsession Wrist Guards</td>\n",
              "      <td>11</td>\n",
              "      <td>25.0</td>\n",
              "      <td>25.0</td>\n",
              "      <td>1</td>\n",
              "      <td>2</td>\n",
              "      <td>1</td>\n",
              "    </tr>\n",
              "    <tr>\n",
              "      <th>23291</th>\n",
              "      <td>Twisted obsession Wrist Guards</td>\n",
              "      <td>12</td>\n",
              "      <td>20.0</td>\n",
              "      <td>25.0</td>\n",
              "      <td>1</td>\n",
              "      <td>2</td>\n",
              "      <td>2</td>\n",
              "    </tr>\n",
              "    <tr>\n",
              "      <th>23292</th>\n",
              "      <td>Twisted obsession Wrist Guards</td>\n",
              "      <td>13</td>\n",
              "      <td>15.0</td>\n",
              "      <td>25.0</td>\n",
              "      <td>1</td>\n",
              "      <td>2</td>\n",
              "      <td>3</td>\n",
              "    </tr>\n",
              "    <tr>\n",
              "      <th>23293</th>\n",
              "      <td>Twisted obsession Wrist Guards</td>\n",
              "      <td>14</td>\n",
              "      <td>5.0</td>\n",
              "      <td>25.0</td>\n",
              "      <td>1</td>\n",
              "      <td>2</td>\n",
              "      <td>5</td>\n",
              "    </tr>\n",
              "    <tr>\n",
              "      <th>23294</th>\n",
              "      <td>Twisted obsession Wrist Guards</td>\n",
              "      <td>15</td>\n",
              "      <td>1.0</td>\n",
              "      <td>25.0</td>\n",
              "      <td>1</td>\n",
              "      <td>2</td>\n",
              "      <td>8</td>\n",
              "    </tr>\n",
              "  </tbody>\n",
              "</table>\n",
              "<p>23295 rows × 7 columns</p>\n",
              "</div>\n",
              "    <div class=\"colab-df-buttons\">\n",
              "\n",
              "  <div class=\"colab-df-container\">\n",
              "    <button class=\"colab-df-convert\" onclick=\"convertToInteractive('df-2b07d846-2402-4c75-8fd8-361fc246ca5a')\"\n",
              "            title=\"Convert this dataframe to an interactive table.\"\n",
              "            style=\"display:none;\">\n",
              "\n",
              "  <svg xmlns=\"http://www.w3.org/2000/svg\" height=\"24px\" viewBox=\"0 -960 960 960\">\n",
              "    <path d=\"M120-120v-720h720v720H120Zm60-500h600v-160H180v160Zm220 220h160v-160H400v160Zm0 220h160v-160H400v160ZM180-400h160v-160H180v160Zm440 0h160v-160H620v160ZM180-180h160v-160H180v160Zm440 0h160v-160H620v160Z\"/>\n",
              "  </svg>\n",
              "    </button>\n",
              "\n",
              "  <style>\n",
              "    .colab-df-container {\n",
              "      display:flex;\n",
              "      gap: 12px;\n",
              "    }\n",
              "\n",
              "    .colab-df-convert {\n",
              "      background-color: #E8F0FE;\n",
              "      border: none;\n",
              "      border-radius: 50%;\n",
              "      cursor: pointer;\n",
              "      display: none;\n",
              "      fill: #1967D2;\n",
              "      height: 32px;\n",
              "      padding: 0 0 0 0;\n",
              "      width: 32px;\n",
              "    }\n",
              "\n",
              "    .colab-df-convert:hover {\n",
              "      background-color: #E2EBFA;\n",
              "      box-shadow: 0px 1px 2px rgba(60, 64, 67, 0.3), 0px 1px 3px 1px rgba(60, 64, 67, 0.15);\n",
              "      fill: #174EA6;\n",
              "    }\n",
              "\n",
              "    .colab-df-buttons div {\n",
              "      margin-bottom: 4px;\n",
              "    }\n",
              "\n",
              "    [theme=dark] .colab-df-convert {\n",
              "      background-color: #3B4455;\n",
              "      fill: #D2E3FC;\n",
              "    }\n",
              "\n",
              "    [theme=dark] .colab-df-convert:hover {\n",
              "      background-color: #434B5C;\n",
              "      box-shadow: 0px 1px 3px 1px rgba(0, 0, 0, 0.15);\n",
              "      filter: drop-shadow(0px 1px 2px rgba(0, 0, 0, 0.3));\n",
              "      fill: #FFFFFF;\n",
              "    }\n",
              "  </style>\n",
              "\n",
              "    <script>\n",
              "      const buttonEl =\n",
              "        document.querySelector('#df-2b07d846-2402-4c75-8fd8-361fc246ca5a button.colab-df-convert');\n",
              "      buttonEl.style.display =\n",
              "        google.colab.kernel.accessAllowed ? 'block' : 'none';\n",
              "\n",
              "      async function convertToInteractive(key) {\n",
              "        const element = document.querySelector('#df-2b07d846-2402-4c75-8fd8-361fc246ca5a');\n",
              "        const dataTable =\n",
              "          await google.colab.kernel.invokeFunction('convertToInteractive',\n",
              "                                                    [key], {});\n",
              "        if (!dataTable) return;\n",
              "\n",
              "        const docLinkHtml = 'Like what you see? Visit the ' +\n",
              "          '<a target=\"_blank\" href=https://colab.research.google.com/notebooks/data_table.ipynb>data table notebook</a>'\n",
              "          + ' to learn more about interactive tables.';\n",
              "        element.innerHTML = '';\n",
              "        dataTable['output_type'] = 'display_data';\n",
              "        await google.colab.output.renderOutput(dataTable, element);\n",
              "        const docLink = document.createElement('div');\n",
              "        docLink.innerHTML = docLinkHtml;\n",
              "        element.appendChild(docLink);\n",
              "      }\n",
              "    </script>\n",
              "  </div>\n",
              "\n",
              "\n",
              "<div id=\"df-f71c6e2e-2f68-4e38-9425-faf5e6ff95d9\">\n",
              "  <button class=\"colab-df-quickchart\" onclick=\"quickchart('df-f71c6e2e-2f68-4e38-9425-faf5e6ff95d9')\"\n",
              "            title=\"Suggest charts\"\n",
              "            style=\"display:none;\">\n",
              "\n",
              "<svg xmlns=\"http://www.w3.org/2000/svg\" height=\"24px\"viewBox=\"0 0 24 24\"\n",
              "     width=\"24px\">\n",
              "    <g>\n",
              "        <path d=\"M19 3H5c-1.1 0-2 .9-2 2v14c0 1.1.9 2 2 2h14c1.1 0 2-.9 2-2V5c0-1.1-.9-2-2-2zM9 17H7v-7h2v7zm4 0h-2V7h2v10zm4 0h-2v-4h2v4z\"/>\n",
              "    </g>\n",
              "</svg>\n",
              "  </button>\n",
              "\n",
              "<style>\n",
              "  .colab-df-quickchart {\n",
              "      --bg-color: #E8F0FE;\n",
              "      --fill-color: #1967D2;\n",
              "      --hover-bg-color: #E2EBFA;\n",
              "      --hover-fill-color: #174EA6;\n",
              "      --disabled-fill-color: #AAA;\n",
              "      --disabled-bg-color: #DDD;\n",
              "  }\n",
              "\n",
              "  [theme=dark] .colab-df-quickchart {\n",
              "      --bg-color: #3B4455;\n",
              "      --fill-color: #D2E3FC;\n",
              "      --hover-bg-color: #434B5C;\n",
              "      --hover-fill-color: #FFFFFF;\n",
              "      --disabled-bg-color: #3B4455;\n",
              "      --disabled-fill-color: #666;\n",
              "  }\n",
              "\n",
              "  .colab-df-quickchart {\n",
              "    background-color: var(--bg-color);\n",
              "    border: none;\n",
              "    border-radius: 50%;\n",
              "    cursor: pointer;\n",
              "    display: none;\n",
              "    fill: var(--fill-color);\n",
              "    height: 32px;\n",
              "    padding: 0;\n",
              "    width: 32px;\n",
              "  }\n",
              "\n",
              "  .colab-df-quickchart:hover {\n",
              "    background-color: var(--hover-bg-color);\n",
              "    box-shadow: 0 1px 2px rgba(60, 64, 67, 0.3), 0 1px 3px 1px rgba(60, 64, 67, 0.15);\n",
              "    fill: var(--button-hover-fill-color);\n",
              "  }\n",
              "\n",
              "  .colab-df-quickchart-complete:disabled,\n",
              "  .colab-df-quickchart-complete:disabled:hover {\n",
              "    background-color: var(--disabled-bg-color);\n",
              "    fill: var(--disabled-fill-color);\n",
              "    box-shadow: none;\n",
              "  }\n",
              "\n",
              "  .colab-df-spinner {\n",
              "    border: 2px solid var(--fill-color);\n",
              "    border-color: transparent;\n",
              "    border-bottom-color: var(--fill-color);\n",
              "    animation:\n",
              "      spin 1s steps(1) infinite;\n",
              "  }\n",
              "\n",
              "  @keyframes spin {\n",
              "    0% {\n",
              "      border-color: transparent;\n",
              "      border-bottom-color: var(--fill-color);\n",
              "      border-left-color: var(--fill-color);\n",
              "    }\n",
              "    20% {\n",
              "      border-color: transparent;\n",
              "      border-left-color: var(--fill-color);\n",
              "      border-top-color: var(--fill-color);\n",
              "    }\n",
              "    30% {\n",
              "      border-color: transparent;\n",
              "      border-left-color: var(--fill-color);\n",
              "      border-top-color: var(--fill-color);\n",
              "      border-right-color: var(--fill-color);\n",
              "    }\n",
              "    40% {\n",
              "      border-color: transparent;\n",
              "      border-right-color: var(--fill-color);\n",
              "      border-top-color: var(--fill-color);\n",
              "    }\n",
              "    60% {\n",
              "      border-color: transparent;\n",
              "      border-right-color: var(--fill-color);\n",
              "    }\n",
              "    80% {\n",
              "      border-color: transparent;\n",
              "      border-right-color: var(--fill-color);\n",
              "      border-bottom-color: var(--fill-color);\n",
              "    }\n",
              "    90% {\n",
              "      border-color: transparent;\n",
              "      border-bottom-color: var(--fill-color);\n",
              "    }\n",
              "  }\n",
              "</style>\n",
              "\n",
              "  <script>\n",
              "    async function quickchart(key) {\n",
              "      const quickchartButtonEl =\n",
              "        document.querySelector('#' + key + ' button');\n",
              "      quickchartButtonEl.disabled = true;  // To prevent multiple clicks.\n",
              "      quickchartButtonEl.classList.add('colab-df-spinner');\n",
              "      try {\n",
              "        const charts = await google.colab.kernel.invokeFunction(\n",
              "            'suggestCharts', [key], {});\n",
              "      } catch (error) {\n",
              "        console.error('Error during call to suggestCharts:', error);\n",
              "      }\n",
              "      quickchartButtonEl.classList.remove('colab-df-spinner');\n",
              "      quickchartButtonEl.classList.add('colab-df-quickchart-complete');\n",
              "    }\n",
              "    (() => {\n",
              "      let quickchartButtonEl =\n",
              "        document.querySelector('#df-f71c6e2e-2f68-4e38-9425-faf5e6ff95d9 button');\n",
              "      quickchartButtonEl.style.display =\n",
              "        google.colab.kernel.accessAllowed ? 'block' : 'none';\n",
              "    })();\n",
              "  </script>\n",
              "</div>\n",
              "    </div>\n",
              "  </div>\n"
            ],
            "application/vnd.google.colaboratory.intrinsic+json": {
              "type": "dataframe",
              "variable_name": "df",
              "summary": "{\n  \"name\": \"df\",\n  \"rows\": 23295,\n  \"fields\": [\n    {\n      \"column\": \"Item Name\",\n      \"properties\": {\n        \"dtype\": \"category\",\n        \"num_unique_values\": 1553,\n        \"samples\": [\n          \"Twisted obsession Mitten\",\n          \"Black Dragon Terminator Orb\",\n          \"Cerberus Sandals\"\n        ],\n        \"semantic_type\": \"\",\n        \"description\": \"\"\n      }\n    },\n    {\n      \"column\": \"EnchantLevel\",\n      \"properties\": {\n        \"dtype\": \"number\",\n        \"std\": 4,\n        \"min\": 1,\n        \"max\": 15,\n        \"num_unique_values\": 15,\n        \"samples\": [\n          10,\n          12,\n          1\n        ],\n        \"semantic_type\": \"\",\n        \"description\": \"\"\n      }\n    },\n    {\n      \"column\": \"EnchantRatio\",\n      \"properties\": {\n        \"dtype\": \"number\",\n        \"std\": 38.86384918385651,\n        \"min\": 1.0,\n        \"max\": 100.0,\n        \"num_unique_values\": 12,\n        \"samples\": [\n          33.33,\n          1.0,\n          100.0\n        ],\n        \"semantic_type\": \"\",\n        \"description\": \"\"\n      }\n    },\n    {\n      \"column\": \"BreakRatio\",\n      \"properties\": {\n        \"dtype\": \"number\",\n        \"std\": 12.24771159957899,\n        \"min\": 0.0,\n        \"max\": 25.0,\n        \"num_unique_values\": 2,\n        \"samples\": [\n          25.0,\n          0.0\n        ],\n        \"semantic_type\": \"\",\n        \"description\": \"\"\n      }\n    },\n    {\n      \"column\": \"MinDowngrade\",\n      \"properties\": {\n        \"dtype\": \"number\",\n        \"std\": 0,\n        \"min\": 0,\n        \"max\": 1,\n        \"num_unique_values\": 2,\n        \"samples\": [\n          1,\n          0\n        ],\n        \"semantic_type\": \"\",\n        \"description\": \"\"\n      }\n    },\n    {\n      \"column\": \"MaxDowngrade\",\n      \"properties\": {\n        \"dtype\": \"number\",\n        \"std\": 0,\n        \"min\": 0,\n        \"max\": 2,\n        \"num_unique_values\": 3,\n        \"samples\": [\n          0,\n          1\n        ],\n        \"semantic_type\": \"\",\n        \"description\": \"\"\n      }\n    },\n    {\n      \"column\": \"Gold\",\n      \"properties\": {\n        \"dtype\": \"number\",\n        \"std\": 1722,\n        \"min\": 0,\n        \"max\": 28027,\n        \"num_unique_values\": 377,\n        \"samples\": [\n          4330,\n          1280\n        ],\n        \"semantic_type\": \"\",\n        \"description\": \"\"\n      }\n    }\n  ]\n}"
            }
          },
          "metadata": {},
          "execution_count": 2
        }
      ],
      "source": [
        "# Reading the csv file from the Google Drive Directory\n",
        "drive.mount('/content/drive')\n",
        "csv_file_path = '/content/drive/MyDrive/Enhancement_data/data.csv'\n",
        "\n",
        "df = pd.read_csv(csv_file_path)\n",
        "df"
      ]
    },
    {
      "cell_type": "markdown",
      "source": [
        "Create a function that calls the name of the item and getting their row number to convert in to a string"
      ],
      "metadata": {
        "id": "whoetr8DHQTa"
      }
    },
    {
      "cell_type": "code",
      "source": [
        "def get_item_info(keyword):\n",
        "    # Filter the DataFrame to get all columns for items containing the keyword\n",
        "    item_info = df[df['Item Name'].str.contains(keyword, case=False)]\n",
        "\n",
        "    return item_info\n",
        "\n",
        "def extract_row_numbers(item_info):\n",
        "    # Extract row numbers and turn them into a string\n",
        "    row_numbers_str = ', '.join(map(str, item_info.index.tolist()))\n",
        "\n",
        "    return row_numbers_str"
      ],
      "metadata": {
        "id": "-P-EK8VAHT47"
      },
      "execution_count": 3,
      "outputs": []
    },
    {
      "cell_type": "markdown",
      "source": [
        "Testing the created function"
      ],
      "metadata": {
        "id": "vY9Y0Q8UHjDC"
      }
    },
    {
      "cell_type": "code",
      "source": [
        "keyword_test = \"Manticore\"  # Replace with the keyword you want to search for\n",
        "item_info_test = get_item_info(keyword_test)\n",
        "\n",
        "row_numbers_str_test = extract_row_numbers(item_info_test)\n",
        "print(row_numbers_str_test)"
      ],
      "metadata": {
        "colab": {
          "base_uri": "https://localhost:8080/"
        },
        "id": "CiZFkbWjHokk",
        "outputId": "e5a6e002-702f-461e-e86a-71739527df28"
      },
      "execution_count": 4,
      "outputs": [
        {
          "output_type": "stream",
          "name": "stdout",
          "text": [
            "16740, 16741, 16742, 16743, 16744, 16745, 16746, 16747, 16748, 16749, 16750, 16751, 16752, 16753, 16754, 16755, 16756, 16757, 16758, 16759, 16760, 16761, 16762, 16763, 16764, 16765, 16766, 16767, 16768, 16769, 16770, 16771, 16772, 16773, 16774, 16775, 16776, 16777, 16778, 16779, 16780, 16781, 16782, 16783, 16784, 16785, 16786, 16787, 16788, 16789, 16790, 16791, 16792, 16793, 16794, 16795, 16796, 16797, 16798, 16799, 16800, 16801, 16802, 16803, 16804, 16805, 16806, 16807, 16808, 16809, 16810, 16811, 16812, 16813, 16814, 16815, 16816, 16817, 16818, 16819, 16820, 16821, 16822, 16823, 16824, 16825, 16826, 16827, 16828, 16829, 16830, 16831, 16832, 16833, 16834, 16835, 16836, 16837, 16838, 16839, 16840, 16841, 16842, 16843, 16844, 16845, 16846, 16847, 16848, 16849, 16850, 16851, 16852, 16853, 16854, 16855, 16856, 16857, 16858, 16859, 16860, 16861, 16862, 16863, 16864, 16865, 16866, 16867, 16868, 16869, 16870, 16871, 16872, 16873, 16874, 16875, 16876, 16877, 16878, 16879, 16880, 16881, 16882, 16883, 16884, 16885, 16886, 16887, 16888, 16889, 16890, 16891, 16892, 16893, 16894, 16895, 16896, 16897, 16898, 16899, 16900, 16901, 16902, 16903, 16904, 16905, 16906, 16907, 16908, 16909, 16910, 16911, 16912, 16913, 16914, 16915, 16916, 16917, 16918, 16919, 16920, 16921, 16922, 16923, 16924, 16925, 16926, 16927, 16928, 16929, 16930, 16931, 16932, 16933, 16934, 16935, 16936, 16937, 16938, 16939, 16940, 16941, 16942, 16943, 16944, 16945, 16946, 16947, 16948, 16949, 16950, 16951, 16952, 16953, 16954, 16955, 16956, 16957, 16958, 16959, 16960, 16961, 16962, 16963, 16964, 16965, 16966, 16967, 16968, 16969, 16970, 16971, 16972, 16973, 16974, 16975, 16976, 16977, 16978, 16979, 16980, 16981, 16982, 16983, 16984, 16985, 16986, 16987, 16988, 16989, 16990, 16991, 16992, 16993, 16994, 16995, 16996, 16997, 16998, 16999, 17000, 17001, 17002, 17003, 17004, 17005, 17006, 17007, 17008, 17009, 17010, 17011, 17012, 17013, 17014, 17015, 17016, 17017, 17018, 17019, 17020, 17021, 17022, 17023, 17024, 17025, 17026, 17027, 17028, 17029, 17030, 17031, 17032, 17033, 17034, 17035, 17036, 17037, 17038, 17039, 17040, 17041, 17042, 17043, 17044, 17045, 17046, 17047, 17048, 17049, 17050, 17051, 17052, 17053, 17054, 17055, 17056, 17057, 17058, 17059, 17060, 17061, 17062, 17063, 17064, 17065, 17066, 17067, 17068, 17069, 17070, 17071, 17072, 17073, 17074, 17075, 17076, 17077, 17078, 17079, 17080, 17081, 17082, 17083, 17084, 17085, 17086, 17087, 17088, 17089, 17090, 17091, 17092, 17093, 17094, 17095, 17096, 17097, 17098, 17099, 17100, 17101, 17102, 17103, 17104, 17105, 17106, 17107, 17108, 17109, 17110, 17111, 17112, 17113, 17114, 17115, 17116, 17117, 17118, 17119, 17120, 17121, 17122, 17123, 17124, 17125, 17126, 17127, 17128, 17129, 17130, 17131, 17132, 17133, 17134, 17135, 17136, 17137, 17138, 17139, 17140, 17141, 17142, 17143, 17144, 17145, 17146, 17147, 17148, 17149, 17150, 17151, 17152, 17153, 17154, 17155, 17156, 17157, 17158, 17159, 17160, 17161, 17162, 17163, 17164, 17165, 17166, 17167, 17168, 17169, 17170, 17171, 17172, 17173, 17174, 17175, 17176, 17177, 17178, 17179, 17180, 17181, 17182, 17183, 17184, 17185, 17186, 17187, 17188, 17189, 17190, 17191, 17192, 17193, 17194, 17195, 17196, 17197, 17198, 17199, 17200, 17201, 17202, 17203, 17204, 17205, 17206, 17207, 17208, 17209, 17210, 17211, 17212, 17213, 17214, 17215, 17216, 17217, 17218, 17219, 17220, 17221, 17222, 17223, 17224, 17225, 17226, 17227, 17228, 17229, 17230, 17231, 17232, 17233, 17234, 17235, 17236, 17237, 17238, 17239, 17240, 17241, 17242, 17243, 17244, 17245, 17246, 17247, 17248, 17249, 17250, 17251, 17252, 17253, 17254, 17255, 17256, 17257, 17258, 17259, 17260, 17261, 17262, 17263, 17264, 17265, 17266, 17267, 17268, 17269, 17270, 17271, 17272, 17273, 17274, 17275, 17276, 17277, 17278, 17279, 17280, 17281, 17282, 17283, 17284, 17285, 17286, 17287, 17288, 17289, 17290, 17291, 17292, 17293, 17294, 17295, 17296, 17297, 17298, 17299, 17300, 17301, 17302, 17303, 17304, 17305, 17306, 17307, 17308, 17309, 17310, 17311, 17312, 17313, 17314, 17315, 17316, 17317, 17318, 17319, 17320, 17321, 17322, 17323, 17324, 17325, 17326, 17327, 17328, 17329, 17330, 17331, 17332, 17333, 17334, 17335, 17336, 17337, 17338, 17339, 17340, 17341, 17342, 17343, 17344, 17345, 17346, 17347, 17348, 17349, 17350, 17351, 17352, 17353, 17354, 17355, 17356, 17357, 17358, 17359, 17360, 17361, 17362, 17363, 17364, 17365, 17366, 17367, 17368, 17369, 17370, 17371, 17372, 17373, 17374, 17375, 17376, 17377, 17378, 17379, 17380, 17381, 17382, 17383, 17384, 17385, 17386, 17387, 17388, 17389, 17390, 17391, 17392, 17393, 17394, 17395, 17396, 17397, 17398, 17399, 17400, 17401, 17402, 17403, 17404, 17405, 17406, 17407, 17408, 17409, 17410, 17411, 17412, 17413, 17414, 17415, 17416, 17417, 17418, 17419, 17420, 17421, 17422, 17423, 17424, 17425, 17426, 17427, 17428, 17429, 17430, 17431, 17432, 17433, 17434, 17435, 17436, 17437, 17438, 17439, 17440, 17441, 17442, 17443, 17444, 17445, 17446, 17447, 17448, 17449, 17450, 17451, 17452, 17453, 17454, 17455, 17456, 17457, 17458, 17459, 17460, 17461, 17462, 17463, 17464, 17465, 17466, 17467, 17468, 17469, 17470, 17471, 17472, 17473, 17474, 17475, 17476, 17477, 17478, 17479, 17480, 17481, 17482, 17483, 17484, 17485, 17486, 17487, 17488, 17489, 17490, 17491, 17492, 17493, 17494, 17495, 17496, 17497, 17498, 17499, 17500, 17501, 17502, 17503, 17504, 17505, 17506, 17507, 17508, 17509, 17510, 17511, 17512, 17513, 17514, 17515, 17516, 17517, 17518, 17519, 17520, 17521, 17522, 17523, 17524, 17525, 17526, 17527, 17528, 17529, 17530, 17531, 17532, 17533, 17534, 17535, 17536, 17537, 17538, 17539, 17540, 17541, 17542, 17543, 17544, 17545, 17546, 17547, 17548, 17549, 17550, 17551, 17552, 17553, 17554, 17555, 17556, 17557, 17558, 17559, 17560, 17561, 17562, 17563, 17564, 17565, 17566, 17567, 17568, 17569, 17570, 17571, 17572, 17573, 17574, 17575, 17576, 17577, 17578, 17579, 17580, 17581, 17582, 17583, 17584, 17585, 17586, 17587, 17588, 17589, 17590, 17591, 17592, 17593, 17594, 17595, 17596, 17597, 17598, 17599, 17600, 17601, 17602, 17603, 17604, 17605, 17606, 17607, 17608, 17609, 17610, 17611, 17612, 17613, 17614, 17615, 17616, 17617, 17618, 17619, 17620, 17621, 17622, 17623, 17624, 17625, 17626, 17627, 17628, 17629, 17630, 17631, 17632, 17633, 17634, 17635, 17636, 17637, 17638, 17639, 17640, 17641, 17642, 17643, 17644, 17645, 17646, 17647, 17648, 17649, 17650, 17651, 17652, 17653, 17654, 17655, 17656, 17657, 17658, 17659, 17660, 17661, 17662, 17663, 17664, 17665, 17666, 17667, 17668, 17669, 17670, 17671, 17672, 17673, 17674, 17675, 17676, 17677, 17678, 17679, 17680, 17681, 17682, 17683, 17684, 17685, 17686, 17687, 17688, 17689, 17690, 17691, 17692, 17693, 17694, 17695, 17696, 17697, 17698, 17699, 17700, 17701, 17702, 17703, 17704, 17705, 17706, 17707, 17708, 17709, 17710, 17711, 17712, 17713, 17714\n"
          ]
        }
      ]
    },
    {
      "cell_type": "markdown",
      "source": [
        "# Legend sets in Dragon Nest"
      ],
      "metadata": {
        "id": "cdC8vcNqICLz"
      }
    },
    {
      "cell_type": "markdown",
      "source": [
        "The list of Legends within the csv file\n",
        "\n",
        "1. Sword Master - Destroyer\n",
        "2. Mercenary - Illumia\n",
        "3. Sharpshooter - Tracker\n",
        "4. Acrobat - Troublemaker\n",
        "5. Priest - Saviour\n",
        "6. Paladin - Guardian\n",
        "7. Elemental lord/Elementalist - Terminator\n",
        "8. Force User - Contractor\n",
        "9. Alchemist - Changer\n",
        "10. Engineer - Coordinator\n",
        "11. Screamer - Soul Handler\n",
        "12. Dancer - Dancer\n",
        "13. Chaser - Slaughter\n",
        "14. Bringer - Meditation\n",
        "15. Dragoon - Victoria"
      ],
      "metadata": {
        "id": "NEvzW2ZkIF9C"
      }
    },
    {
      "cell_type": "code",
      "source": [
        "# SDNL for warrior\n",
        "keyword_SDNL_sword = \"Sea Dragon Destroyer\"\n",
        "keyword_SDNL_merc = \"Sea Dragon Illumia\"\n",
        "\n",
        "# SDNL for archer\n",
        "keyword_SDNL_sharp = \"Sea Dragon Tracker\"\n",
        "keyword_SDNL_acro = \"Sea Dragon Troublemaker\"\n",
        "\n",
        "# SDNL for cleric\n",
        "keyword_SDNL_priest = \"Sea Dragon Saviour\"\n",
        "keyword_SDNL_pala = \"Sea Dragon Guardian Knight\"\n",
        "\n",
        "# SDNL for sorceress\n",
        "keyword_SDNL_ele = \"Sea Dragon Terminator\"\n",
        "keyword_SDNL_bt = \"Sea Dragon Contractor\"\n",
        "\n",
        "# SDNL for academic\n",
        "keyword_SDNL_slime = \"Sea Dragon Changer\"\n",
        "keyword_SDNL_duck = \"Sea Dragon Coordinator\"\n",
        "\n",
        "# SDNL for kali\n",
        "Keyword_SDNL_curse = \"Sea Dragon Soul Handler\"\n",
        "keyword_SDNL_dance = \"Sea Dragon Dancer\"\n",
        "\n",
        "# SDNL for assassin\n",
        "keyword_SDNL_crow = \"Sea Dragon Slaughter\"\n",
        "keyword_SDNL_medi = \"Sea Dragon Meditation\"\n",
        "\n",
        "# SDNL for lancea\n",
        "keyword_SDNL_spin = \"Sea Dragon Victoria\""
      ],
      "metadata": {
        "id": "Z-c1OMt2ILiP"
      },
      "execution_count": 5,
      "outputs": []
    },
    {
      "cell_type": "markdown",
      "source": [
        "1. Swordmaster (Destroyer) Sea Dragon Legend set"
      ],
      "metadata": {
        "id": "r1v7sK1BIRKS"
      }
    },
    {
      "cell_type": "code",
      "source": [
        "keyword_SDNL1 = keyword_SDNL_sword  # Replace with the keyword you want to search for\n",
        "item_info_SDNL1 = get_item_info(keyword_SDNL1)\n",
        "\n",
        "row_numbers_str_1 = extract_row_numbers(item_info_SDNL1)"
      ],
      "metadata": {
        "id": "yJPxUKYJIjtW"
      },
      "execution_count": 6,
      "outputs": []
    },
    {
      "cell_type": "code",
      "source": [
        "SW_row_indices = [21135, 21136, 21137, 21138, 21139, 21140, 21141, 21142, 21143, 21144, 21145, 21146, 21147, 21148, 21149, # Destroyer Helmet\n",
        "               21165, 21166, 21167, 21168, 21169, 21170, 21171, 21172, 21173, 21174, 21175, 21176, 21177, 21178, 21179, # Destroyer Shirt\n",
        "               21150, 21151, 21152, 21153, 21154, 21155, 21156, 21157, 21158, 21159, 21160, 21161, 21162, 21163, 21164, # Destroyer Pants\n",
        "               21120, 21121, 21122, 21123, 21124, 21125, 21126, 21127, 21128, 21129, 21130, 21131, 21132, 21133, 21134, # Destroyer Gloves\n",
        "               21090, 21091, 21092, 21093, 21094, 21095, 21096, 21097, 21098, 21099, 21100, 21101, 21102, 21103, 21104, # Destroyer Boots\n",
        "               21180, 21181, 21182, 21183, 21184, 21185, 21186, 21187, 21188, 21189, 21190, 21191, 21192, 21193, 21194, # Destroyer Sword\n",
        "               21105, 21106, 21107, 21108, 21109, 21110, 21111, 21112, 21113, 21114, 21115, 21116, 21117, 21118, 21119] # Destroyer Gauntlet\n",
        "\n",
        "# Select specific 15 rows from all columns using the defined indices\n",
        "SW_selected_rows = df.iloc[SW_row_indices, :]\n",
        "\n",
        "# Save the selected rows to a new CSV file\n",
        "SW_selected_rows.to_csv('/content/drive/MyDrive/Enhancement_data/Legends/SDN/Swordmaster.csv', index=False)"
      ],
      "metadata": {
        "id": "FoxfgtDxIm0H"
      },
      "execution_count": 7,
      "outputs": []
    },
    {
      "cell_type": "markdown",
      "source": [
        "2. Mercenary (Illumia) Sea Dragon Legend set\n"
      ],
      "metadata": {
        "id": "pgSvC8EjIw7I"
      }
    },
    {
      "cell_type": "code",
      "source": [
        "keyword_SDNL2 = keyword_SDNL_merc  # Replace with the keyword you want to search for\n",
        "item_info_SDNL2 = get_item_info(keyword_SDNL2)\n",
        "\n",
        "row_numbers_str_2 = extract_row_numbers(item_info_SDNL2)"
      ],
      "metadata": {
        "id": "YROiUEjpI0SC"
      },
      "execution_count": 8,
      "outputs": []
    },
    {
      "cell_type": "code",
      "source": [
        "MERC_row_indices = [21390, 21391, 21392, 21393, 21394, 21395, 21396, 21397, 21398, 21399, 21400, 21401, 21402, 21403, 21404, # Illumia Helmet\n",
        "               21420, 21421, 21422, 21423, 21424, 21425, 21426, 21427, 21428, 21429, 21430, 21431, 21432, 21433, 21434, # Illumia Shirt\n",
        "               21405, 21406, 21407, 21408, 21409, 21410, 21411, 21412, 21413, 21414, 21415, 21416, 21417, 21418, 21419, # Illumia Pants\n",
        "               21360, 21361, 21362, 21363, 21364, 21365, 21366, 21367, 21368, 21369, 21370, 21371, 21372, 21373, 21374, # Illumia Gloves\n",
        "               21330, 21331, 21332, 21333, 21334, 21335, 21336, 21337, 21338, 21339, 21340, 21341, 21342, 21343, 21344, # Illumia Boots\n",
        "               21315, 21316, 21317, 21318, 21319, 21320, 21321, 21322, 21323, 21324, 21325, 21326, 21327, 21328, 21329, # Illumia Axe\n",
        "               21375, 21376, 21377, 21378, 21379, 21380, 21381, 21382, 21383, 21384, 21385, 21386, 21387, 21388, 21389, # Illumia Hammer\n",
        "               21345, 21346, 21347, 21348, 21349, 21350, 21351, 21352, 21353, 21354, 21355, 21356, 21357, 21358, 21359] # Illumia Gauntlet\n",
        "\n",
        "# Select specific 15 rows from all columns using the defined indices\n",
        "MERC_selected_rows = df.iloc[MERC_row_indices, :]\n",
        "\n",
        "# Save the selected rows to a new CSV file\n",
        "MERC_selected_rows.to_csv('/content/drive/MyDrive/Enhancement_data/Legends/SDN/Mercenary.csv', index=False)"
      ],
      "metadata": {
        "id": "wnZ6YmkQI2BI"
      },
      "execution_count": 9,
      "outputs": []
    },
    {
      "cell_type": "markdown",
      "source": [
        "3. Sharpshooter (Tracker) Sea Dragon Legend set"
      ],
      "metadata": {
        "id": "lbqKiVWjI_yD"
      }
    },
    {
      "cell_type": "code",
      "source": [
        "keyword_SDNL3 = keyword_SDNL_sharp  # Replace with the keyword you want to search for\n",
        "item_info_SDNL3 = get_item_info(keyword_SDNL3)\n",
        "\n",
        "row_numbers_str_3 = extract_row_numbers(item_info_SDNL3)"
      ],
      "metadata": {
        "id": "o4WzfL2sJArl"
      },
      "execution_count": 10,
      "outputs": []
    },
    {
      "cell_type": "code",
      "source": [
        "Sharp_row_indices = [22020, 22021, 22022, 22023, 22024, 22025, 22026, 22027, 22028, 22029, 22030, 22031, 22032, 22033, 22034, # Tracker Headband\n",
        "               22080, 22081, 22082, 22083, 22084, 22085, 22086, 22087, 22088, 22089, 22090, 22091, 22092, 22093, 22094, # Tracker Onesie\n",
        "               22035, 22036, 22037, 22038, 22039, 22040, 22041, 22042, 22043, 22044, 22045, 22046, 22047, 22048, 22049, # Tracker Leggings\n",
        "               22065, 22066, 22067, 22068, 22069, 22070, 22071, 22072, 22073, 22074, 22075, 22076, 22077, 22078, 22079, # Tracker Mittens\n",
        "               21990, 21991, 21992, 21993, 21994, 21995, 21996, 21997, 21998, 21999, 22000, 22001, 22002, 22003, 22004, # Tracker Booties\n",
        "               22050, 22051, 22052, 22053, 22054, 22055, 22056, 22057, 22058, 22059, 22060, 22061, 22062, 22063, 22064, # Tracker Longbow\n",
        "               22005, 22006, 22007, 22008, 22009, 22010, 22011, 22012, 22013, 22014, 22015, 22016, 22017, 22018, 22019, # Tracker Crossbow\n",
        "               22095, 22096, 22097, 22098, 22099, 22100, 22101, 22102, 22103, 22104, 22105, 22106, 22107, 22108, 22109] # Tracker Quiver\n",
        "\n",
        "# Select specific 15 rows from all columns using the defined indices\n",
        "Sharp_selected_rows = df.iloc[Sharp_row_indices, :]\n",
        "\n",
        "# Save the selected rows to a new CSV file\n",
        "Sharp_selected_rows.to_csv('/content/drive/MyDrive/Enhancement_data/Legends/SDN/SharpShooter.csv', index=False)"
      ],
      "metadata": {
        "id": "DChcjLAsJAf3"
      },
      "execution_count": 11,
      "outputs": []
    },
    {
      "cell_type": "markdown",
      "source": [
        "4. Acrobat (Troublemaker) Sea Dragon Legend set"
      ],
      "metadata": {
        "id": "SmsJPN-LJM37"
      }
    },
    {
      "cell_type": "code",
      "source": [
        "keyword_SDNL4 = keyword_SDNL_acro  # Replace with the keyword you want to search for\n",
        "item_info_SDNL4 = get_item_info(keyword_SDNL4)\n",
        "\n",
        "row_numbers_str_4 = extract_row_numbers(item_info_SDNL4)"
      ],
      "metadata": {
        "id": "EggF6A7FJNYD"
      },
      "execution_count": 12,
      "outputs": []
    },
    {
      "cell_type": "code",
      "source": [
        "Acro_row_indices = [22125, 22126, 22127, 22128, 22129, 22130, 22131, 22132, 22133, 22134, 22135, 22136, 22137, 22138, 22139, # Troublemaker HeadBand\n",
        "               22170, 22171, 22172, 22173, 22174, 22175, 22176, 22177, 22178, 22179, 22180, 22181, 22182, 22183, 22184, # Troublemaker Onesie\n",
        "               22140, 22141, 22142, 22143, 22144, 22145, 22146, 22147, 22148, 22149, 22150, 22151, 22152, 22153, 22154, # Troublemaker Leggings\n",
        "               22155, 22156, 22157, 22158, 22159, 22160, 22161, 22162, 22163, 22164, 22165, 22166, 22167, 22168, 22169, # Troublemaker Mittens\n",
        "               22110, 22111, 22112, 22113, 22114, 22115, 22116, 22117, 22118, 22119, 22120, 22121, 22122, 22123, 22124, # Troublemaker Booties\n",
        "               22200, 22201, 22202, 22203, 22204, 22205, 22206, 22207, 22208, 22209, 22210, 22211, 22212, 22213, 22214, # Troublemaker Shortbow\n",
        "               22185, 22186, 22187, 22188, 22189, 22190, 22191, 22192, 22193, 22194, 22195, 22196, 22197, 22198, 22199] # Troublemaker Quiver\n",
        "\n",
        "# Select specific 15 rows from all columns using the defined indices\n",
        "Acro_selected_rows = df.iloc[Acro_row_indices, :]\n",
        "\n",
        "# Save the selected rows to a new CSV file\n",
        "Acro_selected_rows.to_csv('/content/drive/MyDrive/Enhancement_data/Legends/SDN/Acrobat.csv', index=False)"
      ],
      "metadata": {
        "id": "7NeaWpiaJNoI"
      },
      "execution_count": 13,
      "outputs": []
    },
    {
      "cell_type": "markdown",
      "source": [
        "5. Priest (Saviour) Sea Dragon Legend set\n"
      ],
      "metadata": {
        "id": "TySamPDuJYZm"
      }
    },
    {
      "cell_type": "code",
      "source": [
        "keyword_SDNL5 = keyword_SDNL_priest  # Replace with the keyword you want to search for\n",
        "item_info_SDNL5 = get_item_info(keyword_SDNL5)\n",
        "\n",
        "row_numbers_str_5 = extract_row_numbers(item_info_SDNL5)"
      ],
      "metadata": {
        "id": "TtRTdckiJZi4"
      },
      "execution_count": 14,
      "outputs": []
    },
    {
      "cell_type": "code",
      "source": [
        "priest_row_indices = [21570, 21571, 21572, 21573, 21574, 21575, 21576, 21577, 21578, 21579, 21580, 21581, 21582, 21583, 21584, # Saviour Galero\n",
        "               21540, 21541, 21542, 21543, 21544, 21545, 21546, 21547, 21548, 21549, 21550, 21551, 21552, 21553, 21554, # Saviour Armour\n",
        "               21615, 21616, 21617, 21618, 21619, 21620, 21621, 21622, 21623, 21624, 21625, 21626, 21627, 21628, 21629, # Saviour Trousers\n",
        "               21555, 21556, 21557, 21558, 21559, 21560, 21561, 21562, 21563, 21564, 21565, 21566, 21567, 21568, 21569, # Saviour Cuffs\n",
        "               21600, 21601, 21602, 21603, 21604, 21605, 21606, 21607, 21608, 21609, 21610, 21611, 21612, 21613, 21614, # Saviour Shoes\n",
        "               21630, 21631, 21632, 21633, 21634, 21635, 21636, 21637, 21638, 21639, 21640, 21641, 21642, 21643, 21644, # Saviour Wand\n",
        "               21585, 21586, 21587, 21588, 21589, 21590, 21591, 21592, 21593, 21594, 21595, 21596, 21597, 21598, 21599] # Saviour Shield\n",
        "\n",
        "# Select specific 15 rows from all columns using the defined indices\n",
        "priest_selected_rows = df.iloc[priest_row_indices, :]\n",
        "\n",
        "# Save the selected rows to a new CSV file\n",
        "priest_selected_rows.to_csv('/content/drive/MyDrive/Enhancement_data/Legends/SDN/Priest.csv', index=False)"
      ],
      "metadata": {
        "id": "B2k5BXKcJZPz"
      },
      "execution_count": 15,
      "outputs": []
    },
    {
      "cell_type": "markdown",
      "source": [
        "6. Paladin (Guardian) Sea Dragon Legend set"
      ],
      "metadata": {
        "id": "Gks08Rc6JnKk"
      }
    },
    {
      "cell_type": "code",
      "source": [
        "keyword_SDNL6 = keyword_SDNL_pala  # Replace with the keyword you want to search for\n",
        "item_info_SDNL6 = get_item_info(keyword_SDNL6)\n",
        "\n",
        "row_numbers_str_6 = extract_row_numbers(item_info_SDNL6)"
      ],
      "metadata": {
        "id": "TtZZae7MJnnh"
      },
      "execution_count": 16,
      "outputs": []
    },
    {
      "cell_type": "code",
      "source": [
        "pala_row_indices = [21240, 21241, 21242, 21243, 21244, 21245, 21246, 21247, 21248, 21249, 21250, 21251, 21252, 21253, 21254, # Guardian Knight Galero\n",
        "               21195, 21196, 21197, 21198, 21199, 21200, 21201, 21202, 21203, 21204, 21205, 21206, 21207, 21208, 21209, # Guardian Knight Armour\n",
        "               21300, 21301, 21302, 21303, 21304, 21305, 21306, 21307, 21308, 21309, 21310, 21311, 21312, 21313, 21314, # Guardian Knight Trousers\n",
        "               21210, 21211, 21212, 21213, 21214, 21215, 21216, 21217, 21218, 21219, 21220, 21221, 21222, 21223, 21224, # Guardian Knight Cuffs\n",
        "               21285, 21286, 21287, 21288, 21289, 21290, 21291, 21292, 21293, 21294, 21295, 21296, 21297, 21298, 21299, # Guardian Knight Shoes\n",
        "               21225, 21226, 21227, 21228, 21229, 21230, 21231, 21232, 21233, 21234, 21235, 21236, 21237, 21238, 21239, # Guardian Knight Flail\n",
        "               21255, 21256, 21257, 21258, 21259, 21260, 21261, 21262, 21263, 21264, 21265, 21266, 21267, 21268, 21269, # Guardian Knight Mace\n",
        "               21270, 21271, 21272, 21273, 21274, 21275, 21276, 21277, 21278, 21279, 21280, 21281, 21282, 21283, 21284] # Guardian Knight Shield\n",
        "\n",
        "# Select specific 15 rows from all columns using the defined indices\n",
        "pala_selected_rows = df.iloc[pala_row_indices, :]\n",
        "\n",
        "# Save the selected rows to a new CSV file\n",
        "pala_selected_rows.to_csv('/content/drive/MyDrive/Enhancement_data/Legends/SDN/Paladin.csv', index=False)"
      ],
      "metadata": {
        "id": "G5HI8FI_Jnx0"
      },
      "execution_count": 17,
      "outputs": []
    },
    {
      "cell_type": "markdown",
      "source": [
        "7. Elementalist/Elemental Lord Sea Dragon Legend set"
      ],
      "metadata": {
        "id": "j6vGDewPJylU"
      }
    },
    {
      "cell_type": "code",
      "source": [
        "keyword_SDNL7 = keyword_SDNL_ele  # Replace with the keyword you want to search for\n",
        "item_info_SDNL7 = get_item_info(keyword_SDNL7)\n",
        "\n",
        "row_numbers_str_7 = extract_row_numbers(item_info_SDNL7)"
      ],
      "metadata": {
        "id": "C1Nx44vpJzLa"
      },
      "execution_count": 18,
      "outputs": []
    },
    {
      "cell_type": "code",
      "source": [
        "ele_row_indices = [21945, 21946, 21947, 21948, 21949, 21950, 21951, 21952, 21953, 21954, 21955, 21956, 21957, 21958, 21959, # Terminator Tiara\n",
        "               21900, 21901, 21902, 21903, 21904, 21905, 21906, 21907, 21908, 21909, 21910, 21911, 21912, 21913, 21914, # Terminator Robe\n",
        "               21960, 21961, 21962, 21963, 21964, 21965, 21966, 21967, 21968, 21969, 21970, 21971, 21972, 21973, 21974, # Terminator Tights\n",
        "               21870, 21871, 21872, 21873, 21874, 21875, 21876, 21877, 21878, 21879, 21880, 21881, 21882, 21883, 21884, # Terminator Muff\n",
        "               21855, 21856, 21857, 21858, 21859, 21860, 21861, 21862, 21863, 21864, 21865, 21866, 21867, 21868, 21869, # Terminator Heels\n",
        "               21930, 21931, 21932, 21933, 21934, 21935, 21936, 21937, 21938, 21939, 21940, 21941, 21942, 21943, 21944, # Terminator Staff\n",
        "               21885, 21886, 21887, 21888, 21889, 21890, 21891, 21892, 21893, 21894, 21895, 21896, 21897, 21898, 21899, # Terminator Orb\n",
        "               21915, 21916, 21917, 21918, 21919, 21920, 21921, 21922, 21923, 21924, 21925, 21926, 21927, 21928, 21929, # Terminator Spellbook\n",
        "               21975, 21976, 21977, 21978, 21979, 21980, 21981, 21982, 21983, 21984, 21985, 21986, 21987, 21988, 21989] # Terminator Voodoo Doll\n",
        "\n",
        "# Select specific 15 rows from all columns using the defined indices\n",
        "ele_selected_rows = df.iloc[ele_row_indices, :]\n",
        "\n",
        "# Save the selected rows to a new CSV file\n",
        "ele_selected_rows.to_csv('/content/drive/MyDrive/Enhancement_data/Legends/SDN/Elementalist.csv', index=False)"
      ],
      "metadata": {
        "id": "GjvTNUy_Jyy8"
      },
      "execution_count": 19,
      "outputs": []
    },
    {
      "cell_type": "markdown",
      "source": [
        "8. Force User Sea Dragon Legend set"
      ],
      "metadata": {
        "id": "uN3DuqelKDPr"
      }
    },
    {
      "cell_type": "code",
      "source": [
        "keyword_SDNL8 = keyword_SDNL_bt  # Replace with the keyword you want to search for\n",
        "item_info_SDNL8 = get_item_info(keyword_SDNL8)\n",
        "\n",
        "row_numbers_str_8 = extract_row_numbers(item_info_SDNL8)"
      ],
      "metadata": {
        "id": "cEE7dgWBKDiT"
      },
      "execution_count": 20,
      "outputs": []
    },
    {
      "cell_type": "code",
      "source": [
        "bt_row_indices = [20835, 20836, 20837, 20838, 20839, 20840, 20841, 20842, 20843, 20844, 20845, 20846, 20847, 20848, 20849, # Contractor Tiara\n",
        "               20790, 20791, 20792, 20793, 20794, 20795, 20796, 20797, 20798, 20799, 20800, 20801, 20802, 20803, 20804, # Contractor Robe\n",
        "               20850, 20851, 20852, 20853, 20854, 20855, 20856, 20857, 20858, 20859, 20860, 20861, 20862, 20863, 20864, # Contractor Tights\n",
        "               20760, 20761, 20762, 20763, 20764, 20765, 20766, 20767, 20768, 20769, 20770, 20771, 20772, 20773, 20774, # Contractor Muff\n",
        "               20745, 20746, 20747, 20748, 20749, 20750, 20751, 20752, 20753, 20754, 20755, 20756, 20757, 20758, 20759, # Contractor Heels\n",
        "               20820, 20821, 20822, 20823, 20824, 20825, 20826, 20827, 20828, 20829, 20830, 20831, 20832, 20833, 20834, # Contractor Staff\n",
        "               20775, 20776, 20777, 20778, 20779, 20780, 20781, 20782, 20783, 20784, 20785, 20786, 20787, 20788, 20789, # Contractor Orb\n",
        "               20805, 20806, 20807, 20808, 20809, 20810, 20811, 20812, 20813, 20814, 20815, 20816, 20817, 20818, 20819, # Contractor Spellbook\n",
        "               20865, 20866, 20867, 20868, 20869, 20870, 20871, 20872, 20873, 20874, 20875, 20876, 20877, 20878, 20879] # Contractor Voodoo Doll\n",
        "\n",
        "# Select specific 15 rows from all columns using the defined indices\n",
        "bt_selected_rows = df.iloc[bt_row_indices, :]\n",
        "\n",
        "# Save the selected rows to a new CSV file\n",
        "bt_selected_rows.to_csv('/content/drive/MyDrive/Enhancement_data/Legends/SDN/ForceUser.csv', index=False)"
      ],
      "metadata": {
        "id": "9Sj9fDiHKDt1"
      },
      "execution_count": 21,
      "outputs": []
    },
    {
      "cell_type": "markdown",
      "source": [
        "9. Alchemist Sea Dragon Legend set"
      ],
      "metadata": {
        "id": "OWeroJNsKQ7f"
      }
    },
    {
      "cell_type": "code",
      "source": [
        "keyword_SDNL9 = keyword_SDNL_slime  # Replace with the keyword you want to search for\n",
        "item_info_SDNL9 = get_item_info(keyword_SDNL9)\n",
        "\n",
        "row_numbers_str_9 = extract_row_numbers(item_info_SDNL9)"
      ],
      "metadata": {
        "id": "DEgRuPZbKbDS"
      },
      "execution_count": 22,
      "outputs": []
    },
    {
      "cell_type": "code",
      "source": [
        "slime_row_indices = [20640, 20641, 20642, 20643, 20644, 20645, 20646, 20647, 20648, 20649, 20650, 20651, 20652, 20653, 20654, # Changer Beret\n",
        "               20730, 20731, 20732, 20733, 20734, 20735, 20736, 20737, 20738, 20739, 20740, 20741, 20742, 20743, 20744, # Changer Tunic\n",
        "               20715, 20716, 20717, 20718, 20719, 20720, 20721, 20722, 20723, 20724, 20725, 20726, 20727, 20728, 20729, # Changer Slacks\n",
        "               20685, 20686, 20687, 20688, 20689, 20690, 20691, 20692, 20693, 20694, 20695, 20696, 20697, 20698, 20699, # Changer Power Mitten\n",
        "               20700, 20701, 20702, 20703, 20704, 20705, 20706, 20707, 20708, 20709, 20710, 20711, 20712, 20713, 20714, # Changer Round Shoes\n",
        "               20655, 20656, 20657, 20658, 20659, 20660, 20661, 20662, 20663, 20664, 20665, 20666, 20667, 20668, 20669, # Changer Bubble Gun\n",
        "               20670, 20671, 20672, 20673, 20674, 20675, 20676, 20677, 20678, 20679, 20680, 20681, 20682, 20683, 20684] # Changer Mecha Glove\n",
        "\n",
        "# Select specific 15 rows from all columns using the defined indices\n",
        "slime_selected_rows = df.iloc[slime_row_indices, :]\n",
        "\n",
        "# Save the selected rows to a new CSV file\n",
        "slime_selected_rows.to_csv('/content/drive/MyDrive/Enhancement_data/Legends/SDN/Alchemist.csv', index=False)"
      ],
      "metadata": {
        "id": "3xld-sTSKa4z"
      },
      "execution_count": 23,
      "outputs": []
    },
    {
      "cell_type": "markdown",
      "source": [
        "10. Engineer Black Dragon Legend set"
      ],
      "metadata": {
        "id": "5QSihoBdKkF0"
      }
    },
    {
      "cell_type": "code",
      "source": [
        "keyword_SDNL10 = keyword_SDNL_duck  # Replace with the keyword you want to search for\n",
        "item_info_SDNL10 = get_item_info(keyword_SDNL10)\n",
        "\n",
        "row_numbers_str_10 = extract_row_numbers(item_info_SDNL10)"
      ],
      "metadata": {
        "id": "XoDL081aKkUU"
      },
      "execution_count": 24,
      "outputs": []
    },
    {
      "cell_type": "code",
      "source": [
        "duck_row_indices = [20880, 20881, 20882, 20883, 20884, 20885, 20886, 20887, 20888, 20889, 20890, 20891, 20892, 20893, 20894, # Coordinator Beret\n",
        "               20970, 20971, 20972, 20973, 20974, 20975, 20976, 20977, 20978, 20979, 20980, 20981, 20982, 20983, 20984, # Coordinator Tunic\n",
        "               20955, 20956, 20957, 20958, 20959, 20960, 20961, 20962, 20963, 20964, 20965, 20966, 20967, 20968, 20969, # Coordinator Slacks\n",
        "               20925, 20926, 20927, 20928, 20929, 20930, 20931, 20932, 20933, 20934, 20935, 20936, 20937, 20938, 20939, # Coordinator Power Mitten\n",
        "               20940, 20941, 20942, 20943, 20944, 20945, 20946, 20947, 20948, 20949, 20950, 20951, 20952, 20953, 20954, # Coordinator Round Shoes\n",
        "               20895, 20896, 20897, 20898, 20899, 20900, 20901, 20902, 20903, 20904, 20905, 20906, 20907, 20908, 20909, # Coordinator Cannon\n",
        "               20910, 20911, 20912, 20913, 20914, 20915, 20916, 20917, 20918, 20919, 20920, 20921, 20922, 20923, 20924] # Coordinator Mecha Glove\n",
        "\n",
        "# Select specific 15 rows from all columns using the defined indices\n",
        "duck_selected_rows = df.iloc[duck_row_indices, :]\n",
        "\n",
        "# Save the selected rows to a new CSV file\n",
        "duck_selected_rows.to_csv('/content/drive/MyDrive/Enhancement_data/Legends/SDN/Engineer.csv', index=False)"
      ],
      "metadata": {
        "id": "0S2NlTepKkm5"
      },
      "execution_count": 25,
      "outputs": []
    },
    {
      "cell_type": "markdown",
      "source": [
        "11. Screamer Sea Dragon Legend set\n"
      ],
      "metadata": {
        "id": "x-HwRsy3K31G"
      }
    },
    {
      "cell_type": "code",
      "source": [
        "keyword_SDNL11 = Keyword_SDNL_curse  # Replace with the keyword you want to search for\n",
        "item_info_SDNL11 = get_item_info(keyword_SDNL11)\n",
        "\n",
        "row_numbers_str_11 = extract_row_numbers(item_info_SDNL11)"
      ],
      "metadata": {
        "id": "ZjUqTT4CK4Dv"
      },
      "execution_count": 26,
      "outputs": []
    },
    {
      "cell_type": "code",
      "source": [
        "curse_row_indices = [21810, 21811, 21812, 21813, 21814, 21815, 21816, 21817, 21818, 21819, 21820, 21821, 21822, 21823, 21824, # Soul Handler Orni\n",
        "               21765, 21766, 21767, 21768, 21769, 21770, 21771, 21772, 21773, 21774, 21775, 21776, 21777, 21778, 21779, # Soul Handler Chori\n",
        "               21840, 21841, 21842, 21843, 21844, 21845, 21846, 21847, 21848, 21849, 21850, 21851, 21852, 21853, 21854, # Soul Handler Salwar\n",
        "               21825, 21826, 21827, 21828, 21829, 21830, 21831, 21832, 21833, 21834, 21835, 21836, 21837, 21838, 21839, # Soul Handler Rakki\n",
        "               21795, 21796, 21797, 21798, 21799, 21800, 21801, 21802, 21803, 21804, 21805, 21806, 21807, 21808, 21809, # Soul Handler Jutti\n",
        "               21780, 21781, 21782, 21783, 21784, 21785, 21786, 21787, 21788, 21789, 21790, 21791, 21792, 21793, 21794, # Soul Handler Fan\n",
        "               21750, 21751, 21752, 21753, 21754, 21755, 21756, 21757, 21758, 21759, 21760, 21761, 21762, 21763, 21764] # Soul Handler Charm\n",
        "\n",
        "# Select specific 15 rows from all columns using the defined indices\n",
        "curse_selected_rows = df.iloc[curse_row_indices, :]\n",
        "\n",
        "# Save the selected rows to a new CSV file\n",
        "curse_selected_rows.to_csv('/content/drive/MyDrive/Enhancement_data/Legends/SDN/Screamer.csv', index=False)"
      ],
      "metadata": {
        "id": "B44hC8lNK4TA"
      },
      "execution_count": 27,
      "outputs": []
    },
    {
      "cell_type": "markdown",
      "source": [
        "12. Dancer Sea Dragon Legend set"
      ],
      "metadata": {
        "id": "Egf9vAZPK_Xn"
      }
    },
    {
      "cell_type": "code",
      "source": [
        "keyword_SDNL12 = keyword_SDNL_dance  # Replace with the keyword you want to search for\n",
        "item_info_SDNL12 = get_item_info(keyword_SDNL12)\n",
        "\n",
        "row_numbers_str_12 = extract_row_numbers(item_info_SDNL12)"
      ],
      "metadata": {
        "id": "F_4_LG-aK__p"
      },
      "execution_count": 28,
      "outputs": []
    },
    {
      "cell_type": "code",
      "source": [
        "dance_row_indices = [21045, 21046, 21047, 21048, 21049, 21050, 21051, 21052, 21053, 21054, 21055, 21056, 21057, 21058, 21059, # Dancer Orni\n",
        "               21015, 21016, 21017, 21018, 21019, 21020, 21021, 21022, 21023, 21024, 21025, 21026, 21027, 21028, 21029, # Dancer Chori\n",
        "               21075, 21076, 21077, 21078, 21079, 21080, 21081, 21082, 21083, 21084, 21085, 21086, 21087, 21088, 21089, # Dancer Salwar\n",
        "               21060, 21061, 21062, 21063, 21064, 21065, 21066, 21067, 21068, 21069, 21070, 21071, 21072, 21073, 21074, # Dancer Rakki\n",
        "               21030, 21031, 21032, 21033, 21034, 21035, 21036, 21037, 21038, 21039, 21040, 21041, 21042, 21043, 21044, # Dancer Jutti\n",
        "               20985, 20986, 20987, 20988, 20989, 20990, 20991, 20992, 20993, 20994, 20995, 20996, 20997, 20998, 20999, # Dancer Chakram\n",
        "               21000, 21001, 21002, 21003, 21004, 21005, 21006, 21007, 21008, 21009, 21010, 21011, 21012, 21013, 21014] # Dancer Charm\n",
        "\n",
        "# Select specific 15 rows from all columns using the defined indices\n",
        "dance_selected_rows = df.iloc[dance_row_indices, :]\n",
        "\n",
        "# Save the selected rows to a new CSV file\n",
        "dance_selected_rows.to_csv('/content/drive/MyDrive/Enhancement_data/Legends/SDN/Dancer.csv', index=False)"
      ],
      "metadata": {
        "id": "WgnorhnqK_qV"
      },
      "execution_count": 29,
      "outputs": []
    },
    {
      "cell_type": "markdown",
      "source": [
        "13. Chaser Sea Dragon Legend set"
      ],
      "metadata": {
        "id": "VGDjHfmxLLu1"
      }
    },
    {
      "cell_type": "code",
      "source": [
        "keyword_SDNL13 = keyword_SDNL_crow  # Replace with the keyword you want to search for\n",
        "item_info_SDNL13 = get_item_info(keyword_SDNL13)\n",
        "\n",
        "row_numbers_str_13 = extract_row_numbers(item_info_SDNL13)"
      ],
      "metadata": {
        "id": "_4sCUthCLMZr"
      },
      "execution_count": 30,
      "outputs": []
    },
    {
      "cell_type": "code",
      "source": [
        "crow_row_indices = [21675, 21676, 21677, 21678, 21679, 21680, 21681, 21682, 21683, 21684, 21685, 21686, 21687, 21688, 21689, # Slaughter Mask\n",
        "               21720, 21721, 21722, 21723, 21724, 21725, 21726, 21727, 21728, 21729, 21730, 21731, 21732, 21733, 21734, # Slaughter Vest\n",
        "               21660, 21661, 21662, 21663, 21664, 21665, 21666, 21667, 21668, 21669, 21670, 21671, 21672, 21673, 21674, # Slaughter Greaves\n",
        "               21735, 21736, 21737, 21738, 21739, 21740, 21741, 21742, 21743, 21744, 21745, 21746, 21747, 21748, 21749, # Slaughter Wrist Guards\n",
        "               21690, 21691, 21692, 21693, 21694, 21695, 21696, 21697, 21698, 21699, 21700, 21701, 21702, 21703, 21704, # Slaughter Sandals\n",
        "               21705, 21706, 21707, 21708, 21709, 21710, 21711, 21712, 21713, 21714, 21715, 21716, 21717, 21718, 21719, # Slaughter Scimitar\n",
        "               21645, 21646, 21647, 21648, 21649, 21650, 21651, 21652, 21653, 21654, 21655, 21656, 21657, 21658, 21659] # Slaughter Arm Blade\n",
        "\n",
        "# Select specific 15 rows from all columns using the defined indices\n",
        "crow_selected_rows = df.iloc[crow_row_indices, :]\n",
        "\n",
        "# Save the selected rows to a new CSV file\n",
        "crow_selected_rows.to_csv('/content/drive/MyDrive/Enhancement_data/Legends/SDN/Chaser.csv', index=False)"
      ],
      "metadata": {
        "id": "pRnnXEGaLMAl"
      },
      "execution_count": 31,
      "outputs": []
    },
    {
      "cell_type": "markdown",
      "source": [
        "14. Bringer Sea Dragon Legend set"
      ],
      "metadata": {
        "id": "EgkiMuLEEOFv"
      }
    },
    {
      "cell_type": "code",
      "source": [
        "keyword_SDNL14 = keyword_SDNL_medi  # Replace with the keyword you want to search for\n",
        "item_info_SDNL14 = get_item_info(keyword_SDNL14)\n",
        "\n",
        "row_numbers_str_14 = extract_row_numbers(item_info_SDNL14)"
      ],
      "metadata": {
        "id": "N8-Lt5scEj2R"
      },
      "execution_count": 32,
      "outputs": []
    },
    {
      "cell_type": "code",
      "source": [
        "medi_row_indices = [21480, 21481, 21482, 21483, 21484, 21485, 21486, 21487, 21488, 21489, 21490, 21491, 21492, 21493, 21494, # Meditation Mask\n",
        "               21510, 21511, 21512, 21513, 21514, 21515, 21516, 21517, 21518, 21519, 21520, 21521, 21522, 21523, 21524, # Meditation Vest\n",
        "               21465, 21466, 21467, 21468, 21469, 21470, 21471, 21472, 21473, 21474, 21475, 21476, 21477, 21478, 21479, # Meditation Greaves\n",
        "               21525, 21526, 21527, 21528, 21529, 21530, 21531, 21532, 21533, 21534, 21535, 21536, 21537, 21538, 21539, # Meditation Wrist Guards\n",
        "               21495, 21496, 21497, 21498, 21499, 21500, 21501, 21502, 21503, 21504, 21505, 21506, 21507, 21508, 21509, # Meditation Sandals\n",
        "               21450, 21451, 21452, 21453, 21454, 21455, 21456, 21457, 21458, 21459, 21460, 21461, 21462, 21463, 21464, # Meditation Dagger\n",
        "               21435, 21436, 21437, 21438, 21439, 21440, 21441, 21442, 21443, 21444, 21445, 21446, 21447, 21448, 21449] # Meditation Arm Blade\n",
        "\n",
        "# Select specific 15 rows from all columns using the defined indices\n",
        "medi_selected_rows = df.iloc[medi_row_indices, :]\n",
        "\n",
        "# Save the selected rows to a new CSV file\n",
        "medi_selected_rows.to_csv('/content/drive/MyDrive/Enhancement_data/Legends/SDN/Bringer.csv', index=False)"
      ],
      "metadata": {
        "id": "Bq-Hj1WvEjvt"
      },
      "execution_count": 33,
      "outputs": []
    },
    {
      "cell_type": "markdown",
      "source": [
        "15. Dragoon/Piercer Black Dragon Legend set"
      ],
      "metadata": {
        "id": "9mM6vXoNERpU"
      }
    },
    {
      "cell_type": "code",
      "source": [
        "keyword_SDNL15 = keyword_SDNL_spin  # Replace with the keyword you want to search for\n",
        "item_info_SDNL15 = get_item_info(keyword_SDNL15)\n",
        "\n",
        "row_numbers_str_15 = extract_row_numbers(item_info_SDNL15)"
      ],
      "metadata": {
        "id": "uoULO8XIEkP5"
      },
      "execution_count": 34,
      "outputs": []
    },
    {
      "cell_type": "code",
      "source": [
        "spin_row_indices = [22230, 22231, 22232, 22233, 22234, 22235, 22236, 22237, 22238, 22239, 22240, 22241, 22242, 22243, 22244, # Victoria Bonnet\n",
        "               22215, 22216, 22217, 22218, 22219, 22220, 22221, 22222, 22223, 22224, 22225, 22226, 22227, 22228, 22229, # Victoria Blouse\n",
        "               22275, 22276, 22277, 22278, 22279, 22280, 22281, 22282, 22283, 22284, 22285, 22286, 22287, 22288, 22289, # Victoria Knee Socks\n",
        "               22260, 22261, 22262, 22263, 22264, 22265, 22266, 22267, 22268, 22269, 22270, 22271, 22272, 22273, 22274, # Victoria Gloves\n",
        "               22290, 22291, 22292, 22293, 22294, 22295, 22296, 22297, 22298, 22299, 22300, 22301, 22302, 22303, 22304, # Victoria Sandals\n",
        "               22305, 22306, 22307, 22308, 22309, 22310, 22311, 22312, 22313, 22314, 22315, 22316, 22317, 22318, 22319, # Victoria Spear\n",
        "               22245, 22246, 22247, 22248, 22249, 22250, 22251, 22252, 22253, 22254, 22255, 22256, 22257, 22258, 22259] # Victoria Bracelets\n",
        "\n",
        "# Select specific 15 rows from all columns using the defined indices\n",
        "spin_selected_rows = df.iloc[spin_row_indices, :]\n",
        "\n",
        "# Save the selected rows to a new CSV file\n",
        "spin_selected_rows.to_csv('/content/drive/MyDrive/Enhancement_data/Legends/SDN/Dragoon.csv', index=False)"
      ],
      "metadata": {
        "id": "QbJgfh1yFn15"
      },
      "execution_count": 35,
      "outputs": []
    },
    {
      "cell_type": "markdown",
      "source": [
        "# Making the bulk csv file of legends set for all classes"
      ],
      "metadata": {
        "id": "SxsqOCqOMpAZ"
      }
    },
    {
      "cell_type": "markdown",
      "source": [
        "Create a function that combines all `str_row_indices` into an array and convert it into csv"
      ],
      "metadata": {
        "id": "C3X5qbLbPjaO"
      }
    },
    {
      "cell_type": "code",
      "source": [
        "# List containing all _row_indices\n",
        "all_selected_rows_list = [\n",
        "    SW_selected_rows, MERC_selected_rows, Sharp_selected_rows,\n",
        "    Acro_selected_rows, ele_selected_rows, bt_selected_rows,\n",
        "    priest_selected_rows, pala_selected_rows, slime_selected_rows,\n",
        "    duck_selected_rows, curse_selected_rows, dance_selected_rows,\n",
        "    crow_selected_rows, medi_selected_rows, spin_selected_rows\n",
        "]\n",
        "\n",
        "# Output CSV file path in Google Drive\n",
        "output_csv_file = 'SDNL_all_class.csv'\n",
        "\n",
        "with open('/content/drive/MyDrive/Enhancement_data/Legends/SDN/' + output_csv_file, 'w', newline='') as output_csv:\n",
        "    writer = csv.writer(output_csv)\n",
        "    # Write Header\n",
        "    writer.writerow(['Item Name', 'EnchantLevel', 'EnchantRatio', 'BreakRatio', 'MinDowngrade', 'MaxDowngrade', 'Gold'])\n",
        "    # Write rows corresponding to \"_selected_rows\" for each category\n",
        "    for selected_rows in all_selected_rows_list:\n",
        "        # Write each selected rows to the output CSV file\n",
        "        for _, row in selected_rows.iterrows():\n",
        "            writer.writerow(row)\n",
        "\n",
        "print(f\"Combined rows saved to '{output_csv_file}' in Google Drive\")"
      ],
      "metadata": {
        "colab": {
          "base_uri": "https://localhost:8080/"
        },
        "id": "KmJ4xdYDdrkz",
        "outputId": "3e7b885f-b8ad-4a24-b47f-03df8893961b"
      },
      "execution_count": 36,
      "outputs": [
        {
          "output_type": "stream",
          "name": "stdout",
          "text": [
            "Combined rows saved to 'SDNL_all_class.csv' in Google Drive\n"
          ]
        }
      ]
    }
  ]
}